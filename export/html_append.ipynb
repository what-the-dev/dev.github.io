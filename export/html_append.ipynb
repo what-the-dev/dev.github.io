{
 "cells": [
  {
   "cell_type": "markdown",
   "metadata": {},
   "source": [
    "# Manipulate html with Python"
   ]
  },
  {
   "cell_type": "code",
   "execution_count": 1,
   "metadata": {},
   "outputs": [],
   "source": [
    "from bs4 import BeautifulSoup\n",
    "import datetime"
   ]
  },
  {
   "cell_type": "markdown",
   "metadata": {},
   "source": [
    "## Setup Template\n",
    "\n",
    "### Open Page Template HTML file\n",
    "\n",
    "- Turn into soup\n",
    "- Find the jupyter-content\n",
    "\n",
    "- This is the template file"
   ]
  },
  {
   "cell_type": "code",
   "execution_count": 2,
   "metadata": {},
   "outputs": [],
   "source": [
    "with open('0_jupyter_template.html') as tf:\n",
    "    temp_soup = BeautifulSoup(tf, 'html.parser')\n",
    "\n",
    "# find the tag where DATA needs to be inserted INTO\n",
    "notebook_insert = temp_soup.find('div', id=\"jupyter-content\")"
   ]
  },
  {
   "cell_type": "markdown",
   "metadata": {},
   "source": [
    "### Open Notebook HTML file\n",
    "\n",
    "- Turn into soup\n",
    "- Find the notebook content\n",
    "\n",
    "\n",
    "- **insert** the notebook content\n",
    "- **save** as html file"
   ]
  },
  {
   "cell_type": "code",
   "execution_count": 6,
   "metadata": {},
   "outputs": [],
   "source": [
    "notebook_file = 'notebook_html/08_groupby.html'\n",
    "\n",
    "with open(notebook_file) as in_file:\n",
    "    data_soup = BeautifulSoup(in_file, 'html.parser')\n",
    "\n",
    "# find the notebook content in the <body>\n",
    "# <div class=\"border-box-sizing\" id=\"notebook\" tabindex=\"-1\">\n",
    "notebook = data_soup.find('div', id=\"notebook\")\n",
    "\n",
    "# insert data into the TEMPLATE\n",
    "notebook_insert.insert(1, notebook)\n",
    "\n",
    "# create a file name based on current time\n",
    "time = datetime.datetime.now().strftime(\"%H%M%S\")\n",
    "file = \"08_groupby_{}.html\".format(time)\n",
    "\n",
    "# save the new file\n",
    "with open(file, \"wt\") as out_file:\n",
    "    out_file.write(str(temp_soup))\n",
    "    \n",
    "# close files\n",
    "in_file.close()\n",
    "out_file.close()"
   ]
  },
  {
   "cell_type": "code",
   "execution_count": 7,
   "metadata": {},
   "outputs": [],
   "source": [
    "tf.close()"
   ]
  }
 ],
 "metadata": {
  "kernelspec": {
   "display_name": "Python 3",
   "language": "python",
   "name": "python3"
  },
  "language_info": {
   "codemirror_mode": {
    "name": "ipython",
    "version": 3
   },
   "file_extension": ".py",
   "mimetype": "text/x-python",
   "name": "python",
   "nbconvert_exporter": "python",
   "pygments_lexer": "ipython3",
   "version": "3.6.4"
  }
 },
 "nbformat": 4,
 "nbformat_minor": 2
}
