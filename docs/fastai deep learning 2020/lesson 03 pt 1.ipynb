{
 "cells": [
  {
   "cell_type": "markdown",
   "metadata": {},
   "source": [
    "# Lesson 3: Under the Hood: Training a Digit Classifier\n",
    "\n",
    "This notebook will go over *some* of the practical material discussed in [lesson 3](https://course.fast.ai/videos/?lesson=1) of the fastai 2020 course, namely, some different ways of training a digit classifier using the MNIST data set."
   ]
  },
  {
   "cell_type": "markdown",
   "metadata": {},
   "source": [
    "## Primer\n",
    "- load in some data\n",
    "- visualise it"
   ]
  },
  {
   "cell_type": "code",
   "execution_count": 1,
   "metadata": {},
   "outputs": [],
   "source": [
    "from fastai.vision.all import *\n",
    "from pathlib import Path"
   ]
  },
  {
   "cell_type": "markdown",
   "metadata": {},
   "source": [
    "For this model we are going to create a digit classifier that will be able to classify an image as a 3 or a 7. Fastai has a sample of the MNIST dataset that we will be using.\n",
    "\n",
    "First, let's load the data and check that there are indeed, 3's an 7's in one of the folders. The folder layout is fairly typical, separate training and validation sets."
   ]
  },
  {
   "cell_type": "code",
   "execution_count": 2,
   "metadata": {
    "scrolled": true
   },
   "outputs": [],
   "source": [
    "path = untar_data(URLs.MNIST_SAMPLE)"
   ]
  },
  {
   "cell_type": "code",
   "execution_count": 3,
   "metadata": {
    "scrolled": true
   },
   "outputs": [
    {
     "data": {
      "text/plain": [
       "(#2) [Path('/storage/data/mnist_sample/train/7'),Path('/storage/data/mnist_sample/train/3')]"
      ]
     },
     "execution_count": 3,
     "metadata": {},
     "output_type": "execute_result"
    }
   ],
   "source": [
    "(path/'train').ls()"
   ]
  },
  {
   "cell_type": "markdown",
   "metadata": {},
   "source": [
    "### Visualising Data\n",
    "\n",
    "There are a number of ways we can check our data to get a better understanding of how it is structured and how it looks\n",
    "\n",
    "1. Take a look inside one of the folders and check file names\n",
    "2. Use PIL to open one of the images\n",
    "3. Use PyTorch/Numpy to check the tensor/array values\n",
    "4. Get creative"
   ]
  },
  {
   "cell_type": "code",
   "execution_count": 4,
   "metadata": {
    "scrolled": true
   },
   "outputs": [
    {
     "data": {
      "text/plain": [
       "(#6131) [Path('/storage/data/mnist_sample/train/3/10.png'),Path('/storage/data/mnist_sample/train/3/10000.png'),Path('/storage/data/mnist_sample/train/3/10011.png'),Path('/storage/data/mnist_sample/train/3/10031.png'),Path('/storage/data/mnist_sample/train/3/10034.png'),Path('/storage/data/mnist_sample/train/3/10042.png'),Path('/storage/data/mnist_sample/train/3/10052.png'),Path('/storage/data/mnist_sample/train/3/1007.png'),Path('/storage/data/mnist_sample/train/3/10074.png'),Path('/storage/data/mnist_sample/train/3/10091.png')...]"
      ]
     },
     "execution_count": 4,
     "metadata": {},
     "output_type": "execute_result"
    }
   ],
   "source": [
    "# 1 - check file names\n",
    "threes = (path/'train'/'3').ls().sorted()\n",
    "sevens = (path/'train'/'7').ls().sorted()\n",
    "threes"
   ]
  },
  {
   "cell_type": "code",
   "execution_count": 5,
   "metadata": {},
   "outputs": [
    {
     "data": {
      "image/png": "[encoded data removed]",
      "text/plain": [
       "<PIL.PngImagePlugin.PngImageFile image mode=L size=28x28 at 0x7F2070B34B80>"
      ]
     },
     "execution_count": 5,
     "metadata": {},
     "output_type": "execute_result"
    }
   ],
   "source": [
    "# 2 - use PIL to open image\n",
    "im3_path = threes[1]\n",
    "im3 = Image.open(im3_path)\n",
    "im3"
   ]
  },
  {
   "cell_type": "code",
   "execution_count": 6,
   "metadata": {},
   "outputs": [
    {
     "data": {
      "text/plain": [
       "tensor([[  0,   0,   0,   0,   0,   0],\n",
       "        [  0,   0,   0,   0,   0,  29],\n",
       "        [  0,   0,   0,  48, 166, 224],\n",
       "        [  0,  93, 244, 249, 253, 187],\n",
       "        [  0, 107, 253, 253, 230,  48],\n",
       "        [  0,   3,  20,  20,  15,   0]], dtype=torch.uint8)"
      ]
     },
     "execution_count": 6,
     "metadata": {},
     "output_type": "execute_result"
    }
   ],
   "source": [
    "# 3 - use PyTorch to view tensor values\n",
    "tensor(im3)[4:10,4:10]"
   ]
  },
  {
   "cell_type": "code",
   "execution_count": 7,
   "metadata": {},
   "outputs": [
    {
     "data": {
      "text/html": [
       "<style  type=\"text/css\" >\n",
       "#T_71814984_fd78_11ea_966e_0242ac110002row0_col0,#T_71814984_fd78_11ea_966e_0242ac110002row0_col1,#T_71814984_fd78_11ea_966e_0242ac110002row0_col2,#T_71814984_fd78_11ea_966e_0242ac110002row0_col3,#T_71814984_fd78_11ea_966e_0242ac110002row0_col4,#T_71814984_fd78_11ea_966e_0242ac110002row0_col5,#T_71814984_fd78_11ea_966e_0242ac110002row0_col6,#T_71814984_fd78_11ea_966e_0242ac110002row0_col7,#T_71814984_fd78_11ea_966e_0242ac110002row0_col8,#T_71814984_fd78_11ea_966e_0242ac110002row0_col9,#T_71814984_fd78_11ea_966e_0242ac110002row0_col10,#T_71814984_fd78_11ea_966e_0242ac110002row0_col11,#T_71814984_fd78_11ea_966e_0242ac110002row0_col12,#T_71814984_fd78_11ea_966e_0242ac110002row0_col13,#T_71814984_fd78_11ea_966e_0242ac110002row0_col14,#T_71814984_fd78_11ea_966e_0242ac110002row0_col15,#T_71814984_fd78_11ea_966e_0242ac110002row0_col16,#T_71814984_fd78_11ea_966e_0242ac110002row0_col17,#T_71814984_fd78_11ea_966e_0242ac110002row1_col0,#T_71814984_fd78_11ea_966e_0242ac110002row1_col1,#T_71814984_fd78_11ea_966e_0242ac110002row1_col2,#T_71814984_fd78_11ea_966e_0242ac110002row1_col3,#T_71814984_fd78_11ea_966e_0242ac110002row1_col4,#T_71814984_fd78_11ea_966e_0242ac110002row1_col15,#T_71814984_fd78_11ea_966e_0242ac110002row1_col16,#T_71814984_fd78_11ea_966e_0242ac110002row1_col17,#T_71814984_fd78_11ea_966e_0242ac110002row2_col0,#T_71814984_fd78_11ea_966e_0242ac110002row2_col1,#T_71814984_fd78_11ea_966e_0242ac110002row2_col2,#T_71814984_fd78_11ea_966e_0242ac110002row2_col15,#T_71814984_fd78_11ea_966e_0242ac110002row2_col16,#T_71814984_fd78_11ea_966e_0242ac110002row2_col17,#T_71814984_fd78_11ea_966e_0242ac110002row3_col0,#T_71814984_fd78_11ea_966e_0242ac110002row3_col15,#T_71814984_fd78_11ea_966e_0242ac110002row3_col16,#T_71814984_fd78_11ea_966e_0242ac110002row3_col17,#T_71814984_fd78_11ea_966e_0242ac110002row4_col0,#T_71814984_fd78_11ea_966e_0242ac110002row4_col6,#T_71814984_fd78_11ea_966e_0242ac110002row4_col7,#T_71814984_fd78_11ea_966e_0242ac110002row4_col8,#T_71814984_fd78_11ea_966e_0242ac110002row4_col9,#T_71814984_fd78_11ea_966e_0242ac110002row4_col10,#T_71814984_fd78_11ea_966e_0242ac110002row4_col15,#T_71814984_fd78_11ea_966e_0242ac110002row4_col16,#T_71814984_fd78_11ea_966e_0242ac110002row4_col17,#T_71814984_fd78_11ea_966e_0242ac110002row5_col0,#T_71814984_fd78_11ea_966e_0242ac110002row5_col5,#T_71814984_fd78_11ea_966e_0242ac110002row5_col6,#T_71814984_fd78_11ea_966e_0242ac110002row5_col7,#T_71814984_fd78_11ea_966e_0242ac110002row5_col8,#T_71814984_fd78_11ea_966e_0242ac110002row5_col9,#T_71814984_fd78_11ea_966e_0242ac110002row5_col15,#T_71814984_fd78_11ea_966e_0242ac110002row5_col16,#T_71814984_fd78_11ea_966e_0242ac110002row5_col17,#T_71814984_fd78_11ea_966e_0242ac110002row6_col0,#T_71814984_fd78_11ea_966e_0242ac110002row6_col1,#T_71814984_fd78_11ea_966e_0242ac110002row6_col2,#T_71814984_fd78_11ea_966e_0242ac110002row6_col3,#T_71814984_fd78_11ea_966e_0242ac110002row6_col4,#T_71814984_fd78_11ea_966e_0242ac110002row6_col5,#T_71814984_fd78_11ea_966e_0242ac110002row6_col6,#T_71814984_fd78_11ea_966e_0242ac110002row6_col7,#T_71814984_fd78_11ea_966e_0242ac110002row6_col8,#T_71814984_fd78_11ea_966e_0242ac110002row6_col9,#T_71814984_fd78_11ea_966e_0242ac110002row6_col14,#T_71814984_fd78_11ea_966e_0242ac110002row6_col15,#T_71814984_fd78_11ea_966e_0242ac110002row6_col16,#T_71814984_fd78_11ea_966e_0242ac110002row6_col17,#T_71814984_fd78_11ea_966e_0242ac110002row7_col0,#T_71814984_fd78_11ea_966e_0242ac110002row7_col1,#T_71814984_fd78_11ea_966e_0242ac110002row7_col2,#T_71814984_fd78_11ea_966e_0242ac110002row7_col3,#T_71814984_fd78_11ea_966e_0242ac110002row7_col4,#T_71814984_fd78_11ea_966e_0242ac110002row7_col5,#T_71814984_fd78_11ea_966e_0242ac110002row7_col6,#T_71814984_fd78_11ea_966e_0242ac110002row7_col13,#T_71814984_fd78_11ea_966e_0242ac110002row7_col14,#T_71814984_fd78_11ea_966e_0242ac110002row7_col15,#T_71814984_fd78_11ea_966e_0242ac110002row7_col16,#T_71814984_fd78_11ea_966e_0242ac110002row7_col17,#T_71814984_fd78_11ea_966e_0242ac110002row8_col0,#T_71814984_fd78_11ea_966e_0242ac110002row8_col1,#T_71814984_fd78_11ea_966e_0242ac110002row8_col2,#T_71814984_fd78_11ea_966e_0242ac110002row8_col3,#T_71814984_fd78_11ea_966e_0242ac110002row8_col4,#T_71814984_fd78_11ea_966e_0242ac110002row8_col13,#T_71814984_fd78_11ea_966e_0242ac110002row8_col14,#T_71814984_fd78_11ea_966e_0242ac110002row8_col15,#T_71814984_fd78_11ea_966e_0242ac110002row8_col16,#T_71814984_fd78_11ea_966e_0242ac110002row8_col17,#T_71814984_fd78_11ea_966e_0242ac110002row9_col0,#T_71814984_fd78_11ea_966e_0242ac110002row9_col1,#T_71814984_fd78_11ea_966e_0242ac110002row9_col2,#T_71814984_fd78_11ea_966e_0242ac110002row9_col3,#T_71814984_fd78_11ea_966e_0242ac110002row9_col4,#T_71814984_fd78_11ea_966e_0242ac110002row9_col16,#T_71814984_fd78_11ea_966e_0242ac110002row9_col17,#T_71814984_fd78_11ea_966e_0242ac110002row10_col0,#T_71814984_fd78_11ea_966e_0242ac110002row10_col1,#T_71814984_fd78_11ea_966e_0242ac110002row10_col2,#T_71814984_fd78_11ea_966e_0242ac110002row10_col3,#T_71814984_fd78_11ea_966e_0242ac110002row10_col4,#T_71814984_fd78_11ea_966e_0242ac110002row10_col5,#T_71814984_fd78_11ea_966e_0242ac110002row10_col6,#T_71814984_fd78_11ea_966e_0242ac110002row10_col17{\n",
       "            font-size:  6pt;\n",
       "            background-color:  #ffffff;\n",
       "            color:  #000000;\n",
       "        }#T_71814984_fd78_11ea_966e_0242ac110002row1_col5{\n",
       "            font-size:  6pt;\n",
       "            background-color:  #efefef;\n",
       "            color:  #000000;\n",
       "        }#T_71814984_fd78_11ea_966e_0242ac110002row1_col6,#T_71814984_fd78_11ea_966e_0242ac110002row1_col13{\n",
       "            font-size:  6pt;\n",
       "            background-color:  #7c7c7c;\n",
       "            color:  #000000;\n",
       "        }#T_71814984_fd78_11ea_966e_0242ac110002row1_col7{\n",
       "            font-size:  6pt;\n",
       "            background-color:  #4a4a4a;\n",
       "            color:  #f1f1f1;\n",
       "        }#T_71814984_fd78_11ea_966e_0242ac110002row1_col8,#T_71814984_fd78_11ea_966e_0242ac110002row1_col9,#T_71814984_fd78_11ea_966e_0242ac110002row1_col10,#T_71814984_fd78_11ea_966e_0242ac110002row2_col5,#T_71814984_fd78_11ea_966e_0242ac110002row2_col6,#T_71814984_fd78_11ea_966e_0242ac110002row2_col7,#T_71814984_fd78_11ea_966e_0242ac110002row2_col11,#T_71814984_fd78_11ea_966e_0242ac110002row2_col12,#T_71814984_fd78_11ea_966e_0242ac110002row2_col13,#T_71814984_fd78_11ea_966e_0242ac110002row3_col4,#T_71814984_fd78_11ea_966e_0242ac110002row3_col12,#T_71814984_fd78_11ea_966e_0242ac110002row3_col13,#T_71814984_fd78_11ea_966e_0242ac110002row4_col1,#T_71814984_fd78_11ea_966e_0242ac110002row4_col2,#T_71814984_fd78_11ea_966e_0242ac110002row4_col3,#T_71814984_fd78_11ea_966e_0242ac110002row4_col12,#T_71814984_fd78_11ea_966e_0242ac110002row4_col13,#T_71814984_fd78_11ea_966e_0242ac110002row5_col12,#T_71814984_fd78_11ea_966e_0242ac110002row6_col11,#T_71814984_fd78_11ea_966e_0242ac110002row9_col11,#T_71814984_fd78_11ea_966e_0242ac110002row10_col11,#T_71814984_fd78_11ea_966e_0242ac110002row10_col12,#T_71814984_fd78_11ea_966e_0242ac110002row10_col13,#T_71814984_fd78_11ea_966e_0242ac110002row10_col14,#T_71814984_fd78_11ea_966e_0242ac110002row10_col15,#T_71814984_fd78_11ea_966e_0242ac110002row10_col16{\n",
       "            font-size:  6pt;\n",
       "            background-color:  #000000;\n",
       "            color:  #f1f1f1;\n",
       "        }#T_71814984_fd78_11ea_966e_0242ac110002row1_col11{\n",
       "            font-size:  6pt;\n",
       "            background-color:  #606060;\n",
       "            color:  #f1f1f1;\n",
       "        }#T_71814984_fd78_11ea_966e_0242ac110002row1_col12{\n",
       "            font-size:  6pt;\n",
       "            background-color:  #4d4d4d;\n",
       "            color:  #f1f1f1;\n",
       "        }#T_71814984_fd78_11ea_966e_0242ac110002row1_col14{\n",
       "            font-size:  6pt;\n",
       "            background-color:  #bbbbbb;\n",
       "            color:  #000000;\n",
       "        }#T_71814984_fd78_11ea_966e_0242ac110002row2_col3{\n",
       "            font-size:  6pt;\n",
       "            background-color:  #e4e4e4;\n",
       "            color:  #000000;\n",
       "        }#T_71814984_fd78_11ea_966e_0242ac110002row2_col4,#T_71814984_fd78_11ea_966e_0242ac110002row8_col6{\n",
       "            font-size:  6pt;\n",
       "            background-color:  #6b6b6b;\n",
       "            color:  #000000;\n",
       "        }#T_71814984_fd78_11ea_966e_0242ac110002row2_col8,#T_71814984_fd78_11ea_966e_0242ac110002row2_col14,#T_71814984_fd78_11ea_966e_0242ac110002row3_col14{\n",
       "            font-size:  6pt;\n",
       "            background-color:  #171717;\n",
       "            color:  #f1f1f1;\n",
       "        }#T_71814984_fd78_11ea_966e_0242ac110002row2_col9,#T_71814984_fd78_11ea_966e_0242ac110002row3_col11{\n",
       "            font-size:  6pt;\n",
       "            background-color:  #4b4b4b;\n",
       "            color:  #f1f1f1;\n",
       "        }#T_71814984_fd78_11ea_966e_0242ac110002row2_col10,#T_71814984_fd78_11ea_966e_0242ac110002row7_col10,#T_71814984_fd78_11ea_966e_0242ac110002row8_col8,#T_71814984_fd78_11ea_966e_0242ac110002row8_col10,#T_71814984_fd78_11ea_966e_0242ac110002row9_col8,#T_71814984_fd78_11ea_966e_0242ac110002row9_col10{\n",
       "            font-size:  6pt;\n",
       "            background-color:  #010101;\n",
       "            color:  #f1f1f1;\n",
       "        }#T_71814984_fd78_11ea_966e_0242ac110002row3_col1{\n",
       "            font-size:  6pt;\n",
       "            background-color:  #272727;\n",
       "            color:  #f1f1f1;\n",
       "        }#T_71814984_fd78_11ea_966e_0242ac110002row3_col2{\n",
       "            font-size:  6pt;\n",
       "            background-color:  #0a0a0a;\n",
       "            color:  #f1f1f1;\n",
       "        }#T_71814984_fd78_11ea_966e_0242ac110002row3_col3{\n",
       "            font-size:  6pt;\n",
       "            background-color:  #050505;\n",
       "            color:  #f1f1f1;\n",
       "        }#T_71814984_fd78_11ea_966e_0242ac110002row3_col5{\n",
       "            font-size:  6pt;\n",
       "            background-color:  #333333;\n",
       "            color:  #f1f1f1;\n",
       "        }#T_71814984_fd78_11ea_966e_0242ac110002row3_col6{\n",
       "            font-size:  6pt;\n",
       "            background-color:  #e6e6e6;\n",
       "            color:  #000000;\n",
       "        }#T_71814984_fd78_11ea_966e_0242ac110002row3_col7,#T_71814984_fd78_11ea_966e_0242ac110002row3_col10{\n",
       "            font-size:  6pt;\n",
       "            background-color:  #fafafa;\n",
       "            color:  #000000;\n",
       "        }#T_71814984_fd78_11ea_966e_0242ac110002row3_col8{\n",
       "            font-size:  6pt;\n",
       "            background-color:  #fbfbfb;\n",
       "            color:  #000000;\n",
       "        }#T_71814984_fd78_11ea_966e_0242ac110002row3_col9{\n",
       "            font-size:  6pt;\n",
       "            background-color:  #fdfdfd;\n",
       "            color:  #000000;\n",
       "        }#T_71814984_fd78_11ea_966e_0242ac110002row4_col4{\n",
       "            font-size:  6pt;\n",
       "            background-color:  #1b1b1b;\n",
       "            color:  #f1f1f1;\n",
       "        }#T_71814984_fd78_11ea_966e_0242ac110002row4_col5{\n",
       "            font-size:  6pt;\n",
       "            background-color:  #e0e0e0;\n",
       "            color:  #000000;\n",
       "        }#T_71814984_fd78_11ea_966e_0242ac110002row4_col11{\n",
       "            font-size:  6pt;\n",
       "            background-color:  #4e4e4e;\n",
       "            color:  #f1f1f1;\n",
       "        }#T_71814984_fd78_11ea_966e_0242ac110002row4_col14{\n",
       "            font-size:  6pt;\n",
       "            background-color:  #767676;\n",
       "            color:  #000000;\n",
       "        }#T_71814984_fd78_11ea_966e_0242ac110002row5_col1{\n",
       "            font-size:  6pt;\n",
       "            background-color:  #fcfcfc;\n",
       "            color:  #000000;\n",
       "        }#T_71814984_fd78_11ea_966e_0242ac110002row5_col2,#T_71814984_fd78_11ea_966e_0242ac110002row5_col3{\n",
       "            font-size:  6pt;\n",
       "            background-color:  #f6f6f6;\n",
       "            color:  #000000;\n",
       "        }#T_71814984_fd78_11ea_966e_0242ac110002row5_col4,#T_71814984_fd78_11ea_966e_0242ac110002row7_col7{\n",
       "            font-size:  6pt;\n",
       "            background-color:  #f8f8f8;\n",
       "            color:  #000000;\n",
       "        }#T_71814984_fd78_11ea_966e_0242ac110002row5_col10,#T_71814984_fd78_11ea_966e_0242ac110002row10_col7{\n",
       "            font-size:  6pt;\n",
       "            background-color:  #e8e8e8;\n",
       "            color:  #000000;\n",
       "        }#T_71814984_fd78_11ea_966e_0242ac110002row5_col11{\n",
       "            font-size:  6pt;\n",
       "            background-color:  #222222;\n",
       "            color:  #f1f1f1;\n",
       "        }#T_71814984_fd78_11ea_966e_0242ac110002row5_col13,#T_71814984_fd78_11ea_966e_0242ac110002row6_col12{\n",
       "            font-size:  6pt;\n",
       "            background-color:  #090909;\n",
       "            color:  #f1f1f1;\n",
       "        }#T_71814984_fd78_11ea_966e_0242ac110002row5_col14{\n",
       "            font-size:  6pt;\n",
       "            background-color:  #d0d0d0;\n",
       "            color:  #000000;\n",
       "        }#T_71814984_fd78_11ea_966e_0242ac110002row6_col10,#T_71814984_fd78_11ea_966e_0242ac110002row7_col11,#T_71814984_fd78_11ea_966e_0242ac110002row9_col6{\n",
       "            font-size:  6pt;\n",
       "            background-color:  #060606;\n",
       "            color:  #f1f1f1;\n",
       "        }#T_71814984_fd78_11ea_966e_0242ac110002row6_col13{\n",
       "            font-size:  6pt;\n",
       "            background-color:  #979797;\n",
       "            color:  #000000;\n",
       "        }#T_71814984_fd78_11ea_966e_0242ac110002row7_col8{\n",
       "            font-size:  6pt;\n",
       "            background-color:  #b6b6b6;\n",
       "            color:  #000000;\n",
       "        }#T_71814984_fd78_11ea_966e_0242ac110002row7_col9{\n",
       "            font-size:  6pt;\n",
       "            background-color:  #252525;\n",
       "            color:  #f1f1f1;\n",
       "        }#T_71814984_fd78_11ea_966e_0242ac110002row7_col12{\n",
       "            font-size:  6pt;\n",
       "            background-color:  #999999;\n",
       "            color:  #000000;\n",
       "        }#T_71814984_fd78_11ea_966e_0242ac110002row8_col5{\n",
       "            font-size:  6pt;\n",
       "            background-color:  #f9f9f9;\n",
       "            color:  #000000;\n",
       "        }#T_71814984_fd78_11ea_966e_0242ac110002row8_col7{\n",
       "            font-size:  6pt;\n",
       "            background-color:  #101010;\n",
       "            color:  #f1f1f1;\n",
       "        }#T_71814984_fd78_11ea_966e_0242ac110002row8_col9,#T_71814984_fd78_11ea_966e_0242ac110002row9_col9{\n",
       "            font-size:  6pt;\n",
       "            background-color:  #020202;\n",
       "            color:  #f1f1f1;\n",
       "        }#T_71814984_fd78_11ea_966e_0242ac110002row8_col11{\n",
       "            font-size:  6pt;\n",
       "            background-color:  #545454;\n",
       "            color:  #f1f1f1;\n",
       "        }#T_71814984_fd78_11ea_966e_0242ac110002row8_col12{\n",
       "            font-size:  6pt;\n",
       "            background-color:  #f1f1f1;\n",
       "            color:  #000000;\n",
       "        }#T_71814984_fd78_11ea_966e_0242ac110002row9_col5{\n",
       "            font-size:  6pt;\n",
       "            background-color:  #f7f7f7;\n",
       "            color:  #000000;\n",
       "        }#T_71814984_fd78_11ea_966e_0242ac110002row9_col7{\n",
       "            font-size:  6pt;\n",
       "            background-color:  #030303;\n",
       "            color:  #f1f1f1;\n",
       "        }#T_71814984_fd78_11ea_966e_0242ac110002row9_col12{\n",
       "            font-size:  6pt;\n",
       "            background-color:  #181818;\n",
       "            color:  #f1f1f1;\n",
       "        }#T_71814984_fd78_11ea_966e_0242ac110002row9_col13{\n",
       "            font-size:  6pt;\n",
       "            background-color:  #303030;\n",
       "            color:  #f1f1f1;\n",
       "        }#T_71814984_fd78_11ea_966e_0242ac110002row9_col14{\n",
       "            font-size:  6pt;\n",
       "            background-color:  #a9a9a9;\n",
       "            color:  #000000;\n",
       "        }#T_71814984_fd78_11ea_966e_0242ac110002row9_col15{\n",
       "            font-size:  6pt;\n",
       "            background-color:  #fefefe;\n",
       "            color:  #000000;\n",
       "        }#T_71814984_fd78_11ea_966e_0242ac110002row10_col8,#T_71814984_fd78_11ea_966e_0242ac110002row10_col9{\n",
       "            font-size:  6pt;\n",
       "            background-color:  #bababa;\n",
       "            color:  #000000;\n",
       "        }#T_71814984_fd78_11ea_966e_0242ac110002row10_col10{\n",
       "            font-size:  6pt;\n",
       "            background-color:  #393939;\n",
       "            color:  #f1f1f1;\n",
       "        }</style><table id=\"T_71814984_fd78_11ea_966e_0242ac110002\" ><thead>    <tr>        <th class=\"blank level0\" ></th>        <th class=\"col_heading level0 col0\" >0</th>        <th class=\"col_heading level0 col1\" >1</th>        <th class=\"col_heading level0 col2\" >2</th>        <th class=\"col_heading level0 col3\" >3</th>        <th class=\"col_heading level0 col4\" >4</th>        <th class=\"col_heading level0 col5\" >5</th>        <th class=\"col_heading level0 col6\" >6</th>        <th class=\"col_heading level0 col7\" >7</th>        <th class=\"col_heading level0 col8\" >8</th>        <th class=\"col_heading level0 col9\" >9</th>        <th class=\"col_heading level0 col10\" >10</th>        <th class=\"col_heading level0 col11\" >11</th>        <th class=\"col_heading level0 col12\" >12</th>        <th class=\"col_heading level0 col13\" >13</th>        <th class=\"col_heading level0 col14\" >14</th>        <th class=\"col_heading level0 col15\" >15</th>        <th class=\"col_heading level0 col16\" >16</th>        <th class=\"col_heading level0 col17\" >17</th>    </tr></thead><tbody>\n",
       "                <tr>\n",
       "                        <th id=\"T_71814984_fd78_11ea_966e_0242ac110002level0_row0\" class=\"row_heading level0 row0\" >0</th>\n",
       "                        <td id=\"T_71814984_fd78_11ea_966e_0242ac110002row0_col0\" class=\"data row0 col0\" >0</td>\n",
       "                        <td id=\"T_71814984_fd78_11ea_966e_0242ac110002row0_col1\" class=\"data row0 col1\" >0</td>\n",
       "                        <td id=\"T_71814984_fd78_11ea_966e_0242ac110002row0_col2\" class=\"data row0 col2\" >0</td>\n",
       "                        <td id=\"T_71814984_fd78_11ea_966e_0242ac110002row0_col3\" class=\"data row0 col3\" >0</td>\n",
       "                        <td id=\"T_71814984_fd78_11ea_966e_0242ac110002row0_col4\" class=\"data row0 col4\" >0</td>\n",
       "                        <td id=\"T_71814984_fd78_11ea_966e_0242ac110002row0_col5\" class=\"data row0 col5\" >0</td>\n",
       "                        <td id=\"T_71814984_fd78_11ea_966e_0242ac110002row0_col6\" class=\"data row0 col6\" >0</td>\n",
       "                        <td id=\"T_71814984_fd78_11ea_966e_0242ac110002row0_col7\" class=\"data row0 col7\" >0</td>\n",
       "                        <td id=\"T_71814984_fd78_11ea_966e_0242ac110002row0_col8\" class=\"data row0 col8\" >0</td>\n",
       "                        <td id=\"T_71814984_fd78_11ea_966e_0242ac110002row0_col9\" class=\"data row0 col9\" >0</td>\n",
       "                        <td id=\"T_71814984_fd78_11ea_966e_0242ac110002row0_col10\" class=\"data row0 col10\" >0</td>\n",
       "                        <td id=\"T_71814984_fd78_11ea_966e_0242ac110002row0_col11\" class=\"data row0 col11\" >0</td>\n",
       "                        <td id=\"T_71814984_fd78_11ea_966e_0242ac110002row0_col12\" class=\"data row0 col12\" >0</td>\n",
       "                        <td id=\"T_71814984_fd78_11ea_966e_0242ac110002row0_col13\" class=\"data row0 col13\" >0</td>\n",
       "                        <td id=\"T_71814984_fd78_11ea_966e_0242ac110002row0_col14\" class=\"data row0 col14\" >0</td>\n",
       "                        <td id=\"T_71814984_fd78_11ea_966e_0242ac110002row0_col15\" class=\"data row0 col15\" >0</td>\n",
       "                        <td id=\"T_71814984_fd78_11ea_966e_0242ac110002row0_col16\" class=\"data row0 col16\" >0</td>\n",
       "                        <td id=\"T_71814984_fd78_11ea_966e_0242ac110002row0_col17\" class=\"data row0 col17\" >0</td>\n",
       "            </tr>\n",
       "            <tr>\n",
       "                        <th id=\"T_71814984_fd78_11ea_966e_0242ac110002level0_row1\" class=\"row_heading level0 row1\" >1</th>\n",
       "                        <td id=\"T_71814984_fd78_11ea_966e_0242ac110002row1_col0\" class=\"data row1 col0\" >0</td>\n",
       "                        <td id=\"T_71814984_fd78_11ea_966e_0242ac110002row1_col1\" class=\"data row1 col1\" >0</td>\n",
       "                        <td id=\"T_71814984_fd78_11ea_966e_0242ac110002row1_col2\" class=\"data row1 col2\" >0</td>\n",
       "                        <td id=\"T_71814984_fd78_11ea_966e_0242ac110002row1_col3\" class=\"data row1 col3\" >0</td>\n",
       "                        <td id=\"T_71814984_fd78_11ea_966e_0242ac110002row1_col4\" class=\"data row1 col4\" >0</td>\n",
       "                        <td id=\"T_71814984_fd78_11ea_966e_0242ac110002row1_col5\" class=\"data row1 col5\" >29</td>\n",
       "                        <td id=\"T_71814984_fd78_11ea_966e_0242ac110002row1_col6\" class=\"data row1 col6\" >150</td>\n",
       "                        <td id=\"T_71814984_fd78_11ea_966e_0242ac110002row1_col7\" class=\"data row1 col7\" >195</td>\n",
       "                        <td id=\"T_71814984_fd78_11ea_966e_0242ac110002row1_col8\" class=\"data row1 col8\" >254</td>\n",
       "                        <td id=\"T_71814984_fd78_11ea_966e_0242ac110002row1_col9\" class=\"data row1 col9\" >255</td>\n",
       "                        <td id=\"T_71814984_fd78_11ea_966e_0242ac110002row1_col10\" class=\"data row1 col10\" >254</td>\n",
       "                        <td id=\"T_71814984_fd78_11ea_966e_0242ac110002row1_col11\" class=\"data row1 col11\" >176</td>\n",
       "                        <td id=\"T_71814984_fd78_11ea_966e_0242ac110002row1_col12\" class=\"data row1 col12\" >193</td>\n",
       "                        <td id=\"T_71814984_fd78_11ea_966e_0242ac110002row1_col13\" class=\"data row1 col13\" >150</td>\n",
       "                        <td id=\"T_71814984_fd78_11ea_966e_0242ac110002row1_col14\" class=\"data row1 col14\" >96</td>\n",
       "                        <td id=\"T_71814984_fd78_11ea_966e_0242ac110002row1_col15\" class=\"data row1 col15\" >0</td>\n",
       "                        <td id=\"T_71814984_fd78_11ea_966e_0242ac110002row1_col16\" class=\"data row1 col16\" >0</td>\n",
       "                        <td id=\"T_71814984_fd78_11ea_966e_0242ac110002row1_col17\" class=\"data row1 col17\" >0</td>\n",
       "            </tr>\n",
       "            <tr>\n",
       "                        <th id=\"T_71814984_fd78_11ea_966e_0242ac110002level0_row2\" class=\"row_heading level0 row2\" >2</th>\n",
       "                        <td id=\"T_71814984_fd78_11ea_966e_0242ac110002row2_col0\" class=\"data row2 col0\" >0</td>\n",
       "                        <td id=\"T_71814984_fd78_11ea_966e_0242ac110002row2_col1\" class=\"data row2 col1\" >0</td>\n",
       "                        <td id=\"T_71814984_fd78_11ea_966e_0242ac110002row2_col2\" class=\"data row2 col2\" >0</td>\n",
       "                        <td id=\"T_71814984_fd78_11ea_966e_0242ac110002row2_col3\" class=\"data row2 col3\" >48</td>\n",
       "                        <td id=\"T_71814984_fd78_11ea_966e_0242ac110002row2_col4\" class=\"data row2 col4\" >166</td>\n",
       "                        <td id=\"T_71814984_fd78_11ea_966e_0242ac110002row2_col5\" class=\"data row2 col5\" >224</td>\n",
       "                        <td id=\"T_71814984_fd78_11ea_966e_0242ac110002row2_col6\" class=\"data row2 col6\" >253</td>\n",
       "                        <td id=\"T_71814984_fd78_11ea_966e_0242ac110002row2_col7\" class=\"data row2 col7\" >253</td>\n",
       "                        <td id=\"T_71814984_fd78_11ea_966e_0242ac110002row2_col8\" class=\"data row2 col8\" >234</td>\n",
       "                        <td id=\"T_71814984_fd78_11ea_966e_0242ac110002row2_col9\" class=\"data row2 col9\" >196</td>\n",
       "                        <td id=\"T_71814984_fd78_11ea_966e_0242ac110002row2_col10\" class=\"data row2 col10\" >253</td>\n",
       "                        <td id=\"T_71814984_fd78_11ea_966e_0242ac110002row2_col11\" class=\"data row2 col11\" >253</td>\n",
       "                        <td id=\"T_71814984_fd78_11ea_966e_0242ac110002row2_col12\" class=\"data row2 col12\" >253</td>\n",
       "                        <td id=\"T_71814984_fd78_11ea_966e_0242ac110002row2_col13\" class=\"data row2 col13\" >253</td>\n",
       "                        <td id=\"T_71814984_fd78_11ea_966e_0242ac110002row2_col14\" class=\"data row2 col14\" >233</td>\n",
       "                        <td id=\"T_71814984_fd78_11ea_966e_0242ac110002row2_col15\" class=\"data row2 col15\" >0</td>\n",
       "                        <td id=\"T_71814984_fd78_11ea_966e_0242ac110002row2_col16\" class=\"data row2 col16\" >0</td>\n",
       "                        <td id=\"T_71814984_fd78_11ea_966e_0242ac110002row2_col17\" class=\"data row2 col17\" >0</td>\n",
       "            </tr>\n",
       "            <tr>\n",
       "                        <th id=\"T_71814984_fd78_11ea_966e_0242ac110002level0_row3\" class=\"row_heading level0 row3\" >3</th>\n",
       "                        <td id=\"T_71814984_fd78_11ea_966e_0242ac110002row3_col0\" class=\"data row3 col0\" >0</td>\n",
       "                        <td id=\"T_71814984_fd78_11ea_966e_0242ac110002row3_col1\" class=\"data row3 col1\" >93</td>\n",
       "                        <td id=\"T_71814984_fd78_11ea_966e_0242ac110002row3_col2\" class=\"data row3 col2\" >244</td>\n",
       "                        <td id=\"T_71814984_fd78_11ea_966e_0242ac110002row3_col3\" class=\"data row3 col3\" >249</td>\n",
       "                        <td id=\"T_71814984_fd78_11ea_966e_0242ac110002row3_col4\" class=\"data row3 col4\" >253</td>\n",
       "                        <td id=\"T_71814984_fd78_11ea_966e_0242ac110002row3_col5\" class=\"data row3 col5\" >187</td>\n",
       "                        <td id=\"T_71814984_fd78_11ea_966e_0242ac110002row3_col6\" class=\"data row3 col6\" >46</td>\n",
       "                        <td id=\"T_71814984_fd78_11ea_966e_0242ac110002row3_col7\" class=\"data row3 col7\" >10</td>\n",
       "                        <td id=\"T_71814984_fd78_11ea_966e_0242ac110002row3_col8\" class=\"data row3 col8\" >8</td>\n",
       "                        <td id=\"T_71814984_fd78_11ea_966e_0242ac110002row3_col9\" class=\"data row3 col9\" >4</td>\n",
       "                        <td id=\"T_71814984_fd78_11ea_966e_0242ac110002row3_col10\" class=\"data row3 col10\" >10</td>\n",
       "                        <td id=\"T_71814984_fd78_11ea_966e_0242ac110002row3_col11\" class=\"data row3 col11\" >194</td>\n",
       "                        <td id=\"T_71814984_fd78_11ea_966e_0242ac110002row3_col12\" class=\"data row3 col12\" >253</td>\n",
       "                        <td id=\"T_71814984_fd78_11ea_966e_0242ac110002row3_col13\" class=\"data row3 col13\" >253</td>\n",
       "                        <td id=\"T_71814984_fd78_11ea_966e_0242ac110002row3_col14\" class=\"data row3 col14\" >233</td>\n",
       "                        <td id=\"T_71814984_fd78_11ea_966e_0242ac110002row3_col15\" class=\"data row3 col15\" >0</td>\n",
       "                        <td id=\"T_71814984_fd78_11ea_966e_0242ac110002row3_col16\" class=\"data row3 col16\" >0</td>\n",
       "                        <td id=\"T_71814984_fd78_11ea_966e_0242ac110002row3_col17\" class=\"data row3 col17\" >0</td>\n",
       "            </tr>\n",
       "            <tr>\n",
       "                        <th id=\"T_71814984_fd78_11ea_966e_0242ac110002level0_row4\" class=\"row_heading level0 row4\" >4</th>\n",
       "                        <td id=\"T_71814984_fd78_11ea_966e_0242ac110002row4_col0\" class=\"data row4 col0\" >0</td>\n",
       "                        <td id=\"T_71814984_fd78_11ea_966e_0242ac110002row4_col1\" class=\"data row4 col1\" >107</td>\n",
       "                        <td id=\"T_71814984_fd78_11ea_966e_0242ac110002row4_col2\" class=\"data row4 col2\" >253</td>\n",
       "                        <td id=\"T_71814984_fd78_11ea_966e_0242ac110002row4_col3\" class=\"data row4 col3\" >253</td>\n",
       "                        <td id=\"T_71814984_fd78_11ea_966e_0242ac110002row4_col4\" class=\"data row4 col4\" >230</td>\n",
       "                        <td id=\"T_71814984_fd78_11ea_966e_0242ac110002row4_col5\" class=\"data row4 col5\" >48</td>\n",
       "                        <td id=\"T_71814984_fd78_11ea_966e_0242ac110002row4_col6\" class=\"data row4 col6\" >0</td>\n",
       "                        <td id=\"T_71814984_fd78_11ea_966e_0242ac110002row4_col7\" class=\"data row4 col7\" >0</td>\n",
       "                        <td id=\"T_71814984_fd78_11ea_966e_0242ac110002row4_col8\" class=\"data row4 col8\" >0</td>\n",
       "                        <td id=\"T_71814984_fd78_11ea_966e_0242ac110002row4_col9\" class=\"data row4 col9\" >0</td>\n",
       "                        <td id=\"T_71814984_fd78_11ea_966e_0242ac110002row4_col10\" class=\"data row4 col10\" >0</td>\n",
       "                        <td id=\"T_71814984_fd78_11ea_966e_0242ac110002row4_col11\" class=\"data row4 col11\" >192</td>\n",
       "                        <td id=\"T_71814984_fd78_11ea_966e_0242ac110002row4_col12\" class=\"data row4 col12\" >253</td>\n",
       "                        <td id=\"T_71814984_fd78_11ea_966e_0242ac110002row4_col13\" class=\"data row4 col13\" >253</td>\n",
       "                        <td id=\"T_71814984_fd78_11ea_966e_0242ac110002row4_col14\" class=\"data row4 col14\" >156</td>\n",
       "                        <td id=\"T_71814984_fd78_11ea_966e_0242ac110002row4_col15\" class=\"data row4 col15\" >0</td>\n",
       "                        <td id=\"T_71814984_fd78_11ea_966e_0242ac110002row4_col16\" class=\"data row4 col16\" >0</td>\n",
       "                        <td id=\"T_71814984_fd78_11ea_966e_0242ac110002row4_col17\" class=\"data row4 col17\" >0</td>\n",
       "            </tr>\n",
       "            <tr>\n",
       "                        <th id=\"T_71814984_fd78_11ea_966e_0242ac110002level0_row5\" class=\"row_heading level0 row5\" >5</th>\n",
       "                        <td id=\"T_71814984_fd78_11ea_966e_0242ac110002row5_col0\" class=\"data row5 col0\" >0</td>\n",
       "                        <td id=\"T_71814984_fd78_11ea_966e_0242ac110002row5_col1\" class=\"data row5 col1\" >3</td>\n",
       "                        <td id=\"T_71814984_fd78_11ea_966e_0242ac110002row5_col2\" class=\"data row5 col2\" >20</td>\n",
       "                        <td id=\"T_71814984_fd78_11ea_966e_0242ac110002row5_col3\" class=\"data row5 col3\" >20</td>\n",
       "                        <td id=\"T_71814984_fd78_11ea_966e_0242ac110002row5_col4\" class=\"data row5 col4\" >15</td>\n",
       "                        <td id=\"T_71814984_fd78_11ea_966e_0242ac110002row5_col5\" class=\"data row5 col5\" >0</td>\n",
       "                        <td id=\"T_71814984_fd78_11ea_966e_0242ac110002row5_col6\" class=\"data row5 col6\" >0</td>\n",
       "                        <td id=\"T_71814984_fd78_11ea_966e_0242ac110002row5_col7\" class=\"data row5 col7\" >0</td>\n",
       "                        <td id=\"T_71814984_fd78_11ea_966e_0242ac110002row5_col8\" class=\"data row5 col8\" >0</td>\n",
       "                        <td id=\"T_71814984_fd78_11ea_966e_0242ac110002row5_col9\" class=\"data row5 col9\" >0</td>\n",
       "                        <td id=\"T_71814984_fd78_11ea_966e_0242ac110002row5_col10\" class=\"data row5 col10\" >43</td>\n",
       "                        <td id=\"T_71814984_fd78_11ea_966e_0242ac110002row5_col11\" class=\"data row5 col11\" >224</td>\n",
       "                        <td id=\"T_71814984_fd78_11ea_966e_0242ac110002row5_col12\" class=\"data row5 col12\" >253</td>\n",
       "                        <td id=\"T_71814984_fd78_11ea_966e_0242ac110002row5_col13\" class=\"data row5 col13\" >245</td>\n",
       "                        <td id=\"T_71814984_fd78_11ea_966e_0242ac110002row5_col14\" class=\"data row5 col14\" >74</td>\n",
       "                        <td id=\"T_71814984_fd78_11ea_966e_0242ac110002row5_col15\" class=\"data row5 col15\" >0</td>\n",
       "                        <td id=\"T_71814984_fd78_11ea_966e_0242ac110002row5_col16\" class=\"data row5 col16\" >0</td>\n",
       "                        <td id=\"T_71814984_fd78_11ea_966e_0242ac110002row5_col17\" class=\"data row5 col17\" >0</td>\n",
       "            </tr>\n",
       "            <tr>\n",
       "                        <th id=\"T_71814984_fd78_11ea_966e_0242ac110002level0_row6\" class=\"row_heading level0 row6\" >6</th>\n",
       "                        <td id=\"T_71814984_fd78_11ea_966e_0242ac110002row6_col0\" class=\"data row6 col0\" >0</td>\n",
       "                        <td id=\"T_71814984_fd78_11ea_966e_0242ac110002row6_col1\" class=\"data row6 col1\" >0</td>\n",
       "                        <td id=\"T_71814984_fd78_11ea_966e_0242ac110002row6_col2\" class=\"data row6 col2\" >0</td>\n",
       "                        <td id=\"T_71814984_fd78_11ea_966e_0242ac110002row6_col3\" class=\"data row6 col3\" >0</td>\n",
       "                        <td id=\"T_71814984_fd78_11ea_966e_0242ac110002row6_col4\" class=\"data row6 col4\" >0</td>\n",
       "                        <td id=\"T_71814984_fd78_11ea_966e_0242ac110002row6_col5\" class=\"data row6 col5\" >0</td>\n",
       "                        <td id=\"T_71814984_fd78_11ea_966e_0242ac110002row6_col6\" class=\"data row6 col6\" >0</td>\n",
       "                        <td id=\"T_71814984_fd78_11ea_966e_0242ac110002row6_col7\" class=\"data row6 col7\" >0</td>\n",
       "                        <td id=\"T_71814984_fd78_11ea_966e_0242ac110002row6_col8\" class=\"data row6 col8\" >0</td>\n",
       "                        <td id=\"T_71814984_fd78_11ea_966e_0242ac110002row6_col9\" class=\"data row6 col9\" >0</td>\n",
       "                        <td id=\"T_71814984_fd78_11ea_966e_0242ac110002row6_col10\" class=\"data row6 col10\" >249</td>\n",
       "                        <td id=\"T_71814984_fd78_11ea_966e_0242ac110002row6_col11\" class=\"data row6 col11\" >253</td>\n",
       "                        <td id=\"T_71814984_fd78_11ea_966e_0242ac110002row6_col12\" class=\"data row6 col12\" >245</td>\n",
       "                        <td id=\"T_71814984_fd78_11ea_966e_0242ac110002row6_col13\" class=\"data row6 col13\" >126</td>\n",
       "                        <td id=\"T_71814984_fd78_11ea_966e_0242ac110002row6_col14\" class=\"data row6 col14\" >0</td>\n",
       "                        <td id=\"T_71814984_fd78_11ea_966e_0242ac110002row6_col15\" class=\"data row6 col15\" >0</td>\n",
       "                        <td id=\"T_71814984_fd78_11ea_966e_0242ac110002row6_col16\" class=\"data row6 col16\" >0</td>\n",
       "                        <td id=\"T_71814984_fd78_11ea_966e_0242ac110002row6_col17\" class=\"data row6 col17\" >0</td>\n",
       "            </tr>\n",
       "            <tr>\n",
       "                        <th id=\"T_71814984_fd78_11ea_966e_0242ac110002level0_row7\" class=\"row_heading level0 row7\" >7</th>\n",
       "                        <td id=\"T_71814984_fd78_11ea_966e_0242ac110002row7_col0\" class=\"data row7 col0\" >0</td>\n",
       "                        <td id=\"T_71814984_fd78_11ea_966e_0242ac110002row7_col1\" class=\"data row7 col1\" >0</td>\n",
       "                        <td id=\"T_71814984_fd78_11ea_966e_0242ac110002row7_col2\" class=\"data row7 col2\" >0</td>\n",
       "                        <td id=\"T_71814984_fd78_11ea_966e_0242ac110002row7_col3\" class=\"data row7 col3\" >0</td>\n",
       "                        <td id=\"T_71814984_fd78_11ea_966e_0242ac110002row7_col4\" class=\"data row7 col4\" >0</td>\n",
       "                        <td id=\"T_71814984_fd78_11ea_966e_0242ac110002row7_col5\" class=\"data row7 col5\" >0</td>\n",
       "                        <td id=\"T_71814984_fd78_11ea_966e_0242ac110002row7_col6\" class=\"data row7 col6\" >0</td>\n",
       "                        <td id=\"T_71814984_fd78_11ea_966e_0242ac110002row7_col7\" class=\"data row7 col7\" >14</td>\n",
       "                        <td id=\"T_71814984_fd78_11ea_966e_0242ac110002row7_col8\" class=\"data row7 col8\" >101</td>\n",
       "                        <td id=\"T_71814984_fd78_11ea_966e_0242ac110002row7_col9\" class=\"data row7 col9\" >223</td>\n",
       "                        <td id=\"T_71814984_fd78_11ea_966e_0242ac110002row7_col10\" class=\"data row7 col10\" >253</td>\n",
       "                        <td id=\"T_71814984_fd78_11ea_966e_0242ac110002row7_col11\" class=\"data row7 col11\" >248</td>\n",
       "                        <td id=\"T_71814984_fd78_11ea_966e_0242ac110002row7_col12\" class=\"data row7 col12\" >124</td>\n",
       "                        <td id=\"T_71814984_fd78_11ea_966e_0242ac110002row7_col13\" class=\"data row7 col13\" >0</td>\n",
       "                        <td id=\"T_71814984_fd78_11ea_966e_0242ac110002row7_col14\" class=\"data row7 col14\" >0</td>\n",
       "                        <td id=\"T_71814984_fd78_11ea_966e_0242ac110002row7_col15\" class=\"data row7 col15\" >0</td>\n",
       "                        <td id=\"T_71814984_fd78_11ea_966e_0242ac110002row7_col16\" class=\"data row7 col16\" >0</td>\n",
       "                        <td id=\"T_71814984_fd78_11ea_966e_0242ac110002row7_col17\" class=\"data row7 col17\" >0</td>\n",
       "            </tr>\n",
       "            <tr>\n",
       "                        <th id=\"T_71814984_fd78_11ea_966e_0242ac110002level0_row8\" class=\"row_heading level0 row8\" >8</th>\n",
       "                        <td id=\"T_71814984_fd78_11ea_966e_0242ac110002row8_col0\" class=\"data row8 col0\" >0</td>\n",
       "                        <td id=\"T_71814984_fd78_11ea_966e_0242ac110002row8_col1\" class=\"data row8 col1\" >0</td>\n",
       "                        <td id=\"T_71814984_fd78_11ea_966e_0242ac110002row8_col2\" class=\"data row8 col2\" >0</td>\n",
       "                        <td id=\"T_71814984_fd78_11ea_966e_0242ac110002row8_col3\" class=\"data row8 col3\" >0</td>\n",
       "                        <td id=\"T_71814984_fd78_11ea_966e_0242ac110002row8_col4\" class=\"data row8 col4\" >0</td>\n",
       "                        <td id=\"T_71814984_fd78_11ea_966e_0242ac110002row8_col5\" class=\"data row8 col5\" >11</td>\n",
       "                        <td id=\"T_71814984_fd78_11ea_966e_0242ac110002row8_col6\" class=\"data row8 col6\" >166</td>\n",
       "                        <td id=\"T_71814984_fd78_11ea_966e_0242ac110002row8_col7\" class=\"data row8 col7\" >239</td>\n",
       "                        <td id=\"T_71814984_fd78_11ea_966e_0242ac110002row8_col8\" class=\"data row8 col8\" >253</td>\n",
       "                        <td id=\"T_71814984_fd78_11ea_966e_0242ac110002row8_col9\" class=\"data row8 col9\" >253</td>\n",
       "                        <td id=\"T_71814984_fd78_11ea_966e_0242ac110002row8_col10\" class=\"data row8 col10\" >253</td>\n",
       "                        <td id=\"T_71814984_fd78_11ea_966e_0242ac110002row8_col11\" class=\"data row8 col11\" >187</td>\n",
       "                        <td id=\"T_71814984_fd78_11ea_966e_0242ac110002row8_col12\" class=\"data row8 col12\" >30</td>\n",
       "                        <td id=\"T_71814984_fd78_11ea_966e_0242ac110002row8_col13\" class=\"data row8 col13\" >0</td>\n",
       "                        <td id=\"T_71814984_fd78_11ea_966e_0242ac110002row8_col14\" class=\"data row8 col14\" >0</td>\n",
       "                        <td id=\"T_71814984_fd78_11ea_966e_0242ac110002row8_col15\" class=\"data row8 col15\" >0</td>\n",
       "                        <td id=\"T_71814984_fd78_11ea_966e_0242ac110002row8_col16\" class=\"data row8 col16\" >0</td>\n",
       "                        <td id=\"T_71814984_fd78_11ea_966e_0242ac110002row8_col17\" class=\"data row8 col17\" >0</td>\n",
       "            </tr>\n",
       "            <tr>\n",
       "                        <th id=\"T_71814984_fd78_11ea_966e_0242ac110002level0_row9\" class=\"row_heading level0 row9\" >9</th>\n",
       "                        <td id=\"T_71814984_fd78_11ea_966e_0242ac110002row9_col0\" class=\"data row9 col0\" >0</td>\n",
       "                        <td id=\"T_71814984_fd78_11ea_966e_0242ac110002row9_col1\" class=\"data row9 col1\" >0</td>\n",
       "                        <td id=\"T_71814984_fd78_11ea_966e_0242ac110002row9_col2\" class=\"data row9 col2\" >0</td>\n",
       "                        <td id=\"T_71814984_fd78_11ea_966e_0242ac110002row9_col3\" class=\"data row9 col3\" >0</td>\n",
       "                        <td id=\"T_71814984_fd78_11ea_966e_0242ac110002row9_col4\" class=\"data row9 col4\" >0</td>\n",
       "                        <td id=\"T_71814984_fd78_11ea_966e_0242ac110002row9_col5\" class=\"data row9 col5\" >16</td>\n",
       "                        <td id=\"T_71814984_fd78_11ea_966e_0242ac110002row9_col6\" class=\"data row9 col6\" >248</td>\n",
       "                        <td id=\"T_71814984_fd78_11ea_966e_0242ac110002row9_col7\" class=\"data row9 col7\" >250</td>\n",
       "                        <td id=\"T_71814984_fd78_11ea_966e_0242ac110002row9_col8\" class=\"data row9 col8\" >253</td>\n",
       "                        <td id=\"T_71814984_fd78_11ea_966e_0242ac110002row9_col9\" class=\"data row9 col9\" >253</td>\n",
       "                        <td id=\"T_71814984_fd78_11ea_966e_0242ac110002row9_col10\" class=\"data row9 col10\" >253</td>\n",
       "                        <td id=\"T_71814984_fd78_11ea_966e_0242ac110002row9_col11\" class=\"data row9 col11\" >253</td>\n",
       "                        <td id=\"T_71814984_fd78_11ea_966e_0242ac110002row9_col12\" class=\"data row9 col12\" >232</td>\n",
       "                        <td id=\"T_71814984_fd78_11ea_966e_0242ac110002row9_col13\" class=\"data row9 col13\" >213</td>\n",
       "                        <td id=\"T_71814984_fd78_11ea_966e_0242ac110002row9_col14\" class=\"data row9 col14\" >111</td>\n",
       "                        <td id=\"T_71814984_fd78_11ea_966e_0242ac110002row9_col15\" class=\"data row9 col15\" >2</td>\n",
       "                        <td id=\"T_71814984_fd78_11ea_966e_0242ac110002row9_col16\" class=\"data row9 col16\" >0</td>\n",
       "                        <td id=\"T_71814984_fd78_11ea_966e_0242ac110002row9_col17\" class=\"data row9 col17\" >0</td>\n",
       "            </tr>\n",
       "            <tr>\n",
       "                        <th id=\"T_71814984_fd78_11ea_966e_0242ac110002level0_row10\" class=\"row_heading level0 row10\" >10</th>\n",
       "                        <td id=\"T_71814984_fd78_11ea_966e_0242ac110002row10_col0\" class=\"data row10 col0\" >0</td>\n",
       "                        <td id=\"T_71814984_fd78_11ea_966e_0242ac110002row10_col1\" class=\"data row10 col1\" >0</td>\n",
       "                        <td id=\"T_71814984_fd78_11ea_966e_0242ac110002row10_col2\" class=\"data row10 col2\" >0</td>\n",
       "                        <td id=\"T_71814984_fd78_11ea_966e_0242ac110002row10_col3\" class=\"data row10 col3\" >0</td>\n",
       "                        <td id=\"T_71814984_fd78_11ea_966e_0242ac110002row10_col4\" class=\"data row10 col4\" >0</td>\n",
       "                        <td id=\"T_71814984_fd78_11ea_966e_0242ac110002row10_col5\" class=\"data row10 col5\" >0</td>\n",
       "                        <td id=\"T_71814984_fd78_11ea_966e_0242ac110002row10_col6\" class=\"data row10 col6\" >0</td>\n",
       "                        <td id=\"T_71814984_fd78_11ea_966e_0242ac110002row10_col7\" class=\"data row10 col7\" >43</td>\n",
       "                        <td id=\"T_71814984_fd78_11ea_966e_0242ac110002row10_col8\" class=\"data row10 col8\" >98</td>\n",
       "                        <td id=\"T_71814984_fd78_11ea_966e_0242ac110002row10_col9\" class=\"data row10 col9\" >98</td>\n",
       "                        <td id=\"T_71814984_fd78_11ea_966e_0242ac110002row10_col10\" class=\"data row10 col10\" >208</td>\n",
       "                        <td id=\"T_71814984_fd78_11ea_966e_0242ac110002row10_col11\" class=\"data row10 col11\" >253</td>\n",
       "                        <td id=\"T_71814984_fd78_11ea_966e_0242ac110002row10_col12\" class=\"data row10 col12\" >253</td>\n",
       "                        <td id=\"T_71814984_fd78_11ea_966e_0242ac110002row10_col13\" class=\"data row10 col13\" >253</td>\n",
       "                        <td id=\"T_71814984_fd78_11ea_966e_0242ac110002row10_col14\" class=\"data row10 col14\" >253</td>\n",
       "                        <td id=\"T_71814984_fd78_11ea_966e_0242ac110002row10_col15\" class=\"data row10 col15\" >187</td>\n",
       "                        <td id=\"T_71814984_fd78_11ea_966e_0242ac110002row10_col16\" class=\"data row10 col16\" >22</td>\n",
       "                        <td id=\"T_71814984_fd78_11ea_966e_0242ac110002row10_col17\" class=\"data row10 col17\" >0</td>\n",
       "            </tr>\n",
       "    </tbody></table>"
      ],
      "text/plain": [
       "<pandas.io.formats.style.Styler at 0x7f1fe8f80b50>"
      ]
     },
     "execution_count": 7,
     "metadata": {},
     "output_type": "execute_result"
    }
   ],
   "source": [
    "# 4 - Getting creative with Pandas\n",
    "im3_t = tensor(im3)\n",
    "df = pd.DataFrame(im3_t[4:15,4:22])\n",
    "df.style.set_properties(**{'font-size':'6pt'}).background_gradient('Greys')"
   ]
  },
  {
   "cell_type": "markdown",
   "metadata": {},
   "source": [
    "### Sidebar - think about the problem\n",
    "\n",
    "Before jumping into solution mode (ie apply deep learning to everything!) think about the problem space and how you might be able to solve it. \n",
    "\n",
    "For this problem (digit recognition) using a simple average might be enough to get a descent result. That is exactly what we will do first."
   ]
  },
  {
   "cell_type": "markdown",
   "metadata": {},
   "source": [
    "# Method 1: Pixel Similarity\n",
    "\n",
    "- find the average pixel value for every pixel of the 3s and 7s\n",
    "    - this will give us 2 group averages that represent the \"ideal\" 3 and 7\n",
    "- to classify a digit, check the similarity against the ideal\n",
    "- this method will form our baseline that we will improve upon later\n",
    "\n",
    "### Step 1: Organise data\n",
    "- create a tensor by stacking all of our 3s together\n",
    "    - we will use list comprehension for this"
   ]
  },
  {
   "cell_type": "code",
   "execution_count": 8,
   "metadata": {},
   "outputs": [
    {
     "data": {
      "text/plain": [
       "(6131, 6265)"
      ]
     },
     "execution_count": 8,
     "metadata": {},
     "output_type": "execute_result"
    }
   ],
   "source": [
    "# open all images, convert to tensor, store in list\n",
    "\n",
    "seven_tensors = [tensor(Image.open(o)) for o in sevens]\n",
    "three_tensors = [tensor(Image.open(o)) for o in threes]\n",
    "len(three_tensors), len(seven_tensors)"
   ]
  },
  {
   "cell_type": "code",
   "execution_count": 9,
   "metadata": {},
   "outputs": [
    {
     "data": {
      "image/png": "[encoded data removed]",
      "text/plain": [
       "<Figure size 72x72 with 1 Axes>"
      ]
     },
     "metadata": {
      "needs_background": "light"
     },
     "output_type": "display_data"
    }
   ],
   "source": [
    "# lets check one of\n",
    "show_image(three_tensors[1]);"
   ]
  },
  {
   "cell_type": "markdown",
   "metadata": {},
   "source": [
    "### Step 2: Compute the average pixel value\n",
    "\n",
    "- For every pixel position, compute the average over all the images of the intensity of that pixel.\n",
    "- To do this\n",
    "    - combine all images into a single 3-dimensional tensor using [`stack`](https://pytorch.org/docs/stable/generated/torch.stack.html) which  \"*Concatenates sequence of tensors along a new dimension*.\"\n",
    "    - PuyTorch needs us to cast the `int` values to floats in order to compute the average.\n",
    "    - \"Generally when images are floats, the pixel values are expected to be between 0 and 1, so we will also divide by 255 here\" [source](https://github.com/fastai/fastbook/blob/master/04_mnist_basics.ipynb)"
   ]
  },
  {
   "cell_type": "code",
   "execution_count": 10,
   "metadata": {
    "scrolled": false
   },
   "outputs": [
    {
     "data": {
      "text/plain": [
       "torch.Size([6131, 28, 28])"
      ]
     },
     "execution_count": 10,
     "metadata": {},
     "output_type": "execute_result"
    }
   ],
   "source": [
    "stacked_sevens = torch.stack(seven_tensors).float()/255\n",
    "stacked_threes = torch.stack(three_tensors).float()/255\n",
    "stacked_threes.shape"
   ]
  },
  {
   "cell_type": "markdown",
   "metadata": {},
   "source": [
    "`tensor` jargon\n",
    "- *rank*: the number of axis\n",
    "- *shape*: the size of each axis"
   ]
  },
  {
   "cell_type": "code",
   "execution_count": 11,
   "metadata": {},
   "outputs": [
    {
     "name": "stdout",
     "output_type": "stream",
     "text": [
      "rank: 3 \n",
      " shape: torch.Size([6131, 28, 28])\n"
     ]
    }
   ],
   "source": [
    "print('rank:',stacked_threes.ndim,'\\n',\n",
    "      'shape:', stacked_threes.shape)"
   ]
  },
  {
   "cell_type": "markdown",
   "metadata": {},
   "source": [
    "We have 6,131 images of size 28x28 "
   ]
  },
  {
   "cell_type": "markdown",
   "metadata": {},
   "source": [
    "### Step 3: Compute the ideal digits\n",
    "\n",
    "- compute the mean along the 0th dimension\n",
    "- by visualising this ideal 3 we can indeed see that it represents a 3!"
   ]
  },
  {
   "cell_type": "code",
   "execution_count": 50,
   "metadata": {},
   "outputs": [
    {
     "data": {
      "image/png": "[encoded data removed]",
      "text/plain": [
       "<Figure size 72x72 with 1 Axes>"
      ]
     },
     "metadata": {
      "needs_background": "light"
     },
     "output_type": "display_data"
    }
   ],
   "source": [
    "mean3 = stacked_threes.mean(dim=0)\n",
    "show_image(mean3);"
   ]
  },
  {
   "cell_type": "code",
   "execution_count": 13,
   "metadata": {
    "scrolled": true
   },
   "outputs": [
    {
     "data": {
      "image/png": "[encoded data removed]",
      "text/plain": [
       "<Figure size 72x72 with 1 Axes>"
      ]
     },
     "metadata": {
      "needs_background": "light"
     },
     "output_type": "display_data"
    }
   ],
   "source": [
    "mean7 = stacked_sevens.mean(dim=0)\n",
    "show_image(mean7);"
   ]
  },
  {
   "cell_type": "code",
   "execution_count": 14,
   "metadata": {},
   "outputs": [
    {
     "data": {
      "image/png": "[encoded data removed]",
      "text/plain": [
       "<Figure size 72x72 with 1 Axes>"
      ]
     },
     "metadata": {
      "needs_background": "light"
     },
     "output_type": "display_data"
    }
   ],
   "source": [
    "# here is a random three for comparison\n",
    "a_3 = stacked_threes[1]\n",
    "show_image(a_3);"
   ]
  },
  {
   "cell_type": "markdown",
   "metadata": {},
   "source": [
    "How could we calculate how similar a 3 is from this ideal 3? Typically there are two methods\n",
    "\n",
    "- take the absolute value of differences (where there are negatives, replace with postive)\n",
    "    - This is called the *mean absolute difference* or *L1 norm*\n",
    "- take the mean squared difference (which also makes all results positive) then take the square root\n",
    "    - This is called the *root mean squared error (RMSE)* or *L2 norm*.\n",
    "  "
   ]
  },
  {
   "cell_type": "code",
   "execution_count": 15,
   "metadata": {},
   "outputs": [
    {
     "data": {
      "text/plain": [
       "(tensor(0.1114), tensor(0.2021))"
      ]
     },
     "execution_count": 15,
     "metadata": {},
     "output_type": "execute_result"
    }
   ],
   "source": [
    "# 3\n",
    "# L1 Norm\n",
    "# mean absolute difference\n",
    "\n",
    "dist_3_abs = (a_3 - mean3).abs().mean()\n",
    "dist_3_sqr = ((a_3 - mean3)**2).mean().sqrt()\n",
    "dist_3_abs, dist_3_sqr"
   ]
  },
  {
   "cell_type": "code",
   "execution_count": 16,
   "metadata": {},
   "outputs": [
    {
     "data": {
      "text/plain": [
       "(tensor(0.1586), tensor(0.3021))"
      ]
     },
     "execution_count": 16,
     "metadata": {},
     "output_type": "execute_result"
    }
   ],
   "source": [
    "# 7\n",
    "# L1 Norm\n",
    "# mean absolute difference\n",
    "\n",
    "dist_3_abs = (a_3 - mean7).abs().mean()\n",
    "dist_3_sqr = ((a_3 - mean7)**2).mean().sqrt()\n",
    "dist_3_abs, dist_3_sqr"
   ]
  },
  {
   "cell_type": "markdown",
   "metadata": {},
   "source": [
    "The distance between our \"ideal\" 3 and the real 3 is less than the distance from the real 3 to \"ideal\" 7. This is good - it means both methods will work and our simple model will give the correct prediction.\n",
    "\n",
    "PyTorch already provides these loss functions for us (though RMSE is only MSE, but we can work with that)."
   ]
  },
  {
   "cell_type": "code",
   "execution_count": 17,
   "metadata": {},
   "outputs": [
    {
     "data": {
      "text/plain": [
       "(tensor(0.1586), tensor(0.3021))"
      ]
     },
     "execution_count": 17,
     "metadata": {},
     "output_type": "execute_result"
    }
   ],
   "source": [
    "# check results with PyTorch\n",
    "\n",
    "F.l1_loss(a_3.float(),mean7), F.mse_loss(a_3,mean7).sqrt()"
   ]
  },
  {
   "cell_type": "markdown",
   "metadata": {},
   "source": [
    "### A simple model\n",
    "\n",
    "A validation set is usually used to help avoid overfitting, our model has no trained components so this isn't going to be an issue, but let's stick with best practices.\n",
    "\n",
    "We will also define a function that will decide if an arbitrary image is a 3 or a 7. This will be achieved by measuring the distance between this digit and our ideal digits and determining which ideal it is closer to. \n"
   ]
  },
  {
   "cell_type": "code",
   "execution_count": 18,
   "metadata": {
    "scrolled": true
   },
   "outputs": [
    {
     "data": {
      "text/plain": [
       "(torch.Size([1010, 28, 28]), torch.Size([1028, 28, 28]))"
      ]
     },
     "execution_count": 18,
     "metadata": {},
     "output_type": "execute_result"
    }
   ],
   "source": [
    "valid_3_tens = torch.stack([tensor(Image.open(o)) \n",
    "                            for o in (path/'valid'/'3').ls()])\n",
    "valid_3_tens = valid_3_tens.float()/255\n",
    "valid_7_tens = torch.stack([tensor(Image.open(o)) \n",
    "                            for o in (path/'valid'/'7').ls()])\n",
    "valid_7_tens = valid_7_tens.float()/255\n",
    "valid_3_tens.shape,valid_7_tens.shape"
   ]
  },
  {
   "cell_type": "markdown",
   "metadata": {},
   "source": [
    "`mnist_distance` calculates the difference between our ideal 3 and every 3 in the validation set. \n",
    "\n",
    "We call `mean((-1,-2))` in our fuction. The tuple `(-1,-2)` represents a range of axes, so the last -1, and second last -2. `mean((-1,-2))` says; take the mean over the last two axes in the tensor. Why? These axes represent the verticle and horizontal dimensions of an image. After taking the mean over the these axes, we have one axis left which indexes over the 1,010 images we have. "
   ]
  },
  {
   "cell_type": "code",
   "execution_count": 40,
   "metadata": {},
   "outputs": [
    {
     "data": {
      "text/plain": [
       "tensor(0.1114)"
      ]
     },
     "execution_count": 40,
     "metadata": {},
     "output_type": "execute_result"
    }
   ],
   "source": [
    "# calculate the mean absolute error\n",
    "\n",
    "def mnist_distance(a,b):\n",
    "    return (a-b).abs().mean((-1,-2))\n",
    "\n",
    "# check the function\n",
    "mnist_distance(a_3, mean3) # great!"
   ]
  },
  {
   "cell_type": "markdown",
   "metadata": {},
   "source": [
    "This works for a single image, but in order to calculate the overall accuracy, we want to calculate this distance to the ideal 3 for all images in the validation set. This can be achieved using a loop, but there is another way - broadcasting.\n",
    "\n",
    "Take a look at the shape of `valid_3_tens` and `mean3`, they are different..."
   ]
  },
  {
   "cell_type": "code",
   "execution_count": 24,
   "metadata": {
    "scrolled": true
   },
   "outputs": [
    {
     "data": {
      "text/plain": [
       "(torch.Size([1010, 28, 28]), torch.Size([28, 28]))"
      ]
     },
     "execution_count": 24,
     "metadata": {},
     "output_type": "execute_result"
    }
   ],
   "source": [
    "valid_3_tens.shape, mean3.shape"
   ]
  },
  {
   "cell_type": "markdown",
   "metadata": {},
   "source": [
    "Now calculate the distance between the two..."
   ]
  },
  {
   "cell_type": "code",
   "execution_count": 25,
   "metadata": {
    "scrolled": true
   },
   "outputs": [
    {
     "data": {
      "text/plain": [
       "(tensor([0.1290, 0.1223, 0.1380,  ..., 0.1337, 0.1132, 0.1097]),\n",
       " torch.Size([1010]))"
      ]
     },
     "execution_count": 25,
     "metadata": {},
     "output_type": "execute_result"
    }
   ],
   "source": [
    "valid_3_dist = mnist_distance(valid_3_tens, mean3)\n",
    "\n",
    "valid_3_dist, valid_3_dist.shape"
   ]
  },
  {
   "cell_type": "markdown",
   "metadata": {},
   "source": [
    "our function has returned the distance for every single image as a rank-1 tensor of length 1,010. \n",
    "\n",
    "This is because we have added a subtraction `(a-b)` into our distance function and when PyTorch performs this subtraction, it uses *broadcasting* which will automatically expand the tensor with smaller rank to have the same size as the one with larger rank. Once this has happened, PyTorch will perform an element wise operation over the two tensors. \n",
    "\n",
    "In our case, PyTorch is treating `mean3` (a rank 2 tensor) as if it were 1,010 copies of that tensor.\n",
    "\n",
    "You can see that by performing a subtraction and checking the shape"
   ]
  },
  {
   "cell_type": "code",
   "execution_count": 29,
   "metadata": {},
   "outputs": [
    {
     "data": {
      "text/plain": [
       "torch.Size([1010, 28, 28])"
      ]
     },
     "execution_count": 29,
     "metadata": {},
     "output_type": "execute_result"
    }
   ],
   "source": [
    "(valid_3_tens-mean3).shape"
   ]
  },
  {
   "cell_type": "markdown",
   "metadata": {},
   "source": [
    "There are a couple of important points about how broadcasting is implemented, which make it valuable not just for expressivity but also for performance:\n",
    "\n",
    "- PyTorch doesn't actually copy mean3 1,010 times. It pretends it were a tensor of that shape, but doesn't actually allocate any additional memory\n",
    "- It does the whole calculation in C (or, if you're using a GPU, in CUDA, the equivalent of C on the GPU), tens of thousands of times faster than pure Python (up to millions of times faster on a GPU!).\n",
    "\n",
    "[source](https://github.com/fastai/fastbook/blob/master/04_mnist_basics.ipynb)"
   ]
  },
  {
   "cell_type": "markdown",
   "metadata": {},
   "source": [
    "### A funtion to make a decision \n",
    "\n",
    "`is_3` is going to use `mnist_distance` to figure out whether an image is a 3 or a 7. To do this it will check whether the distance between a digit, x and `mean3` is less than the difference between x and `mean7`."
   ]
  },
  {
   "cell_type": "code",
   "execution_count": 43,
   "metadata": {},
   "outputs": [],
   "source": [
    "def is_3(x): \n",
    "    return mnist_distance(x,mean3) < mnist_distance(x,mean7)"
   ]
  },
  {
   "cell_type": "code",
   "execution_count": 44,
   "metadata": {
    "scrolled": true
   },
   "outputs": [
    {
     "data": {
      "text/plain": [
       "(tensor(True), tensor(1.))"
      ]
     },
     "execution_count": 44,
     "metadata": {},
     "output_type": "execute_result"
    }
   ],
   "source": [
    "# let's test it\n",
    "# you can convert a boolean to a float \n",
    "\n",
    "is_3(a_3), is_3(a_3).float()"
   ]
  },
  {
   "cell_type": "markdown",
   "metadata": {},
   "source": [
    "Calculate the accuracy for each 3 and 7 by taking the average of `is_3` for all 3s and it's inverse for all 7s. "
   ]
  },
  {
   "cell_type": "code",
   "execution_count": 46,
   "metadata": {},
   "outputs": [
    {
     "data": {
      "text/plain": [
       "(tensor(0.9168), tensor(0.9854), tensor(0.9511))"
      ]
     },
     "execution_count": 46,
     "metadata": {},
     "output_type": "execute_result"
    }
   ],
   "source": [
    "accuracy_3s =      is_3(valid_3_tens).float() .mean()\n",
    "accuracy_7s = (1 - is_3(valid_7_tens).float()).mean()\n",
    "\n",
    "accuracy_3s, accuracy_7s, (accuracy_3s+accuracy_7s)/2"
   ]
  },
  {
   "cell_type": "markdown",
   "metadata": {},
   "source": [
    "Not bad, over 90% accuracy using a very simple model. This was also a very simple problem, 3s and 7s look very different so it's not really a surprise that this was so effective. \n",
    "\n",
    "We will nowe look at a system that will do some learning (automatically modify itself to improve its performance)\n",
    "\n",
    "In the next part, we will implement this more advanced model"
   ]
  }
 ],
 "metadata": {
  "kernelspec": {
   "display_name": "Python 3",
   "language": "python",
   "name": "python3"
  },
  "language_info": {
   "codemirror_mode": {
    "name": "ipython",
    "version": 3
   },
   "file_extension": ".py",
   "mimetype": "text/x-python",
   "name": "python",
   "nbconvert_exporter": "python",
   "pygments_lexer": "ipython3",
   "version": "3.8.5"
  }
 },
 "nbformat": 4,
 "nbformat_minor": 4
}
