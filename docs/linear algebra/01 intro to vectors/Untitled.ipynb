{
 "cells": [
  {
   "cell_type": "markdown",
   "metadata": {},
   "source": [
    "# 01 Introduction to Vectors\n",
    "\n",
    "There are two key operations at the heart of Linear Algebra; vector addition and multiplication.\n",
    "\n",
    "Linear combinations are made up of vector addition and multiplication ie $cv + dw$\n",
    "\n",
    "## Vectors and Linear Combinations\n",
    "\n",
    "A vector is a list of numbers `[1,2,3]` "
   ]
  },
  {
   "cell_type": "code",
   "execution_count": 1,
   "metadata": {},
   "outputs": [],
   "source": [
    "import numpy as np"
   ]
  },
  {
   "cell_type": "markdown",
   "metadata": {},
   "source": [
    "### Vector Addition & Subtraction\n",
    "\n",
    "consider the vector ($v$ = [$v_1, v_2$]) and the vector ($w$ = [$w_1, w_2$]). The corresponding elements within these vectors can be added together in the following way; $v_1 + w_1$ and $v_2 + w_2$. \n",
    "\n",
    "Lets let $v = [1,2]$ and $w = [3,5]$"
   ]
  },
  {
   "cell_type": "code",
   "execution_count": 17,
   "metadata": {},
   "outputs": [
    {
     "data": {
      "text/plain": [
       "array([4, 7])"
      ]
     },
     "execution_count": 17,
     "metadata": {},
     "output_type": "execute_result"
    }
   ],
   "source": [
    "v = np.array([1,2])\n",
    "w = np.array([3,5])\n",
    "\n",
    "v+w"
   ]
  },
  {
   "cell_type": "code",
   "execution_count": 19,
   "metadata": {},
   "outputs": [
    {
     "data": {
      "text/plain": [
       "array([ 1, -1])"
      ]
     },
     "execution_count": 19,
     "metadata": {},
     "output_type": "execute_result"
    }
   ],
   "source": [
    "# vector subtraction\n",
    "\n",
    "a = np.array([3,4])\n",
    "b = np.array([2,5])\n",
    "\n",
    "a-b"
   ]
  },
  {
   "cell_type": "markdown",
   "metadata": {},
   "source": [
    "# Vector Multiplication\n",
    "\n",
    "A \"scalar\" $c$, can be multiplied by a vector $v$ to produce $cv$"
   ]
  },
  {
   "cell_type": "code",
   "execution_count": 18,
   "metadata": {},
   "outputs": [
    {
     "data": {
      "text/plain": [
       "array([2, 4])"
      ]
     },
     "execution_count": 18,
     "metadata": {},
     "output_type": "execute_result"
    }
   ],
   "source": [
    "v = np.array([1,2])\n",
    "c = 2\n",
    "\n",
    "c*v"
   ]
  },
  {
   "cell_type": "code",
   "execution_count": 67,
   "metadata": {},
   "outputs": [],
   "source": [
    "v = np.array([[-1, 0, 1],\n",
    "              [.5, -.6, .3],\n",
    "              [-.7, .2, .8]])"
   ]
  },
  {
   "cell_type": "code",
   "execution_count": 72,
   "metadata": {},
   "outputs": [],
   "source": [
    "def funk(v):\n",
    "    with np.nditer(v, op_flags=['readwrite']) as it:\n",
    "        for x in it:\n",
    "            x[...] = 2 * x\n",
    "    return x[...]"
   ]
  },
  {
   "cell_type": "code",
   "execution_count": 73,
   "metadata": {},
   "outputs": [
    {
     "data": {
      "text/plain": [
       "array(6.4)"
      ]
     },
     "execution_count": 73,
     "metadata": {},
     "output_type": "execute_result"
    }
   ],
   "source": [
    "funk(v)"
   ]
  },
  {
   "cell_type": "code",
   "execution_count": null,
   "metadata": {},
   "outputs": [],
   "source": []
  }
 ],
 "metadata": {
  "kernelspec": {
   "display_name": "Python 3",
   "language": "python",
   "name": "python3"
  },
  "language_info": {
   "codemirror_mode": {
    "name": "ipython",
    "version": 3
   },
   "file_extension": ".py",
   "mimetype": "text/x-python",
   "name": "python",
   "nbconvert_exporter": "python",
   "pygments_lexer": "ipython3",
   "version": "3.7.7"
  }
 },
 "nbformat": 4,
 "nbformat_minor": 4
}
