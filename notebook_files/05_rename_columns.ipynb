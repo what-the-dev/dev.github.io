{
 "cells": [
  {
   "cell_type": "markdown",
   "metadata": {},
   "source": [
    "# Renaming Columns"
   ]
  },
  {
   "cell_type": "code",
   "execution_count": 1,
   "metadata": {},
   "outputs": [],
   "source": [
    "import pandas as pd"
   ]
  },
  {
   "cell_type": "code",
   "execution_count": 17,
   "metadata": {},
   "outputs": [
    {
     "data": {
      "text/html": [
       "<div>\n",
       "<style scoped>\n",
       "    .dataframe tbody tr th:only-of-type {\n",
       "        vertical-align: middle;\n",
       "    }\n",
       "\n",
       "    .dataframe tbody tr th {\n",
       "        vertical-align: top;\n",
       "    }\n",
       "\n",
       "    .dataframe thead th {\n",
       "        text-align: right;\n",
       "    }\n",
       "</style>\n",
       "<table border=\"1\" class=\"dataframe\">\n",
       "  <thead>\n",
       "    <tr style=\"text-align: right;\">\n",
       "      <th></th>\n",
       "      <th>first</th>\n",
       "      <th>last</th>\n",
       "      <th>age</th>\n",
       "      <th>height_cm</th>\n",
       "      <th>weight_kg</th>\n",
       "      <th>income</th>\n",
       "    </tr>\n",
       "  </thead>\n",
       "  <tbody>\n",
       "    <tr>\n",
       "      <th>0</th>\n",
       "      <td>James</td>\n",
       "      <td>Smith</td>\n",
       "      <td>18</td>\n",
       "      <td>175.7</td>\n",
       "      <td>66.9</td>\n",
       "      <td>1,000</td>\n",
       "    </tr>\n",
       "    <tr>\n",
       "      <th>1</th>\n",
       "      <td>Jane</td>\n",
       "      <td>Watson</td>\n",
       "      <td>18</td>\n",
       "      <td>163.0</td>\n",
       "      <td>56.7</td>\n",
       "      <td>800</td>\n",
       "    </tr>\n",
       "    <tr>\n",
       "      <th>2</th>\n",
       "      <td>Adam</td>\n",
       "      <td>Miller</td>\n",
       "      <td>19</td>\n",
       "      <td>176.5</td>\n",
       "      <td>68.9</td>\n",
       "      <td>350</td>\n",
       "    </tr>\n",
       "    <tr>\n",
       "      <th>3</th>\n",
       "      <td>Sara</td>\n",
       "      <td>Thompson</td>\n",
       "      <td>19</td>\n",
       "      <td>163.3</td>\n",
       "      <td>58.0</td>\n",
       "      <td>980</td>\n",
       "    </tr>\n",
       "    <tr>\n",
       "      <th>4</th>\n",
       "      <td>Tom</td>\n",
       "      <td>Piper</td>\n",
       "      <td>20</td>\n",
       "      <td>168.5</td>\n",
       "      <td>57.5</td>\n",
       "      <td>2,500</td>\n",
       "    </tr>\n",
       "    <tr>\n",
       "      <th>5</th>\n",
       "      <td>Carol</td>\n",
       "      <td>Winters</td>\n",
       "      <td>20</td>\n",
       "      <td>177.5</td>\n",
       "      <td>63.4</td>\n",
       "      <td>2,950</td>\n",
       "    </tr>\n",
       "  </tbody>\n",
       "</table>\n",
       "</div>"
      ],
      "text/plain": [
       "   first      last  age  height_cm  weight_kg income\n",
       "0  James     Smith   18      175.7       66.9  1,000\n",
       "1   Jane    Watson   18      163.0       56.7    800\n",
       "2   Adam    Miller   19      176.5       68.9    350\n",
       "3   Sara  Thompson   19      163.3       58.0    980\n",
       "4    Tom     Piper   20      168.5       57.5  2,500\n",
       "5  Carol   Winters   20      177.5       63.4  2,950"
      ]
     },
     "execution_count": 17,
     "metadata": {},
     "output_type": "execute_result"
    }
   ],
   "source": [
    "df = pd.read_csv('people_data.csv')\n",
    "\n",
    "df"
   ]
  },
  {
   "cell_type": "markdown",
   "metadata": {},
   "source": [
    "### Check column names"
   ]
  },
  {
   "cell_type": "code",
   "execution_count": 3,
   "metadata": {},
   "outputs": [
    {
     "data": {
      "text/plain": [
       "Index(['first', 'last', 'age', 'height_cm', 'weight_kg', 'income'], dtype='object')"
      ]
     },
     "execution_count": 3,
     "metadata": {},
     "output_type": "execute_result"
    }
   ],
   "source": [
    "df.columns"
   ]
  },
  {
   "cell_type": "markdown",
   "metadata": {},
   "source": [
    "### Rename by supplying column list"
   ]
  },
  {
   "cell_type": "code",
   "execution_count": 4,
   "metadata": {},
   "outputs": [],
   "source": [
    "col_names = ['first_name', 'last_name', 'respondent_age', 'height', 'weight', 'income']"
   ]
  },
  {
   "cell_type": "code",
   "execution_count": 5,
   "metadata": {},
   "outputs": [
    {
     "data": {
      "text/html": [
       "<div>\n",
       "<style scoped>\n",
       "    .dataframe tbody tr th:only-of-type {\n",
       "        vertical-align: middle;\n",
       "    }\n",
       "\n",
       "    .dataframe tbody tr th {\n",
       "        vertical-align: top;\n",
       "    }\n",
       "\n",
       "    .dataframe thead th {\n",
       "        text-align: right;\n",
       "    }\n",
       "</style>\n",
       "<table border=\"1\" class=\"dataframe\">\n",
       "  <thead>\n",
       "    <tr style=\"text-align: right;\">\n",
       "      <th></th>\n",
       "      <th>first_name</th>\n",
       "      <th>last_name</th>\n",
       "      <th>respondent_age</th>\n",
       "      <th>height</th>\n",
       "      <th>weight</th>\n",
       "      <th>income</th>\n",
       "    </tr>\n",
       "  </thead>\n",
       "  <tbody>\n",
       "    <tr>\n",
       "      <th>0</th>\n",
       "      <td>James</td>\n",
       "      <td>Smith</td>\n",
       "      <td>18</td>\n",
       "      <td>75.7</td>\n",
       "      <td>66.9</td>\n",
       "      <td>1,000</td>\n",
       "    </tr>\n",
       "    <tr>\n",
       "      <th>1</th>\n",
       "      <td>Jane</td>\n",
       "      <td>Watson</td>\n",
       "      <td>18</td>\n",
       "      <td>163.0</td>\n",
       "      <td>56.7</td>\n",
       "      <td>800</td>\n",
       "    </tr>\n",
       "    <tr>\n",
       "      <th>2</th>\n",
       "      <td>Adam</td>\n",
       "      <td>Miller</td>\n",
       "      <td>19</td>\n",
       "      <td>176.5</td>\n",
       "      <td>68.9</td>\n",
       "      <td>350</td>\n",
       "    </tr>\n",
       "    <tr>\n",
       "      <th>3</th>\n",
       "      <td>Sara</td>\n",
       "      <td>Thompson</td>\n",
       "      <td>19</td>\n",
       "      <td>163.3</td>\n",
       "      <td>58.0</td>\n",
       "      <td>980</td>\n",
       "    </tr>\n",
       "    <tr>\n",
       "      <th>4</th>\n",
       "      <td>Tom</td>\n",
       "      <td>Piper</td>\n",
       "      <td>20</td>\n",
       "      <td>168.5</td>\n",
       "      <td>57.5</td>\n",
       "      <td>2,500</td>\n",
       "    </tr>\n",
       "  </tbody>\n",
       "</table>\n",
       "</div>"
      ],
      "text/plain": [
       "  first_name last_name  respondent_age  height  weight income\n",
       "0      James     Smith              18    75.7    66.9  1,000\n",
       "1       Jane    Watson              18   163.0    56.7    800\n",
       "2       Adam    Miller              19   176.5    68.9    350\n",
       "3       Sara  Thompson              19   163.3    58.0    980\n",
       "4        Tom     Piper              20   168.5    57.5  2,500"
      ]
     },
     "execution_count": 5,
     "metadata": {},
     "output_type": "execute_result"
    }
   ],
   "source": [
    "df.columns = col_names\n",
    "\n",
    "df.head()"
   ]
  },
  {
   "cell_type": "markdown",
   "metadata": {},
   "source": [
    "### Rename with a dictionary\n",
    "\n",
    "- This method allows you to only rename a few columns.\n",
    "- Suply a dict with column old and new names"
   ]
  },
  {
   "cell_type": "code",
   "execution_count": 7,
   "metadata": {},
   "outputs": [
    {
     "data": {
      "text/html": [
       "<div>\n",
       "<style scoped>\n",
       "    .dataframe tbody tr th:only-of-type {\n",
       "        vertical-align: middle;\n",
       "    }\n",
       "\n",
       "    .dataframe tbody tr th {\n",
       "        vertical-align: top;\n",
       "    }\n",
       "\n",
       "    .dataframe thead th {\n",
       "        text-align: right;\n",
       "    }\n",
       "</style>\n",
       "<table border=\"1\" class=\"dataframe\">\n",
       "  <thead>\n",
       "    <tr style=\"text-align: right;\">\n",
       "      <th></th>\n",
       "      <th>firstname</th>\n",
       "      <th>surname</th>\n",
       "      <th>age</th>\n",
       "      <th>height</th>\n",
       "      <th>weight</th>\n",
       "      <th>income</th>\n",
       "    </tr>\n",
       "  </thead>\n",
       "  <tbody>\n",
       "    <tr>\n",
       "      <th>0</th>\n",
       "      <td>James</td>\n",
       "      <td>Smith</td>\n",
       "      <td>18</td>\n",
       "      <td>75.7</td>\n",
       "      <td>66.9</td>\n",
       "      <td>1,000</td>\n",
       "    </tr>\n",
       "    <tr>\n",
       "      <th>1</th>\n",
       "      <td>Jane</td>\n",
       "      <td>Watson</td>\n",
       "      <td>18</td>\n",
       "      <td>163.0</td>\n",
       "      <td>56.7</td>\n",
       "      <td>800</td>\n",
       "    </tr>\n",
       "    <tr>\n",
       "      <th>2</th>\n",
       "      <td>Adam</td>\n",
       "      <td>Miller</td>\n",
       "      <td>19</td>\n",
       "      <td>176.5</td>\n",
       "      <td>68.9</td>\n",
       "      <td>350</td>\n",
       "    </tr>\n",
       "    <tr>\n",
       "      <th>3</th>\n",
       "      <td>Sara</td>\n",
       "      <td>Thompson</td>\n",
       "      <td>19</td>\n",
       "      <td>163.3</td>\n",
       "      <td>58.0</td>\n",
       "      <td>980</td>\n",
       "    </tr>\n",
       "    <tr>\n",
       "      <th>4</th>\n",
       "      <td>Tom</td>\n",
       "      <td>Piper</td>\n",
       "      <td>20</td>\n",
       "      <td>168.5</td>\n",
       "      <td>57.5</td>\n",
       "      <td>2,500</td>\n",
       "    </tr>\n",
       "  </tbody>\n",
       "</table>\n",
       "</div>"
      ],
      "text/plain": [
       "  firstname   surname  age  height  weight income\n",
       "0     James     Smith   18    75.7    66.9  1,000\n",
       "1      Jane    Watson   18   163.0    56.7    800\n",
       "2      Adam    Miller   19   176.5    68.9    350\n",
       "3      Sara  Thompson   19   163.3    58.0    980\n",
       "4       Tom     Piper   20   168.5    57.5  2,500"
      ]
     },
     "execution_count": 7,
     "metadata": {},
     "output_type": "execute_result"
    }
   ],
   "source": [
    "df.rename(columns = {'first_name': 'firstname', 'last_name': 'surname', \n",
    "                    'respondent_age': 'age'}, inplace=True)\n",
    "\n",
    "df.head()"
   ]
  }
 ],
 "metadata": {
  "kernelspec": {
   "display_name": "Python 3",
   "language": "python",
   "name": "python3"
  },
  "language_info": {
   "codemirror_mode": {
    "name": "ipython",
    "version": 3
   },
   "file_extension": ".py",
   "mimetype": "text/x-python",
   "name": "python",
   "nbconvert_exporter": "python",
   "pygments_lexer": "ipython3",
   "version": "3.6.4"
  }
 },
 "nbformat": 4,
 "nbformat_minor": 2
}
