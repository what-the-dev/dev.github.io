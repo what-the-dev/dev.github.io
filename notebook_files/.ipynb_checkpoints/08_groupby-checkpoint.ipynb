{
 "cells": [
  {
   "cell_type": "markdown",
   "metadata": {},
   "source": [
    "# Grouping Data with Pandas\n",
    "\n",
    "- Using <code>groupby()</code> \n",
    "- More info on grouby in the [Docs](https://pandas.pydata.org/pandas-docs/stable/generated/pandas.DataFrame.groupby.html)\n",
    "- Datetime info can be found [here](http://pandas.pydata.org/pandas-docs/stable/timeseries.html)\n",
    "- Data can be found [here](https://github.com/stevesimmons/PyData-PandasFromTheInside)"
   ]
  },
  {
   "cell_type": "code",
   "execution_count": 57,
   "metadata": {},
   "outputs": [],
   "source": [
    "import pandas as pd\n",
    "import numpy as np\n",
    "import datetime"
   ]
  },
  {
   "cell_type": "code",
   "execution_count": 35,
   "metadata": {},
   "outputs": [
    {
     "data": {
      "text/html": [
       "<div>\n",
       "<style scoped>\n",
       "    .dataframe tbody tr th:only-of-type {\n",
       "        vertical-align: middle;\n",
       "    }\n",
       "\n",
       "    .dataframe tbody tr th {\n",
       "        vertical-align: top;\n",
       "    }\n",
       "\n",
       "    .dataframe thead th {\n",
       "        text-align: right;\n",
       "    }\n",
       "</style>\n",
       "<table border=\"1\" class=\"dataframe\">\n",
       "  <thead>\n",
       "    <tr style=\"text-align: right;\">\n",
       "      <th></th>\n",
       "      <th>Date</th>\n",
       "      <th>Venue</th>\n",
       "      <th>Round</th>\n",
       "      <th>Team</th>\n",
       "      <th>G</th>\n",
       "      <th>B</th>\n",
       "      <th>F</th>\n",
       "      <th>A</th>\n",
       "    </tr>\n",
       "  </thead>\n",
       "  <tbody>\n",
       "    <tr>\n",
       "      <th>0</th>\n",
       "      <td>1897-05-08</td>\n",
       "      <td>Brunswick St</td>\n",
       "      <td>R1</td>\n",
       "      <td>Fitzroy</td>\n",
       "      <td>6</td>\n",
       "      <td>13</td>\n",
       "      <td>49</td>\n",
       "      <td>16</td>\n",
       "    </tr>\n",
       "    <tr>\n",
       "      <th>1</th>\n",
       "      <td>1897-05-08</td>\n",
       "      <td>Brunswick St</td>\n",
       "      <td>R1</td>\n",
       "      <td>Carlton</td>\n",
       "      <td>2</td>\n",
       "      <td>4</td>\n",
       "      <td>16</td>\n",
       "      <td>49</td>\n",
       "    </tr>\n",
       "    <tr>\n",
       "      <th>2</th>\n",
       "      <td>1897-05-08</td>\n",
       "      <td>Corio Oval</td>\n",
       "      <td>R1</td>\n",
       "      <td>Geelong</td>\n",
       "      <td>3</td>\n",
       "      <td>6</td>\n",
       "      <td>24</td>\n",
       "      <td>47</td>\n",
       "    </tr>\n",
       "    <tr>\n",
       "      <th>3</th>\n",
       "      <td>1897-05-08</td>\n",
       "      <td>Corio Oval</td>\n",
       "      <td>R1</td>\n",
       "      <td>Essendon</td>\n",
       "      <td>7</td>\n",
       "      <td>5</td>\n",
       "      <td>47</td>\n",
       "      <td>24</td>\n",
       "    </tr>\n",
       "    <tr>\n",
       "      <th>4</th>\n",
       "      <td>1897-05-08</td>\n",
       "      <td>Lake Oval</td>\n",
       "      <td>R1</td>\n",
       "      <td>South Melbourne</td>\n",
       "      <td>3</td>\n",
       "      <td>9</td>\n",
       "      <td>27</td>\n",
       "      <td>44</td>\n",
       "    </tr>\n",
       "  </tbody>\n",
       "</table>\n",
       "</div>"
      ],
      "text/plain": [
       "         Date         Venue Round             Team  G   B   F   A\n",
       "0  1897-05-08  Brunswick St    R1          Fitzroy  6  13  49  16\n",
       "1  1897-05-08  Brunswick St    R1          Carlton  2   4  16  49\n",
       "2  1897-05-08    Corio Oval    R1          Geelong  3   6  24  47\n",
       "3  1897-05-08    Corio Oval    R1         Essendon  7   5  47  24\n",
       "4  1897-05-08     Lake Oval    R1  South Melbourne  3   9  27  44"
      ]
     },
     "execution_count": 35,
     "metadata": {},
     "output_type": "execute_result"
    }
   ],
   "source": [
    "# import data\n",
    "df = pd.read_csv('scores.csv')\n",
    "\n",
    "# view the first 10 rows\n",
    "df.head()"
   ]
  },
  {
   "cell_type": "markdown",
   "metadata": {},
   "source": [
    "The **groupby()** function essentialy groups data and allows you to apply function to that data.\n",
    "\n",
    "Below, lets group by the team and get the total count of games each team played."
   ]
  },
  {
   "cell_type": "code",
   "execution_count": 7,
   "metadata": {},
   "outputs": [
    {
     "data": {
      "text/plain": [
       "Team\n",
       "Adelaide             584\n",
       "Brisbane Bears       222\n",
       "Brisbane Lions       445\n",
       "Carlton             2431\n",
       "Collingwood         2469\n",
       "Essendon            2395\n",
       "Fitzroy             1928\n",
       "Footscray           1431\n",
       "Fremantle            483\n",
       "GW Sydney             94\n",
       "Geelong             2363\n",
       "Gold Coast           116\n",
       "Hawthorn            1912\n",
       "Kangaroos            209\n",
       "Melbourne           2336\n",
       "North Melbourne     1694\n",
       "Port Adelaide        446\n",
       "Richmond            2190\n",
       "South Melbourne     1570\n",
       "St Kilda            2312\n",
       "Sydney               793\n",
       "University           126\n",
       "West Coast           688\n",
       "Western Bulldogs     443\n",
       "Name: Team, dtype: int64"
      ]
     },
     "execution_count": 7,
     "metadata": {},
     "output_type": "execute_result"
    }
   ],
   "source": [
    "df.groupby('Team')['Team'].count()"
   ]
  },
  {
   "cell_type": "markdown",
   "metadata": {},
   "source": [
    "Grouping is useful for applying aggregate calculations on you data. e.g. Find the average number of goals scored by each team."
   ]
  },
  {
   "cell_type": "code",
   "execution_count": 13,
   "metadata": {},
   "outputs": [
    {
     "data": {
      "text/plain": [
       "Team\n",
       "Adelaide            13.753425\n",
       "Brisbane Bears      12.846847\n",
       "Brisbane Lions      13.676404\n",
       "Carlton             12.203209\n",
       "Collingwood         12.349939\n",
       "Essendon            12.382046\n",
       "Fitzroy             10.945021\n",
       "Footscray           11.499651\n",
       "Fremantle           12.759834\n",
       "GW Sydney           10.904255\n",
       "Geelong             12.269996\n",
       "Gold Coast          11.198276\n",
       "Hawthorn            13.010983\n",
       "Kangaroos           14.425837\n",
       "Melbourne           11.557791\n",
       "North Melbourne     12.390791\n",
       "Port Adelaide       13.432735\n",
       "Richmond            12.449772\n",
       "South Melbourne     10.429936\n",
       "St Kilda            10.974048\n",
       "Sydney              14.060530\n",
       "University           6.674603\n",
       "West Coast          13.805233\n",
       "Western Bulldogs    14.255079\n",
       "Name: G, dtype: float64"
      ]
     },
     "execution_count": 13,
     "metadata": {},
     "output_type": "execute_result"
    }
   ],
   "source": [
    "df.groupby(['Team'])['G'].mean()"
   ]
  },
  {
   "cell_type": "markdown",
   "metadata": {},
   "source": [
    "You can groupby multiple levels. \n",
    "\n",
    "e.g. For each Venue, find the total number of games each Team played at that Venue."
   ]
  },
  {
   "cell_type": "code",
   "execution_count": 15,
   "metadata": {},
   "outputs": [
    {
     "data": {
      "text/plain": [
       "Venue            Team            \n",
       "Adelaide Oval    Adelaide             26\n",
       "                 Brisbane Lions        2\n",
       "                 Carlton               1\n",
       "                 Collingwood           2\n",
       "                 Essendon              2\n",
       "                 Fremantle             4\n",
       "                 GW Sydney             2\n",
       "                 Geelong               3\n",
       "                 Gold Coast            2\n",
       "                 Hawthorn              4\n",
       "                 Melbourne             4\n",
       "                 North Melbourne       2\n",
       "                 Port Adelaide        30\n",
       "                 Richmond              4\n",
       "                 St Kilda              5\n",
       "                 Sydney                4\n",
       "                 West Coast            3\n",
       "                 Western Bulldogs      2\n",
       "Albury           North Melbourne       1\n",
       "                 South Melbourne       1\n",
       "Arden St         Carlton              47\n",
       "                 Collingwood          44\n",
       "                 Essendon             48\n",
       "                 Fitzroy              47\n",
       "                 Footscray            50\n",
       "                 Geelong              46\n",
       "                 Hawthorn             47\n",
       "                 Melbourne            50\n",
       "                 North Melbourne     529\n",
       "                 Richmond             49\n",
       "                                    ... \n",
       "Windy Hill       Richmond             57\n",
       "                 South Melbourne      51\n",
       "                 St Kilda             53\n",
       "                 Sydney                8\n",
       "                 West Coast            5\n",
       "Yallourn         Footscray             1\n",
       "                 St Kilda              1\n",
       "Yarraville Oval  Carlton               1\n",
       "                 Essendon              1\n",
       "                 Fitzroy               1\n",
       "                 Footscray             7\n",
       "                 Hawthorn              1\n",
       "                 Richmond              1\n",
       "                 South Melbourne       1\n",
       "                 St Kilda              1\n",
       "York Park        Adelaide              5\n",
       "                 Brisbane Lions        7\n",
       "                 Fremantle            10\n",
       "                 GW Sydney             1\n",
       "                 Geelong               1\n",
       "                 Gold Coast            3\n",
       "                 Hawthorn             49\n",
       "                 Kangaroos             2\n",
       "                 North Melbourne       4\n",
       "                 Port Adelaide         8\n",
       "                 Richmond              1\n",
       "                 St Kilda             10\n",
       "                 Sydney                1\n",
       "                 West Coast            7\n",
       "                 Western Bulldogs      5\n",
       "Name: Team, Length: 561, dtype: int64"
      ]
     },
     "execution_count": 15,
     "metadata": {},
     "output_type": "execute_result"
    }
   ],
   "source": [
    "df.groupby(['Venue', 'Team'])['Team'].count()"
   ]
  },
  {
   "cell_type": "markdown",
   "metadata": {},
   "source": [
    "### Grouping by Date\n",
    "\n",
    "- You can group by **datetime** objects. \n",
    "- There are multiple ways to do this, I will show you 2.\n",
    "\n",
    "- **Before** you start, you need to convert the Date into a **datetime** object"
   ]
  },
  {
   "cell_type": "markdown",
   "metadata": {},
   "source": [
    "### Converting Dates into datetime objects"
   ]
  },
  {
   "cell_type": "code",
   "execution_count": 36,
   "metadata": {},
   "outputs": [
    {
     "data": {
      "text/html": [
       "<div>\n",
       "<style scoped>\n",
       "    .dataframe tbody tr th:only-of-type {\n",
       "        vertical-align: middle;\n",
       "    }\n",
       "\n",
       "    .dataframe tbody tr th {\n",
       "        vertical-align: top;\n",
       "    }\n",
       "\n",
       "    .dataframe thead th {\n",
       "        text-align: right;\n",
       "    }\n",
       "</style>\n",
       "<table border=\"1\" class=\"dataframe\">\n",
       "  <thead>\n",
       "    <tr style=\"text-align: right;\">\n",
       "      <th></th>\n",
       "      <th>Date</th>\n",
       "      <th>Venue</th>\n",
       "      <th>Round</th>\n",
       "      <th>Team</th>\n",
       "      <th>G</th>\n",
       "      <th>B</th>\n",
       "      <th>F</th>\n",
       "      <th>A</th>\n",
       "    </tr>\n",
       "  </thead>\n",
       "  <tbody>\n",
       "    <tr>\n",
       "      <th>0</th>\n",
       "      <td>1897-05-08</td>\n",
       "      <td>Brunswick St</td>\n",
       "      <td>R1</td>\n",
       "      <td>Fitzroy</td>\n",
       "      <td>6</td>\n",
       "      <td>13</td>\n",
       "      <td>49</td>\n",
       "      <td>16</td>\n",
       "    </tr>\n",
       "    <tr>\n",
       "      <th>1</th>\n",
       "      <td>1897-05-08</td>\n",
       "      <td>Brunswick St</td>\n",
       "      <td>R1</td>\n",
       "      <td>Carlton</td>\n",
       "      <td>2</td>\n",
       "      <td>4</td>\n",
       "      <td>16</td>\n",
       "      <td>49</td>\n",
       "    </tr>\n",
       "    <tr>\n",
       "      <th>2</th>\n",
       "      <td>1897-05-08</td>\n",
       "      <td>Corio Oval</td>\n",
       "      <td>R1</td>\n",
       "      <td>Geelong</td>\n",
       "      <td>3</td>\n",
       "      <td>6</td>\n",
       "      <td>24</td>\n",
       "      <td>47</td>\n",
       "    </tr>\n",
       "    <tr>\n",
       "      <th>3</th>\n",
       "      <td>1897-05-08</td>\n",
       "      <td>Corio Oval</td>\n",
       "      <td>R1</td>\n",
       "      <td>Essendon</td>\n",
       "      <td>7</td>\n",
       "      <td>5</td>\n",
       "      <td>47</td>\n",
       "      <td>24</td>\n",
       "    </tr>\n",
       "    <tr>\n",
       "      <th>4</th>\n",
       "      <td>1897-05-08</td>\n",
       "      <td>Lake Oval</td>\n",
       "      <td>R1</td>\n",
       "      <td>South Melbourne</td>\n",
       "      <td>3</td>\n",
       "      <td>9</td>\n",
       "      <td>27</td>\n",
       "      <td>44</td>\n",
       "    </tr>\n",
       "  </tbody>\n",
       "</table>\n",
       "</div>"
      ],
      "text/plain": [
       "        Date         Venue Round             Team  G   B   F   A\n",
       "0 1897-05-08  Brunswick St    R1          Fitzroy  6  13  49  16\n",
       "1 1897-05-08  Brunswick St    R1          Carlton  2   4  16  49\n",
       "2 1897-05-08    Corio Oval    R1          Geelong  3   6  24  47\n",
       "3 1897-05-08    Corio Oval    R1         Essendon  7   5  47  24\n",
       "4 1897-05-08     Lake Oval    R1  South Melbourne  3   9  27  44"
      ]
     },
     "execution_count": 36,
     "metadata": {},
     "output_type": "execute_result"
    }
   ],
   "source": [
    "# Convert the date variable into a datetime object\n",
    "df.Date = pd.to_datetime(df.Date)\n",
    "\n",
    "df.head()"
   ]
  },
  {
   "cell_type": "code",
   "execution_count": 39,
   "metadata": {},
   "outputs": [
    {
     "data": {
      "text/plain": [
       "Timestamp('1897-05-08 00:00:00')"
      ]
     },
     "execution_count": 39,
     "metadata": {},
     "output_type": "execute_result"
    }
   ],
   "source": [
    "# check that this worked\n",
    "\n",
    "df['Date'][0]"
   ]
  },
  {
   "cell_type": "markdown",
   "metadata": {},
   "source": [
    "### 1. Split the Date into Month, Year, Day"
   ]
  },
  {
   "cell_type": "code",
   "execution_count": 49,
   "metadata": {},
   "outputs": [
    {
     "data": {
      "text/html": [
       "<div>\n",
       "<style scoped>\n",
       "    .dataframe tbody tr th:only-of-type {\n",
       "        vertical-align: middle;\n",
       "    }\n",
       "\n",
       "    .dataframe tbody tr th {\n",
       "        vertical-align: top;\n",
       "    }\n",
       "\n",
       "    .dataframe thead th {\n",
       "        text-align: right;\n",
       "    }\n",
       "</style>\n",
       "<table border=\"1\" class=\"dataframe\">\n",
       "  <thead>\n",
       "    <tr style=\"text-align: right;\">\n",
       "      <th></th>\n",
       "      <th>Date</th>\n",
       "      <th>Venue</th>\n",
       "      <th>Round</th>\n",
       "      <th>Team</th>\n",
       "      <th>G</th>\n",
       "      <th>B</th>\n",
       "      <th>F</th>\n",
       "      <th>A</th>\n",
       "      <th>year</th>\n",
       "      <th>month</th>\n",
       "      <th>day</th>\n",
       "    </tr>\n",
       "  </thead>\n",
       "  <tbody>\n",
       "    <tr>\n",
       "      <th>0</th>\n",
       "      <td>1897-05-08</td>\n",
       "      <td>Brunswick St</td>\n",
       "      <td>R1</td>\n",
       "      <td>Fitzroy</td>\n",
       "      <td>6</td>\n",
       "      <td>13</td>\n",
       "      <td>49</td>\n",
       "      <td>16</td>\n",
       "      <td>1897</td>\n",
       "      <td>5</td>\n",
       "      <td>8</td>\n",
       "    </tr>\n",
       "    <tr>\n",
       "      <th>1</th>\n",
       "      <td>1897-05-08</td>\n",
       "      <td>Brunswick St</td>\n",
       "      <td>R1</td>\n",
       "      <td>Carlton</td>\n",
       "      <td>2</td>\n",
       "      <td>4</td>\n",
       "      <td>16</td>\n",
       "      <td>49</td>\n",
       "      <td>1897</td>\n",
       "      <td>5</td>\n",
       "      <td>8</td>\n",
       "    </tr>\n",
       "    <tr>\n",
       "      <th>2</th>\n",
       "      <td>1897-05-08</td>\n",
       "      <td>Corio Oval</td>\n",
       "      <td>R1</td>\n",
       "      <td>Geelong</td>\n",
       "      <td>3</td>\n",
       "      <td>6</td>\n",
       "      <td>24</td>\n",
       "      <td>47</td>\n",
       "      <td>1897</td>\n",
       "      <td>5</td>\n",
       "      <td>8</td>\n",
       "    </tr>\n",
       "    <tr>\n",
       "      <th>3</th>\n",
       "      <td>1897-05-08</td>\n",
       "      <td>Corio Oval</td>\n",
       "      <td>R1</td>\n",
       "      <td>Essendon</td>\n",
       "      <td>7</td>\n",
       "      <td>5</td>\n",
       "      <td>47</td>\n",
       "      <td>24</td>\n",
       "      <td>1897</td>\n",
       "      <td>5</td>\n",
       "      <td>8</td>\n",
       "    </tr>\n",
       "    <tr>\n",
       "      <th>4</th>\n",
       "      <td>1897-05-08</td>\n",
       "      <td>Lake Oval</td>\n",
       "      <td>R1</td>\n",
       "      <td>South Melbourne</td>\n",
       "      <td>3</td>\n",
       "      <td>9</td>\n",
       "      <td>27</td>\n",
       "      <td>44</td>\n",
       "      <td>1897</td>\n",
       "      <td>5</td>\n",
       "      <td>8</td>\n",
       "    </tr>\n",
       "  </tbody>\n",
       "</table>\n",
       "</div>"
      ],
      "text/plain": [
       "        Date         Venue Round             Team  G   B   F   A  year  month  \\\n",
       "0 1897-05-08  Brunswick St    R1          Fitzroy  6  13  49  16  1897      5   \n",
       "1 1897-05-08  Brunswick St    R1          Carlton  2   4  16  49  1897      5   \n",
       "2 1897-05-08    Corio Oval    R1          Geelong  3   6  24  47  1897      5   \n",
       "3 1897-05-08    Corio Oval    R1         Essendon  7   5  47  24  1897      5   \n",
       "4 1897-05-08     Lake Oval    R1  South Melbourne  3   9  27  44  1897      5   \n",
       "\n",
       "   day  \n",
       "0    8  \n",
       "1    8  \n",
       "2    8  \n",
       "3    8  \n",
       "4    8  "
      ]
     },
     "execution_count": 49,
     "metadata": {},
     "output_type": "execute_result"
    }
   ],
   "source": [
    "# now that you have a datetime object, \n",
    "# you can extract Month, Day and Year easily\n",
    "\n",
    "df.Date[0].year  # 1987\n",
    "df.Date[0].month # 5\n",
    "df.Date[0].day   # 8\n",
    "\n",
    "# now create new columns for with this info\n",
    "\n",
    "df['year'] = df['Date'].dt.year\n",
    "df['month'] = df['Date'].dt.month\n",
    "df['day'] = df['Date'].dt.day\n",
    "\n",
    "df.head()"
   ]
  },
  {
   "cell_type": "markdown",
   "metadata": {},
   "source": [
    "Now, you can use the new columns to group the data\n",
    "\n",
    "e.g. FInd the number of Rounds played **each month** in **2014**"
   ]
  },
  {
   "cell_type": "code",
   "execution_count": 50,
   "metadata": {},
   "outputs": [
    {
     "data": {
      "text/plain": [
       "month\n",
       "3    36\n",
       "4    72\n",
       "5    64\n",
       "6    80\n",
       "7    56\n",
       "8    88\n",
       "9    18\n",
       "Name: Round, dtype: int64"
      ]
     },
     "execution_count": 50,
     "metadata": {},
     "output_type": "execute_result"
    }
   ],
   "source": [
    "df.query('year == 2014').groupby('month')['Round'].count()"
   ]
  },
  {
   "cell_type": "markdown",
   "metadata": {},
   "source": [
    "### 2. Create a datetime index\n",
    "\n",
    "- This mehtod is NOT ideal for THIS dataset because there are multiple games played on each day\n",
    "- We will create some new data to work with"
   ]
  },
  {
   "cell_type": "code",
   "execution_count": 69,
   "metadata": {},
   "outputs": [
    {
     "data": {
      "text/html": [
       "<div>\n",
       "<style scoped>\n",
       "    .dataframe tbody tr th:only-of-type {\n",
       "        vertical-align: middle;\n",
       "    }\n",
       "\n",
       "    .dataframe tbody tr th {\n",
       "        vertical-align: top;\n",
       "    }\n",
       "\n",
       "    .dataframe thead th {\n",
       "        text-align: right;\n",
       "    }\n",
       "</style>\n",
       "<table border=\"1\" class=\"dataframe\">\n",
       "  <thead>\n",
       "    <tr style=\"text-align: right;\">\n",
       "      <th></th>\n",
       "      <th>date</th>\n",
       "      <th>score</th>\n",
       "    </tr>\n",
       "  </thead>\n",
       "  <tbody>\n",
       "    <tr>\n",
       "      <th>0</th>\n",
       "      <td>2018-06-27 11:40:22.709474</td>\n",
       "      <td>20</td>\n",
       "    </tr>\n",
       "    <tr>\n",
       "      <th>1</th>\n",
       "      <td>2018-06-28 11:40:22.709474</td>\n",
       "      <td>48</td>\n",
       "    </tr>\n",
       "    <tr>\n",
       "      <th>2</th>\n",
       "      <td>2018-06-29 11:40:22.709474</td>\n",
       "      <td>29</td>\n",
       "    </tr>\n",
       "    <tr>\n",
       "      <th>3</th>\n",
       "      <td>2018-06-30 11:40:22.709474</td>\n",
       "      <td>74</td>\n",
       "    </tr>\n",
       "    <tr>\n",
       "      <th>4</th>\n",
       "      <td>2018-07-01 11:40:22.709474</td>\n",
       "      <td>78</td>\n",
       "    </tr>\n",
       "  </tbody>\n",
       "</table>\n",
       "</div>"
      ],
      "text/plain": [
       "                        date  score\n",
       "0 2018-06-27 11:40:22.709474     20\n",
       "1 2018-06-28 11:40:22.709474     48\n",
       "2 2018-06-29 11:40:22.709474     29\n",
       "3 2018-06-30 11:40:22.709474     74\n",
       "4 2018-07-01 11:40:22.709474     78"
      ]
     },
     "execution_count": 69,
     "metadata": {},
     "output_type": "execute_result"
    }
   ],
   "source": [
    "base = datetime.datetime.today()\n",
    "\n",
    "# create a list of dates spanning 365 days\n",
    "date_list = pd.date_range(base, periods=365).values\n",
    "\n",
    "# Create a list of numeric values, spanning 365 values\n",
    "score_list = list(np.random.randint(low=1, high=100, size=365))\n",
    "\n",
    "# create empty dataframe\n",
    "date_df = pd.DataFrame()\n",
    "\n",
    "# append data\n",
    "date_df['date'] = date_list\n",
    "date_df['score'] = score_list\n",
    "\n",
    "date_df.head()"
   ]
  },
  {
   "cell_type": "markdown",
   "metadata": {},
   "source": [
    "### create datetime index\n",
    "\n",
    "- For grouping to work, we need to create a datetime index from our date data"
   ]
  },
  {
   "cell_type": "code",
   "execution_count": 70,
   "metadata": {},
   "outputs": [
    {
     "data": {
      "text/html": [
       "<div>\n",
       "<style scoped>\n",
       "    .dataframe tbody tr th:only-of-type {\n",
       "        vertical-align: middle;\n",
       "    }\n",
       "\n",
       "    .dataframe tbody tr th {\n",
       "        vertical-align: top;\n",
       "    }\n",
       "\n",
       "    .dataframe thead th {\n",
       "        text-align: right;\n",
       "    }\n",
       "</style>\n",
       "<table border=\"1\" class=\"dataframe\">\n",
       "  <thead>\n",
       "    <tr style=\"text-align: right;\">\n",
       "      <th></th>\n",
       "      <th>date</th>\n",
       "      <th>score</th>\n",
       "    </tr>\n",
       "    <tr>\n",
       "      <th>date</th>\n",
       "      <th></th>\n",
       "      <th></th>\n",
       "    </tr>\n",
       "  </thead>\n",
       "  <tbody>\n",
       "    <tr>\n",
       "      <th>2018-06-27 11:40:22.709474</th>\n",
       "      <td>2018-06-27 11:40:22.709474</td>\n",
       "      <td>20</td>\n",
       "    </tr>\n",
       "    <tr>\n",
       "      <th>2018-06-28 11:40:22.709474</th>\n",
       "      <td>2018-06-28 11:40:22.709474</td>\n",
       "      <td>48</td>\n",
       "    </tr>\n",
       "    <tr>\n",
       "      <th>2018-06-29 11:40:22.709474</th>\n",
       "      <td>2018-06-29 11:40:22.709474</td>\n",
       "      <td>29</td>\n",
       "    </tr>\n",
       "    <tr>\n",
       "      <th>2018-06-30 11:40:22.709474</th>\n",
       "      <td>2018-06-30 11:40:22.709474</td>\n",
       "      <td>74</td>\n",
       "    </tr>\n",
       "    <tr>\n",
       "      <th>2018-07-01 11:40:22.709474</th>\n",
       "      <td>2018-07-01 11:40:22.709474</td>\n",
       "      <td>78</td>\n",
       "    </tr>\n",
       "  </tbody>\n",
       "</table>\n",
       "</div>"
      ],
      "text/plain": [
       "                                                 date  score\n",
       "date                                                        \n",
       "2018-06-27 11:40:22.709474 2018-06-27 11:40:22.709474     20\n",
       "2018-06-28 11:40:22.709474 2018-06-28 11:40:22.709474     48\n",
       "2018-06-29 11:40:22.709474 2018-06-29 11:40:22.709474     29\n",
       "2018-06-30 11:40:22.709474 2018-06-30 11:40:22.709474     74\n",
       "2018-07-01 11:40:22.709474 2018-07-01 11:40:22.709474     78"
      ]
     },
     "execution_count": 70,
     "metadata": {},
     "output_type": "execute_result"
    }
   ],
   "source": [
    "date_df.index = date_df['date']\n",
    "\n",
    "date_df.head()"
   ]
  },
  {
   "cell_type": "markdown",
   "metadata": {},
   "source": [
    "Find the average score for each month"
   ]
  },
  {
   "cell_type": "code",
   "execution_count": 71,
   "metadata": {},
   "outputs": [
    {
     "data": {
      "text/plain": [
       "date\n",
       "2018-06-30    42.750000\n",
       "2018-07-31    41.580645\n",
       "2018-08-31    47.612903\n",
       "2018-09-30    44.800000\n",
       "2018-10-31    37.870968\n",
       "2018-11-30    45.166667\n",
       "2018-12-31    41.935484\n",
       "2019-01-31    56.903226\n",
       "2019-02-28    45.357143\n",
       "2019-03-31    42.645161\n",
       "2019-04-30    52.066667\n",
       "2019-05-31    53.064516\n",
       "2019-06-30    46.115385\n",
       "Freq: M, Name: score, dtype: float64"
      ]
     },
     "execution_count": 71,
     "metadata": {},
     "output_type": "execute_result"
    }
   ],
   "source": [
    "date_df.groupby(pd.Grouper(freq='M'))['score'].mean()"
   ]
  },
  {
   "cell_type": "markdown",
   "metadata": {},
   "source": [
    "**Another** way to do the same thing using <code>**resample()**</code>"
   ]
  },
  {
   "cell_type": "code",
   "execution_count": 73,
   "metadata": {},
   "outputs": [
    {
     "data": {
      "text/plain": [
       "date\n",
       "2018-06-30    42.750000\n",
       "2018-07-31    41.580645\n",
       "2018-08-31    47.612903\n",
       "2018-09-30    44.800000\n",
       "2018-10-31    37.870968\n",
       "2018-11-30    45.166667\n",
       "2018-12-31    41.935484\n",
       "2019-01-31    56.903226\n",
       "2019-02-28    45.357143\n",
       "2019-03-31    42.645161\n",
       "2019-04-30    52.066667\n",
       "2019-05-31    53.064516\n",
       "2019-06-30    46.115385\n",
       "Freq: M, Name: score, dtype: float64"
      ]
     },
     "execution_count": 73,
     "metadata": {},
     "output_type": "execute_result"
    }
   ],
   "source": [
    "date_df.resample('M')['score'].mean()"
   ]
  }
 ],
 "metadata": {
  "kernelspec": {
   "display_name": "Python 3",
   "language": "python",
   "name": "python3"
  },
  "language_info": {
   "codemirror_mode": {
    "name": "ipython",
    "version": 3
   },
   "file_extension": ".py",
   "mimetype": "text/x-python",
   "name": "python",
   "nbconvert_exporter": "python",
   "pygments_lexer": "ipython3",
   "version": "3.6.4"
  }
 },
 "nbformat": 4,
 "nbformat_minor": 2
}
