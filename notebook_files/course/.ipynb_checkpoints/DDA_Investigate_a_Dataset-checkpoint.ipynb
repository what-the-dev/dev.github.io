{
 "cells": [
  {
   "cell_type": "markdown",
   "metadata": {},
   "source": [
    "# Project: Investigate a Dataset (Appointment No-Show)\n",
    "\n",
    "## Table of Contents\n",
    "<ul>\n",
    "<li><a href=\"#intro\">Introduction</a></li>\n",
    "<li><a href=\"#wrangling\">Data Wrangling</a></li>\n",
    "<li><a href=\"#eda\">Exploratory Data Analysis</a></li>\n",
    "<li><a href=\"#conclusions\">Conclusions</a></li>\n",
    "</ul>"
   ]
  },
  {
   "cell_type": "markdown",
   "metadata": {},
   "source": [
    "<a id='intro'></a>\n",
    "## Introduction\n",
    "\n",
    " This report will explore data collected around patient attendance. The data includes several factures that could influence whether or not a patient attends an appointment. Variables include (among others), Age, Gender, Handicap, Location and whether or not the patient received an SMS reminder. \n",
    "\n",
    " This report will explore three variables to determine which of these factors (if any) appears to have the most influence on patient attendance. Gender, day of the week and whether or not an SMS notification was received will be looked at in depth.\n",
    "\n",
    "**Question 1**\n",
    "Which gender group is more likely to attend an appointment?\n",
    "\n",
    "**Question 2**\n",
    "Which gender group is more likely to attend an appointment if they received an SMS notification?\n",
    "\n",
    "**Question 3**\n",
    "Are patients more likely to attend an appointment based on a certain day of the week?\n"
   ]
  },
  {
   "cell_type": "code",
   "execution_count": 1,
   "metadata": {},
   "outputs": [],
   "source": [
    "# Import necessary packages \n",
    "import pandas as pd\n",
    "import numpy as np\n",
    "import matplotlib.pyplot as plt\n",
    "\n",
    "% matplotlib inline\n",
    "% config InlineBackend.figure_format = 'retina'\n"
   ]
  },
  {
   "cell_type": "markdown",
   "metadata": {},
   "source": [
    "<a id='wrangling'></a>\n",
    "## Data Wrangling\n"
   ]
  },
  {
   "cell_type": "code",
   "execution_count": 2,
   "metadata": {},
   "outputs": [
    {
     "data": {
      "text/html": [
       "<div>\n",
       "<style>\n",
       "    .dataframe thead tr:only-child th {\n",
       "        text-align: right;\n",
       "    }\n",
       "\n",
       "    .dataframe thead th {\n",
       "        text-align: left;\n",
       "    }\n",
       "\n",
       "    .dataframe tbody tr th {\n",
       "        vertical-align: top;\n",
       "    }\n",
       "</style>\n",
       "<table border=\"1\" class=\"dataframe\">\n",
       "  <thead>\n",
       "    <tr style=\"text-align: right;\">\n",
       "      <th></th>\n",
       "      <th>PatientId</th>\n",
       "      <th>AppointmentID</th>\n",
       "      <th>Gender</th>\n",
       "      <th>ScheduledDay</th>\n",
       "      <th>AppointmentDay</th>\n",
       "      <th>Age</th>\n",
       "      <th>Neighbourhood</th>\n",
       "      <th>Scholarship</th>\n",
       "      <th>Hipertension</th>\n",
       "      <th>Diabetes</th>\n",
       "      <th>Alcoholism</th>\n",
       "      <th>Handcap</th>\n",
       "      <th>SMS_received</th>\n",
       "      <th>No-show</th>\n",
       "    </tr>\n",
       "  </thead>\n",
       "  <tbody>\n",
       "    <tr>\n",
       "      <th>0</th>\n",
       "      <td>2.987250e+13</td>\n",
       "      <td>5642903</td>\n",
       "      <td>F</td>\n",
       "      <td>2016-04-29T18:38:08Z</td>\n",
       "      <td>2016-04-29T00:00:00Z</td>\n",
       "      <td>62</td>\n",
       "      <td>JARDIM DA PENHA</td>\n",
       "      <td>0</td>\n",
       "      <td>1</td>\n",
       "      <td>0</td>\n",
       "      <td>0</td>\n",
       "      <td>0</td>\n",
       "      <td>0</td>\n",
       "      <td>No</td>\n",
       "    </tr>\n",
       "    <tr>\n",
       "      <th>1</th>\n",
       "      <td>5.589978e+14</td>\n",
       "      <td>5642503</td>\n",
       "      <td>M</td>\n",
       "      <td>2016-04-29T16:08:27Z</td>\n",
       "      <td>2016-04-29T00:00:00Z</td>\n",
       "      <td>56</td>\n",
       "      <td>JARDIM DA PENHA</td>\n",
       "      <td>0</td>\n",
       "      <td>0</td>\n",
       "      <td>0</td>\n",
       "      <td>0</td>\n",
       "      <td>0</td>\n",
       "      <td>0</td>\n",
       "      <td>No</td>\n",
       "    </tr>\n",
       "    <tr>\n",
       "      <th>2</th>\n",
       "      <td>4.262962e+12</td>\n",
       "      <td>5642549</td>\n",
       "      <td>F</td>\n",
       "      <td>2016-04-29T16:19:04Z</td>\n",
       "      <td>2016-04-29T00:00:00Z</td>\n",
       "      <td>62</td>\n",
       "      <td>MATA DA PRAIA</td>\n",
       "      <td>0</td>\n",
       "      <td>0</td>\n",
       "      <td>0</td>\n",
       "      <td>0</td>\n",
       "      <td>0</td>\n",
       "      <td>0</td>\n",
       "      <td>No</td>\n",
       "    </tr>\n",
       "    <tr>\n",
       "      <th>3</th>\n",
       "      <td>8.679512e+11</td>\n",
       "      <td>5642828</td>\n",
       "      <td>F</td>\n",
       "      <td>2016-04-29T17:29:31Z</td>\n",
       "      <td>2016-04-29T00:00:00Z</td>\n",
       "      <td>8</td>\n",
       "      <td>PONTAL DE CAMBURI</td>\n",
       "      <td>0</td>\n",
       "      <td>0</td>\n",
       "      <td>0</td>\n",
       "      <td>0</td>\n",
       "      <td>0</td>\n",
       "      <td>0</td>\n",
       "      <td>No</td>\n",
       "    </tr>\n",
       "    <tr>\n",
       "      <th>4</th>\n",
       "      <td>8.841186e+12</td>\n",
       "      <td>5642494</td>\n",
       "      <td>F</td>\n",
       "      <td>2016-04-29T16:07:23Z</td>\n",
       "      <td>2016-04-29T00:00:00Z</td>\n",
       "      <td>56</td>\n",
       "      <td>JARDIM DA PENHA</td>\n",
       "      <td>0</td>\n",
       "      <td>1</td>\n",
       "      <td>1</td>\n",
       "      <td>0</td>\n",
       "      <td>0</td>\n",
       "      <td>0</td>\n",
       "      <td>No</td>\n",
       "    </tr>\n",
       "  </tbody>\n",
       "</table>\n",
       "</div>"
      ],
      "text/plain": [
       "      PatientId  AppointmentID Gender          ScheduledDay  \\\n",
       "0  2.987250e+13        5642903      F  2016-04-29T18:38:08Z   \n",
       "1  5.589978e+14        5642503      M  2016-04-29T16:08:27Z   \n",
       "2  4.262962e+12        5642549      F  2016-04-29T16:19:04Z   \n",
       "3  8.679512e+11        5642828      F  2016-04-29T17:29:31Z   \n",
       "4  8.841186e+12        5642494      F  2016-04-29T16:07:23Z   \n",
       "\n",
       "         AppointmentDay  Age      Neighbourhood  Scholarship  Hipertension  \\\n",
       "0  2016-04-29T00:00:00Z   62    JARDIM DA PENHA            0             1   \n",
       "1  2016-04-29T00:00:00Z   56    JARDIM DA PENHA            0             0   \n",
       "2  2016-04-29T00:00:00Z   62      MATA DA PRAIA            0             0   \n",
       "3  2016-04-29T00:00:00Z    8  PONTAL DE CAMBURI            0             0   \n",
       "4  2016-04-29T00:00:00Z   56    JARDIM DA PENHA            0             1   \n",
       "\n",
       "   Diabetes  Alcoholism  Handcap  SMS_received No-show  \n",
       "0         0           0        0             0      No  \n",
       "1         0           0        0             0      No  \n",
       "2         0           0        0             0      No  \n",
       "3         0           0        0             0      No  \n",
       "4         1           0        0             0      No  "
      ]
     },
     "execution_count": 2,
     "metadata": {},
     "output_type": "execute_result"
    }
   ],
   "source": [
    "# Import data\n",
    "\n",
    "df = pd.read_csv('noshow.csv')\n",
    "df.head()\n"
   ]
  },
  {
   "cell_type": "markdown",
   "metadata": {},
   "source": [
    "\n",
    "### Data Cleaning\n",
    "\n",
    "The following cleaning steps will be applied to the data frame\n",
    "\n",
    "**Rename headers** <br>\n",
    "- *Headers* will be reneamed to be consistent across the data frame. All headers will be lowercase and will use underscores instead of spaces or hyphens. \n",
    "- Datatypes will be converted into correct format\n",
    "- *Dates and Times* will be converted into Datetime objects for easy analysis\n",
    "- *Duplicates* will be removed\n",
    "- Any records with common-sense erros will be removed ie. negative age, records with missing *Gender* information.\n",
    "- Replace no_show categorical variables with 'Y' for attend and 'N' for missed\n",
    "\n",
    "\n"
   ]
  },
  {
   "cell_type": "markdown",
   "metadata": {
    "collapsed": true
   },
   "source": [
    "##   Rename Headers\n"
   ]
  },
  {
   "cell_type": "code",
   "execution_count": 3,
   "metadata": {},
   "outputs": [
    {
     "data": {
      "text/html": [
       "<div>\n",
       "<style>\n",
       "    .dataframe thead tr:only-child th {\n",
       "        text-align: right;\n",
       "    }\n",
       "\n",
       "    .dataframe thead th {\n",
       "        text-align: left;\n",
       "    }\n",
       "\n",
       "    .dataframe tbody tr th {\n",
       "        vertical-align: top;\n",
       "    }\n",
       "</style>\n",
       "<table border=\"1\" class=\"dataframe\">\n",
       "  <thead>\n",
       "    <tr style=\"text-align: right;\">\n",
       "      <th></th>\n",
       "      <th>patient_id</th>\n",
       "      <th>appt_id</th>\n",
       "      <th>gender</th>\n",
       "      <th>scheduled_day</th>\n",
       "      <th>appt_day</th>\n",
       "      <th>age</th>\n",
       "      <th>neighbourhood</th>\n",
       "      <th>scholarship</th>\n",
       "      <th>hipertension</th>\n",
       "      <th>diabetes</th>\n",
       "      <th>alcoholism</th>\n",
       "      <th>handicap</th>\n",
       "      <th>sms_rec</th>\n",
       "      <th>no_show</th>\n",
       "    </tr>\n",
       "  </thead>\n",
       "  <tbody>\n",
       "    <tr>\n",
       "      <th>0</th>\n",
       "      <td>2.987250e+13</td>\n",
       "      <td>5642903</td>\n",
       "      <td>F</td>\n",
       "      <td>2016-04-29T18:38:08Z</td>\n",
       "      <td>2016-04-29T00:00:00Z</td>\n",
       "      <td>62</td>\n",
       "      <td>JARDIM DA PENHA</td>\n",
       "      <td>0</td>\n",
       "      <td>1</td>\n",
       "      <td>0</td>\n",
       "      <td>0</td>\n",
       "      <td>0</td>\n",
       "      <td>0</td>\n",
       "      <td>No</td>\n",
       "    </tr>\n",
       "    <tr>\n",
       "      <th>1</th>\n",
       "      <td>5.589978e+14</td>\n",
       "      <td>5642503</td>\n",
       "      <td>M</td>\n",
       "      <td>2016-04-29T16:08:27Z</td>\n",
       "      <td>2016-04-29T00:00:00Z</td>\n",
       "      <td>56</td>\n",
       "      <td>JARDIM DA PENHA</td>\n",
       "      <td>0</td>\n",
       "      <td>0</td>\n",
       "      <td>0</td>\n",
       "      <td>0</td>\n",
       "      <td>0</td>\n",
       "      <td>0</td>\n",
       "      <td>No</td>\n",
       "    </tr>\n",
       "    <tr>\n",
       "      <th>2</th>\n",
       "      <td>4.262962e+12</td>\n",
       "      <td>5642549</td>\n",
       "      <td>F</td>\n",
       "      <td>2016-04-29T16:19:04Z</td>\n",
       "      <td>2016-04-29T00:00:00Z</td>\n",
       "      <td>62</td>\n",
       "      <td>MATA DA PRAIA</td>\n",
       "      <td>0</td>\n",
       "      <td>0</td>\n",
       "      <td>0</td>\n",
       "      <td>0</td>\n",
       "      <td>0</td>\n",
       "      <td>0</td>\n",
       "      <td>No</td>\n",
       "    </tr>\n",
       "    <tr>\n",
       "      <th>3</th>\n",
       "      <td>8.679512e+11</td>\n",
       "      <td>5642828</td>\n",
       "      <td>F</td>\n",
       "      <td>2016-04-29T17:29:31Z</td>\n",
       "      <td>2016-04-29T00:00:00Z</td>\n",
       "      <td>8</td>\n",
       "      <td>PONTAL DE CAMBURI</td>\n",
       "      <td>0</td>\n",
       "      <td>0</td>\n",
       "      <td>0</td>\n",
       "      <td>0</td>\n",
       "      <td>0</td>\n",
       "      <td>0</td>\n",
       "      <td>No</td>\n",
       "    </tr>\n",
       "    <tr>\n",
       "      <th>4</th>\n",
       "      <td>8.841186e+12</td>\n",
       "      <td>5642494</td>\n",
       "      <td>F</td>\n",
       "      <td>2016-04-29T16:07:23Z</td>\n",
       "      <td>2016-04-29T00:00:00Z</td>\n",
       "      <td>56</td>\n",
       "      <td>JARDIM DA PENHA</td>\n",
       "      <td>0</td>\n",
       "      <td>1</td>\n",
       "      <td>1</td>\n",
       "      <td>0</td>\n",
       "      <td>0</td>\n",
       "      <td>0</td>\n",
       "      <td>No</td>\n",
       "    </tr>\n",
       "  </tbody>\n",
       "</table>\n",
       "</div>"
      ],
      "text/plain": [
       "     patient_id  appt_id gender         scheduled_day              appt_day  \\\n",
       "0  2.987250e+13  5642903      F  2016-04-29T18:38:08Z  2016-04-29T00:00:00Z   \n",
       "1  5.589978e+14  5642503      M  2016-04-29T16:08:27Z  2016-04-29T00:00:00Z   \n",
       "2  4.262962e+12  5642549      F  2016-04-29T16:19:04Z  2016-04-29T00:00:00Z   \n",
       "3  8.679512e+11  5642828      F  2016-04-29T17:29:31Z  2016-04-29T00:00:00Z   \n",
       "4  8.841186e+12  5642494      F  2016-04-29T16:07:23Z  2016-04-29T00:00:00Z   \n",
       "\n",
       "   age      neighbourhood  scholarship  hipertension  diabetes  alcoholism  \\\n",
       "0   62    JARDIM DA PENHA            0             1         0           0   \n",
       "1   56    JARDIM DA PENHA            0             0         0           0   \n",
       "2   62      MATA DA PRAIA            0             0         0           0   \n",
       "3    8  PONTAL DE CAMBURI            0             0         0           0   \n",
       "4   56    JARDIM DA PENHA            0             1         1           0   \n",
       "\n",
       "   handicap  sms_rec no_show  \n",
       "0         0        0      No  \n",
       "1         0        0      No  \n",
       "2         0        0      No  \n",
       "3         0        0      No  \n",
       "4         0        0      No  "
      ]
     },
     "execution_count": 3,
     "metadata": {},
     "output_type": "execute_result"
    }
   ],
   "source": [
    "# create new labels\n",
    "new_labels = ['patient_id', 'appt_id', 'gender', 'scheduled_day', 'appt_day', 'age', \n",
    "              'neighbourhood', 'scholarship', 'hipertension', 'diabetes', 'alcoholism', \n",
    "              'handicap', 'sms_rec', 'no_show']\n",
    "\n",
    "# rename columns\n",
    "df.columns = new_labels\n",
    "\n",
    "# check the changes\n",
    "df.head()\n",
    "\n"
   ]
  },
  {
   "cell_type": "markdown",
   "metadata": {
    "collapsed": true
   },
   "source": [
    "##   Check Data Types\n"
   ]
  },
  {
   "cell_type": "code",
   "execution_count": 4,
   "metadata": {},
   "outputs": [
    {
     "data": {
      "text/plain": [
       "patient_id       float64\n",
       "appt_id            int64\n",
       "gender            object\n",
       "scheduled_day     object\n",
       "appt_day          object\n",
       "age                int64\n",
       "neighbourhood     object\n",
       "scholarship        int64\n",
       "hipertension       int64\n",
       "diabetes           int64\n",
       "alcoholism         int64\n",
       "handicap           int64\n",
       "sms_rec            int64\n",
       "no_show           object\n",
       "dtype: object"
      ]
     },
     "execution_count": 4,
     "metadata": {},
     "output_type": "execute_result"
    }
   ],
   "source": [
    "df.dtypes"
   ]
  },
  {
   "cell_type": "markdown",
   "metadata": {},
   "source": [
    "## Create Datetime Objects"
   ]
  },
  {
   "cell_type": "code",
   "execution_count": 171,
   "metadata": {},
   "outputs": [
    {
     "data": {
      "text/plain": [
       "0    4\n",
       "1    4\n",
       "2    4\n",
       "3    4\n",
       "4    4\n",
       "Name: appt_day, dtype: int64"
      ]
     },
     "execution_count": 171,
     "metadata": {},
     "output_type": "execute_result"
    }
   ],
   "source": [
    "# change the sheduled_day column & appt_day columns to pandas datetime objects\n",
    "\n",
    "df.scheduled_day = pd.to_datetime(df.scheduled_day)\n",
    "df.appt_day = pd.to_datetime(df.appt_day)\n",
    "\n",
    "# check that this worked by returning the weekday using dt from the datetime module\n",
    "\n",
    "#df.scheduled_day.dt.weekday\n",
    "df.appt_day.dt.weekday[0:5]"
   ]
  },
  {
   "cell_type": "markdown",
   "metadata": {},
   "source": [
    "## Check for Duplicates & Null Values\n"
   ]
  },
  {
   "cell_type": "code",
   "execution_count": 6,
   "metadata": {},
   "outputs": [
    {
     "data": {
      "text/plain": [
       "False"
      ]
     },
     "execution_count": 6,
     "metadata": {},
     "output_type": "execute_result"
    }
   ],
   "source": [
    "df.duplicated().any()\n"
   ]
  },
  {
   "cell_type": "code",
   "execution_count": 7,
   "metadata": {},
   "outputs": [
    {
     "data": {
      "text/plain": [
       "patient_id       False\n",
       "appt_id          False\n",
       "gender           False\n",
       "scheduled_day    False\n",
       "appt_day         False\n",
       "age              False\n",
       "neighbourhood    False\n",
       "scholarship      False\n",
       "hipertension     False\n",
       "diabetes         False\n",
       "alcoholism       False\n",
       "handicap         False\n",
       "sms_rec          False\n",
       "no_show          False\n",
       "dtype: bool"
      ]
     },
     "execution_count": 7,
     "metadata": {},
     "output_type": "execute_result"
    }
   ],
   "source": [
    "df.isnull().any()"
   ]
  },
  {
   "cell_type": "markdown",
   "metadata": {},
   "source": [
    "## Check Categories and unique values"
   ]
  },
  {
   "cell_type": "code",
   "execution_count": 8,
   "metadata": {},
   "outputs": [
    {
     "data": {
      "text/plain": [
       "patient_id        62299\n",
       "appt_id          110527\n",
       "gender                2\n",
       "scheduled_day    103549\n",
       "appt_day             27\n",
       "age                 104\n",
       "neighbourhood        81\n",
       "scholarship           2\n",
       "hipertension          2\n",
       "diabetes              2\n",
       "alcoholism            2\n",
       "handicap              5\n",
       "sms_rec               2\n",
       "no_show               2\n",
       "dtype: int64"
      ]
     },
     "execution_count": 8,
     "metadata": {},
     "output_type": "execute_result"
    }
   ],
   "source": [
    "df.nunique()"
   ]
  },
  {
   "cell_type": "markdown",
   "metadata": {},
   "source": [
    "We can see that there are a significant number of duplicate patient IDs indicating that this dataset contains repeat appointments for some patients. I have chosen to exclude duplicate patient IDs because I want to try keep the sample as evenly weighted as possible. I am assuming that repeat patients would be more likely to attend appointments and since this is not a factor I have chosen to explore, I will exclude that data. \n",
    "\n",
    "https://pandas.pydata.org/pandas-docs/stable/generated/pandas.DataFrame.drop_duplicates.html\n"
   ]
  },
  {
   "cell_type": "code",
   "execution_count": 9,
   "metadata": {},
   "outputs": [
    {
     "data": {
      "text/plain": [
       "patient_id       62299\n",
       "appt_id          62299\n",
       "gender               2\n",
       "scheduled_day    60509\n",
       "appt_day            27\n",
       "age                104\n",
       "neighbourhood       81\n",
       "scholarship          2\n",
       "hipertension         2\n",
       "diabetes             2\n",
       "alcoholism           2\n",
       "handicap             5\n",
       "sms_rec              2\n",
       "no_show              2\n",
       "dtype: int64"
      ]
     },
     "execution_count": 9,
     "metadata": {},
     "output_type": "execute_result"
    }
   ],
   "source": [
    "# use pandas drop duplicates and subset patient_id column\n",
    "df.drop_duplicates(subset='patient_id', keep='first', inplace=True)\n",
    "\n",
    "# check that the drop worked\n",
    "df.nunique()\n",
    "\n",
    "# it did! "
   ]
  },
  {
   "cell_type": "markdown",
   "metadata": {},
   "source": [
    "## Look at a summary of the dataframe to see if there is anything strange\n",
    "The Age column is of particular interest"
   ]
  },
  {
   "cell_type": "code",
   "execution_count": 10,
   "metadata": {},
   "outputs": [
    {
     "data": {
      "text/html": [
       "<div>\n",
       "<style>\n",
       "    .dataframe thead tr:only-child th {\n",
       "        text-align: right;\n",
       "    }\n",
       "\n",
       "    .dataframe thead th {\n",
       "        text-align: left;\n",
       "    }\n",
       "\n",
       "    .dataframe tbody tr th {\n",
       "        vertical-align: top;\n",
       "    }\n",
       "</style>\n",
       "<table border=\"1\" class=\"dataframe\">\n",
       "  <thead>\n",
       "    <tr style=\"text-align: right;\">\n",
       "      <th></th>\n",
       "      <th>patient_id</th>\n",
       "      <th>appt_id</th>\n",
       "      <th>age</th>\n",
       "      <th>scholarship</th>\n",
       "      <th>hipertension</th>\n",
       "      <th>diabetes</th>\n",
       "      <th>alcoholism</th>\n",
       "      <th>handicap</th>\n",
       "      <th>sms_rec</th>\n",
       "    </tr>\n",
       "  </thead>\n",
       "  <tbody>\n",
       "    <tr>\n",
       "      <th>count</th>\n",
       "      <td>6.229900e+04</td>\n",
       "      <td>6.229900e+04</td>\n",
       "      <td>62299.000000</td>\n",
       "      <td>62299.000000</td>\n",
       "      <td>62299.000000</td>\n",
       "      <td>62299.000000</td>\n",
       "      <td>62299.000000</td>\n",
       "      <td>62299.000000</td>\n",
       "      <td>62299.000000</td>\n",
       "    </tr>\n",
       "    <tr>\n",
       "      <th>mean</th>\n",
       "      <td>1.471711e+14</td>\n",
       "      <td>5.664948e+06</td>\n",
       "      <td>36.704891</td>\n",
       "      <td>0.092907</td>\n",
       "      <td>0.196504</td>\n",
       "      <td>0.070884</td>\n",
       "      <td>0.024174</td>\n",
       "      <td>0.020113</td>\n",
       "      <td>0.327357</td>\n",
       "    </tr>\n",
       "    <tr>\n",
       "      <th>std</th>\n",
       "      <td>2.549091e+14</td>\n",
       "      <td>7.396146e+04</td>\n",
       "      <td>23.531372</td>\n",
       "      <td>0.290304</td>\n",
       "      <td>0.397357</td>\n",
       "      <td>0.256633</td>\n",
       "      <td>0.153590</td>\n",
       "      <td>0.155056</td>\n",
       "      <td>0.469252</td>\n",
       "    </tr>\n",
       "    <tr>\n",
       "      <th>min</th>\n",
       "      <td>3.921784e+04</td>\n",
       "      <td>5.030230e+06</td>\n",
       "      <td>-1.000000</td>\n",
       "      <td>0.000000</td>\n",
       "      <td>0.000000</td>\n",
       "      <td>0.000000</td>\n",
       "      <td>0.000000</td>\n",
       "      <td>0.000000</td>\n",
       "      <td>0.000000</td>\n",
       "    </tr>\n",
       "    <tr>\n",
       "      <th>25%</th>\n",
       "      <td>4.176937e+12</td>\n",
       "      <td>5.629610e+06</td>\n",
       "      <td>17.000000</td>\n",
       "      <td>0.000000</td>\n",
       "      <td>0.000000</td>\n",
       "      <td>0.000000</td>\n",
       "      <td>0.000000</td>\n",
       "      <td>0.000000</td>\n",
       "      <td>0.000000</td>\n",
       "    </tr>\n",
       "    <tr>\n",
       "      <th>50%</th>\n",
       "      <td>3.198866e+13</td>\n",
       "      <td>5.671715e+06</td>\n",
       "      <td>36.000000</td>\n",
       "      <td>0.000000</td>\n",
       "      <td>0.000000</td>\n",
       "      <td>0.000000</td>\n",
       "      <td>0.000000</td>\n",
       "      <td>0.000000</td>\n",
       "      <td>0.000000</td>\n",
       "    </tr>\n",
       "    <tr>\n",
       "      <th>75%</th>\n",
       "      <td>9.484809e+13</td>\n",
       "      <td>5.715461e+06</td>\n",
       "      <td>56.000000</td>\n",
       "      <td>0.000000</td>\n",
       "      <td>0.000000</td>\n",
       "      <td>0.000000</td>\n",
       "      <td>0.000000</td>\n",
       "      <td>0.000000</td>\n",
       "      <td>1.000000</td>\n",
       "    </tr>\n",
       "    <tr>\n",
       "      <th>max</th>\n",
       "      <td>9.999816e+14</td>\n",
       "      <td>5.790484e+06</td>\n",
       "      <td>115.000000</td>\n",
       "      <td>1.000000</td>\n",
       "      <td>1.000000</td>\n",
       "      <td>1.000000</td>\n",
       "      <td>1.000000</td>\n",
       "      <td>4.000000</td>\n",
       "      <td>1.000000</td>\n",
       "    </tr>\n",
       "  </tbody>\n",
       "</table>\n",
       "</div>"
      ],
      "text/plain": [
       "         patient_id       appt_id           age   scholarship  hipertension  \\\n",
       "count  6.229900e+04  6.229900e+04  62299.000000  62299.000000  62299.000000   \n",
       "mean   1.471711e+14  5.664948e+06     36.704891      0.092907      0.196504   \n",
       "std    2.549091e+14  7.396146e+04     23.531372      0.290304      0.397357   \n",
       "min    3.921784e+04  5.030230e+06     -1.000000      0.000000      0.000000   \n",
       "25%    4.176937e+12  5.629610e+06     17.000000      0.000000      0.000000   \n",
       "50%    3.198866e+13  5.671715e+06     36.000000      0.000000      0.000000   \n",
       "75%    9.484809e+13  5.715461e+06     56.000000      0.000000      0.000000   \n",
       "max    9.999816e+14  5.790484e+06    115.000000      1.000000      1.000000   \n",
       "\n",
       "           diabetes    alcoholism      handicap       sms_rec  \n",
       "count  62299.000000  62299.000000  62299.000000  62299.000000  \n",
       "mean       0.070884      0.024174      0.020113      0.327357  \n",
       "std        0.256633      0.153590      0.155056      0.469252  \n",
       "min        0.000000      0.000000      0.000000      0.000000  \n",
       "25%        0.000000      0.000000      0.000000      0.000000  \n",
       "50%        0.000000      0.000000      0.000000      0.000000  \n",
       "75%        0.000000      0.000000      0.000000      1.000000  \n",
       "max        1.000000      1.000000      4.000000      1.000000  "
      ]
     },
     "execution_count": 10,
     "metadata": {},
     "output_type": "execute_result"
    }
   ],
   "source": [
    "df.describe()"
   ]
  },
  {
   "cell_type": "markdown",
   "metadata": {},
   "source": [
    "We can see that the Age column has an odd values, the min is -1, and since there cannot be any negative ages, this will be removed."
   ]
  },
  {
   "cell_type": "code",
   "execution_count": 11,
   "metadata": {},
   "outputs": [
    {
     "data": {
      "text/html": [
       "<div>\n",
       "<style>\n",
       "    .dataframe thead tr:only-child th {\n",
       "        text-align: right;\n",
       "    }\n",
       "\n",
       "    .dataframe thead th {\n",
       "        text-align: left;\n",
       "    }\n",
       "\n",
       "    .dataframe tbody tr th {\n",
       "        vertical-align: top;\n",
       "    }\n",
       "</style>\n",
       "<table border=\"1\" class=\"dataframe\">\n",
       "  <thead>\n",
       "    <tr style=\"text-align: right;\">\n",
       "      <th></th>\n",
       "      <th>patient_id</th>\n",
       "      <th>appt_id</th>\n",
       "      <th>gender</th>\n",
       "      <th>scheduled_day</th>\n",
       "      <th>appt_day</th>\n",
       "      <th>age</th>\n",
       "      <th>neighbourhood</th>\n",
       "      <th>scholarship</th>\n",
       "      <th>hipertension</th>\n",
       "      <th>diabetes</th>\n",
       "      <th>alcoholism</th>\n",
       "      <th>handicap</th>\n",
       "      <th>sms_rec</th>\n",
       "      <th>no_show</th>\n",
       "    </tr>\n",
       "  </thead>\n",
       "  <tbody>\n",
       "    <tr>\n",
       "      <th>99832</th>\n",
       "      <td>4.659432e+14</td>\n",
       "      <td>5775010</td>\n",
       "      <td>F</td>\n",
       "      <td>2016-06-06 08:58:13</td>\n",
       "      <td>2016-06-06</td>\n",
       "      <td>-1</td>\n",
       "      <td>ROMÃO</td>\n",
       "      <td>0</td>\n",
       "      <td>0</td>\n",
       "      <td>0</td>\n",
       "      <td>0</td>\n",
       "      <td>0</td>\n",
       "      <td>0</td>\n",
       "      <td>No</td>\n",
       "    </tr>\n",
       "  </tbody>\n",
       "</table>\n",
       "</div>"
      ],
      "text/plain": [
       "         patient_id  appt_id gender       scheduled_day   appt_day  age  \\\n",
       "99832  4.659432e+14  5775010      F 2016-06-06 08:58:13 2016-06-06   -1   \n",
       "\n",
       "      neighbourhood  scholarship  hipertension  diabetes  alcoholism  \\\n",
       "99832         ROMÃO            0             0         0           0   \n",
       "\n",
       "       handicap  sms_rec no_show  \n",
       "99832         0        0      No  "
      ]
     },
     "execution_count": 11,
     "metadata": {},
     "output_type": "execute_result"
    }
   ],
   "source": [
    "# find the index of that records\n",
    "\n",
    "df.query('age ==-1')"
   ]
  },
  {
   "cell_type": "code",
   "execution_count": 12,
   "metadata": {},
   "outputs": [],
   "source": [
    "# remove the record\n",
    "\n",
    "df.drop([99832], inplace=True)\n"
   ]
  },
  {
   "cell_type": "code",
   "execution_count": 14,
   "metadata": {},
   "outputs": [],
   "source": [
    "# search for that record to check.\n",
    "df.loc[99832]"
   ]
  },
  {
   "cell_type": "code",
   "execution_count": 15,
   "metadata": {},
   "outputs": [
    {
     "data": {
      "text/html": [
       "<div>\n",
       "<style>\n",
       "    .dataframe thead tr:only-child th {\n",
       "        text-align: right;\n",
       "    }\n",
       "\n",
       "    .dataframe thead th {\n",
       "        text-align: left;\n",
       "    }\n",
       "\n",
       "    .dataframe tbody tr th {\n",
       "        vertical-align: top;\n",
       "    }\n",
       "</style>\n",
       "<table border=\"1\" class=\"dataframe\">\n",
       "  <thead>\n",
       "    <tr style=\"text-align: right;\">\n",
       "      <th></th>\n",
       "      <th>patient_id</th>\n",
       "      <th>appt_id</th>\n",
       "      <th>age</th>\n",
       "      <th>scholarship</th>\n",
       "      <th>hipertension</th>\n",
       "      <th>diabetes</th>\n",
       "      <th>alcoholism</th>\n",
       "      <th>handicap</th>\n",
       "      <th>sms_rec</th>\n",
       "    </tr>\n",
       "  </thead>\n",
       "  <tbody>\n",
       "    <tr>\n",
       "      <th>count</th>\n",
       "      <td>6.229800e+04</td>\n",
       "      <td>6.229800e+04</td>\n",
       "      <td>62298.000000</td>\n",
       "      <td>62298.000000</td>\n",
       "      <td>62298.000000</td>\n",
       "      <td>62298.000000</td>\n",
       "      <td>62298.000000</td>\n",
       "      <td>62298.000000</td>\n",
       "      <td>62298.000000</td>\n",
       "    </tr>\n",
       "    <tr>\n",
       "      <th>mean</th>\n",
       "      <td>1.471660e+14</td>\n",
       "      <td>5.664946e+06</td>\n",
       "      <td>36.705496</td>\n",
       "      <td>0.092908</td>\n",
       "      <td>0.196507</td>\n",
       "      <td>0.070885</td>\n",
       "      <td>0.024174</td>\n",
       "      <td>0.020113</td>\n",
       "      <td>0.327362</td>\n",
       "    </tr>\n",
       "    <tr>\n",
       "      <th>std</th>\n",
       "      <td>2.549080e+14</td>\n",
       "      <td>7.396074e+04</td>\n",
       "      <td>23.531076</td>\n",
       "      <td>0.290306</td>\n",
       "      <td>0.397360</td>\n",
       "      <td>0.256635</td>\n",
       "      <td>0.153591</td>\n",
       "      <td>0.155058</td>\n",
       "      <td>0.469254</td>\n",
       "    </tr>\n",
       "    <tr>\n",
       "      <th>min</th>\n",
       "      <td>3.921784e+04</td>\n",
       "      <td>5.030230e+06</td>\n",
       "      <td>0.000000</td>\n",
       "      <td>0.000000</td>\n",
       "      <td>0.000000</td>\n",
       "      <td>0.000000</td>\n",
       "      <td>0.000000</td>\n",
       "      <td>0.000000</td>\n",
       "      <td>0.000000</td>\n",
       "    </tr>\n",
       "    <tr>\n",
       "      <th>25%</th>\n",
       "      <td>4.176935e+12</td>\n",
       "      <td>5.629610e+06</td>\n",
       "      <td>17.000000</td>\n",
       "      <td>0.000000</td>\n",
       "      <td>0.000000</td>\n",
       "      <td>0.000000</td>\n",
       "      <td>0.000000</td>\n",
       "      <td>0.000000</td>\n",
       "      <td>0.000000</td>\n",
       "    </tr>\n",
       "    <tr>\n",
       "      <th>50%</th>\n",
       "      <td>3.198294e+13</td>\n",
       "      <td>5.671714e+06</td>\n",
       "      <td>36.000000</td>\n",
       "      <td>0.000000</td>\n",
       "      <td>0.000000</td>\n",
       "      <td>0.000000</td>\n",
       "      <td>0.000000</td>\n",
       "      <td>0.000000</td>\n",
       "      <td>0.000000</td>\n",
       "    </tr>\n",
       "    <tr>\n",
       "      <th>75%</th>\n",
       "      <td>9.484763e+13</td>\n",
       "      <td>5.715459e+06</td>\n",
       "      <td>56.000000</td>\n",
       "      <td>0.000000</td>\n",
       "      <td>0.000000</td>\n",
       "      <td>0.000000</td>\n",
       "      <td>0.000000</td>\n",
       "      <td>0.000000</td>\n",
       "      <td>1.000000</td>\n",
       "    </tr>\n",
       "    <tr>\n",
       "      <th>max</th>\n",
       "      <td>9.999816e+14</td>\n",
       "      <td>5.790484e+06</td>\n",
       "      <td>115.000000</td>\n",
       "      <td>1.000000</td>\n",
       "      <td>1.000000</td>\n",
       "      <td>1.000000</td>\n",
       "      <td>1.000000</td>\n",
       "      <td>4.000000</td>\n",
       "      <td>1.000000</td>\n",
       "    </tr>\n",
       "  </tbody>\n",
       "</table>\n",
       "</div>"
      ],
      "text/plain": [
       "         patient_id       appt_id           age   scholarship  hipertension  \\\n",
       "count  6.229800e+04  6.229800e+04  62298.000000  62298.000000  62298.000000   \n",
       "mean   1.471660e+14  5.664946e+06     36.705496      0.092908      0.196507   \n",
       "std    2.549080e+14  7.396074e+04     23.531076      0.290306      0.397360   \n",
       "min    3.921784e+04  5.030230e+06      0.000000      0.000000      0.000000   \n",
       "25%    4.176935e+12  5.629610e+06     17.000000      0.000000      0.000000   \n",
       "50%    3.198294e+13  5.671714e+06     36.000000      0.000000      0.000000   \n",
       "75%    9.484763e+13  5.715459e+06     56.000000      0.000000      0.000000   \n",
       "max    9.999816e+14  5.790484e+06    115.000000      1.000000      1.000000   \n",
       "\n",
       "           diabetes    alcoholism      handicap       sms_rec  \n",
       "count  62298.000000  62298.000000  62298.000000  62298.000000  \n",
       "mean       0.070885      0.024174      0.020113      0.327362  \n",
       "std        0.256635      0.153591      0.155058      0.469254  \n",
       "min        0.000000      0.000000      0.000000      0.000000  \n",
       "25%        0.000000      0.000000      0.000000      0.000000  \n",
       "50%        0.000000      0.000000      0.000000      0.000000  \n",
       "75%        0.000000      0.000000      0.000000      1.000000  \n",
       "max        1.000000      1.000000      4.000000      1.000000  "
      ]
     },
     "execution_count": 15,
     "metadata": {},
     "output_type": "execute_result"
    }
   ],
   "source": [
    "df.describe()"
   ]
  },
  {
   "cell_type": "code",
   "execution_count": 16,
   "metadata": {},
   "outputs": [
    {
     "data": {
      "text/plain": [
       "patient_id       31\n",
       "appt_id          31\n",
       "gender           31\n",
       "scheduled_day    31\n",
       "appt_day         31\n",
       "age              31\n",
       "neighbourhood    31\n",
       "scholarship      31\n",
       "hipertension     31\n",
       "diabetes         31\n",
       "alcoholism       31\n",
       "handicap         31\n",
       "sms_rec          31\n",
       "no_show          31\n",
       "dtype: int64"
      ]
     },
     "execution_count": 16,
     "metadata": {},
     "output_type": "execute_result"
    }
   ],
   "source": [
    "# The new min is now 0, check this against scholarship, since 0 aged patients would not have a scholarship. \n",
    "\n",
    "df.query('age == 0 & scholarship == 1').count()\n"
   ]
  },
  {
   "cell_type": "code",
   "execution_count": 17,
   "metadata": {},
   "outputs": [
    {
     "data": {
      "text/plain": [
       "patient_id       62267\n",
       "appt_id          62267\n",
       "gender               2\n",
       "scheduled_day    60480\n",
       "appt_day            27\n",
       "age                103\n",
       "neighbourhood       81\n",
       "scholarship          2\n",
       "hipertension         2\n",
       "diabetes             2\n",
       "alcoholism           2\n",
       "handicap             5\n",
       "sms_rec              2\n",
       "no_show              2\n",
       "dtype: int64"
      ]
     },
     "execution_count": 17,
     "metadata": {},
     "output_type": "execute_result"
    }
   ],
   "source": [
    "# there are 31 records that could safely be assumed to contain errors with information so these will be removed\n",
    "\n",
    "df.drop(df[(df['age'] == 0) & (df['scholarship'] == 1)].index, inplace=True)\n",
    "\n",
    "df.nunique()"
   ]
  },
  {
   "cell_type": "markdown",
   "metadata": {},
   "source": [
    "** Change the categories in no_show column for easier interpretation**\n",
    "The no_show column currently lists patients who DID attend an appointment as 'No' and patients who DID NOT attend as 'Yes'. I will reverse these categories to make the data easier to work with and understand."
   ]
  },
  {
   "cell_type": "code",
   "execution_count": 36,
   "metadata": {},
   "outputs": [
    {
     "data": {
      "text/plain": [
       "no_show\n",
       "No     50079\n",
       "Yes    12188\n",
       "Name: no_show, dtype: int64"
      ]
     },
     "execution_count": 36,
     "metadata": {},
     "output_type": "execute_result"
    }
   ],
   "source": [
    "#data['sex'].replace([0,1],['Female','Male'],inplace=True)\n",
    "\n",
    "df.groupby('no_show')['no_show'].count()\n"
   ]
  },
  {
   "cell_type": "code",
   "execution_count": 37,
   "metadata": {},
   "outputs": [
    {
     "data": {
      "text/plain": [
       "no_show\n",
       "N    12188\n",
       "Y    50079\n",
       "Name: no_show, dtype: int64"
      ]
     },
     "execution_count": 37,
     "metadata": {},
     "output_type": "execute_result"
    }
   ],
   "source": [
    "# replace and check if this worked\n",
    "df['no_show'].replace(['No','Yes'],['Y','N'],inplace=True)\n",
    "df.groupby('no_show')['no_show'].count()"
   ]
  },
  {
   "cell_type": "code",
   "execution_count": 172,
   "metadata": {},
   "outputs": [
    {
     "name": "stdout",
     "output_type": "stream",
     "text": [
      "<class 'pandas.core.frame.DataFrame'>\n",
      "Int64Index: 62267 entries, 0 to 110524\n",
      "Data columns (total 15 columns):\n",
      "patient_id       62267 non-null float64\n",
      "appt_id          62267 non-null int64\n",
      "gender           62267 non-null object\n",
      "scheduled_day    62267 non-null datetime64[ns]\n",
      "appt_day         62267 non-null datetime64[ns]\n",
      "age              62267 non-null int64\n",
      "neighbourhood    62267 non-null object\n",
      "scholarship      62267 non-null int64\n",
      "hipertension     62267 non-null int64\n",
      "diabetes         62267 non-null int64\n",
      "alcoholism       62267 non-null int64\n",
      "handicap         62267 non-null int64\n",
      "sms_rec          62267 non-null int64\n",
      "no_show          62267 non-null object\n",
      "weekday          62267 non-null int64\n",
      "dtypes: datetime64[ns](2), float64(1), int64(9), object(3)\n",
      "memory usage: 10.1+ MB\n"
     ]
    }
   ],
   "source": [
    "# check the dataset to confirm cleaning\n",
    "df.info()"
   ]
  },
  {
   "cell_type": "markdown",
   "metadata": {},
   "source": [
    "<a id='eda'></a>\n",
    "## Exploratory Data Analysis\n",
    "\n",
    "### Q1 - Which gender group is more likely to attend an appointment?"
   ]
  },
  {
   "cell_type": "code",
   "execution_count": 39,
   "metadata": {
    "scrolled": true
   },
   "outputs": [
    {
     "data": {
      "text/html": [
       "<div>\n",
       "<style>\n",
       "    .dataframe thead tr:only-child th {\n",
       "        text-align: right;\n",
       "    }\n",
       "\n",
       "    .dataframe thead th {\n",
       "        text-align: left;\n",
       "    }\n",
       "\n",
       "    .dataframe tbody tr th {\n",
       "        vertical-align: top;\n",
       "    }\n",
       "</style>\n",
       "<table border=\"1\" class=\"dataframe\">\n",
       "  <thead>\n",
       "    <tr style=\"text-align: right;\">\n",
       "      <th></th>\n",
       "      <th>patient_id</th>\n",
       "      <th>appt_id</th>\n",
       "      <th>gender</th>\n",
       "      <th>scheduled_day</th>\n",
       "      <th>appt_day</th>\n",
       "      <th>age</th>\n",
       "      <th>neighbourhood</th>\n",
       "      <th>scholarship</th>\n",
       "      <th>hipertension</th>\n",
       "      <th>diabetes</th>\n",
       "      <th>alcoholism</th>\n",
       "      <th>handicap</th>\n",
       "      <th>sms_rec</th>\n",
       "      <th>no_show</th>\n",
       "    </tr>\n",
       "  </thead>\n",
       "  <tbody>\n",
       "    <tr>\n",
       "      <th>0</th>\n",
       "      <td>2.987250e+13</td>\n",
       "      <td>5642903</td>\n",
       "      <td>F</td>\n",
       "      <td>2016-04-29 18:38:08</td>\n",
       "      <td>2016-04-29</td>\n",
       "      <td>62</td>\n",
       "      <td>JARDIM DA PENHA</td>\n",
       "      <td>0</td>\n",
       "      <td>1</td>\n",
       "      <td>0</td>\n",
       "      <td>0</td>\n",
       "      <td>0</td>\n",
       "      <td>0</td>\n",
       "      <td>Y</td>\n",
       "    </tr>\n",
       "    <tr>\n",
       "      <th>1</th>\n",
       "      <td>5.589978e+14</td>\n",
       "      <td>5642503</td>\n",
       "      <td>M</td>\n",
       "      <td>2016-04-29 16:08:27</td>\n",
       "      <td>2016-04-29</td>\n",
       "      <td>56</td>\n",
       "      <td>JARDIM DA PENHA</td>\n",
       "      <td>0</td>\n",
       "      <td>0</td>\n",
       "      <td>0</td>\n",
       "      <td>0</td>\n",
       "      <td>0</td>\n",
       "      <td>0</td>\n",
       "      <td>Y</td>\n",
       "    </tr>\n",
       "    <tr>\n",
       "      <th>2</th>\n",
       "      <td>4.262962e+12</td>\n",
       "      <td>5642549</td>\n",
       "      <td>F</td>\n",
       "      <td>2016-04-29 16:19:04</td>\n",
       "      <td>2016-04-29</td>\n",
       "      <td>62</td>\n",
       "      <td>MATA DA PRAIA</td>\n",
       "      <td>0</td>\n",
       "      <td>0</td>\n",
       "      <td>0</td>\n",
       "      <td>0</td>\n",
       "      <td>0</td>\n",
       "      <td>0</td>\n",
       "      <td>Y</td>\n",
       "    </tr>\n",
       "    <tr>\n",
       "      <th>3</th>\n",
       "      <td>8.679512e+11</td>\n",
       "      <td>5642828</td>\n",
       "      <td>F</td>\n",
       "      <td>2016-04-29 17:29:31</td>\n",
       "      <td>2016-04-29</td>\n",
       "      <td>8</td>\n",
       "      <td>PONTAL DE CAMBURI</td>\n",
       "      <td>0</td>\n",
       "      <td>0</td>\n",
       "      <td>0</td>\n",
       "      <td>0</td>\n",
       "      <td>0</td>\n",
       "      <td>0</td>\n",
       "      <td>Y</td>\n",
       "    </tr>\n",
       "    <tr>\n",
       "      <th>4</th>\n",
       "      <td>8.841186e+12</td>\n",
       "      <td>5642494</td>\n",
       "      <td>F</td>\n",
       "      <td>2016-04-29 16:07:23</td>\n",
       "      <td>2016-04-29</td>\n",
       "      <td>56</td>\n",
       "      <td>JARDIM DA PENHA</td>\n",
       "      <td>0</td>\n",
       "      <td>1</td>\n",
       "      <td>1</td>\n",
       "      <td>0</td>\n",
       "      <td>0</td>\n",
       "      <td>0</td>\n",
       "      <td>Y</td>\n",
       "    </tr>\n",
       "  </tbody>\n",
       "</table>\n",
       "</div>"
      ],
      "text/plain": [
       "     patient_id  appt_id gender       scheduled_day   appt_day  age  \\\n",
       "0  2.987250e+13  5642903      F 2016-04-29 18:38:08 2016-04-29   62   \n",
       "1  5.589978e+14  5642503      M 2016-04-29 16:08:27 2016-04-29   56   \n",
       "2  4.262962e+12  5642549      F 2016-04-29 16:19:04 2016-04-29   62   \n",
       "3  8.679512e+11  5642828      F 2016-04-29 17:29:31 2016-04-29    8   \n",
       "4  8.841186e+12  5642494      F 2016-04-29 16:07:23 2016-04-29   56   \n",
       "\n",
       "       neighbourhood  scholarship  hipertension  diabetes  alcoholism  \\\n",
       "0    JARDIM DA PENHA            0             1         0           0   \n",
       "1    JARDIM DA PENHA            0             0         0           0   \n",
       "2      MATA DA PRAIA            0             0         0           0   \n",
       "3  PONTAL DE CAMBURI            0             0         0           0   \n",
       "4    JARDIM DA PENHA            0             1         1           0   \n",
       "\n",
       "   handicap  sms_rec no_show  \n",
       "0         0        0       Y  \n",
       "1         0        0       Y  \n",
       "2         0        0       Y  \n",
       "3         0        0       Y  \n",
       "4         0        0       Y  "
      ]
     },
     "execution_count": 39,
     "metadata": {},
     "output_type": "execute_result"
    }
   ],
   "source": [
    "df.head()"
   ]
  },
  {
   "cell_type": "code",
   "execution_count": 40,
   "metadata": {},
   "outputs": [
    {
     "data": {
      "image/png": "[encoded data removed]",
      "text/plain": [
       "<matplotlib.figure.Figure at 0x11c4b8828>"
      ]
     },
     "metadata": {
      "image/png": {
       "height": 334,
       "width": 445
      }
     },
     "output_type": "display_data"
    }
   ],
   "source": [
    "# create M and F dataframes\n",
    "df_m = df.query('gender == \"M\"')\n",
    "df_f = df.query('gender == \"F\"')\n",
    "\n",
    "# set colours\n",
    "f_color = '#893b53', '#c55577'\n",
    "m_color = '#0081a3', '#4ca6be'\n",
    "\n",
    "# Set up plots\n",
    "fig, axes = plt.subplots(ncols=2, sharex = True, sharey = True, figsize = (7,5))\n",
    "fig.text(0.5, 0.04, 'Attendance', ha='center')\n",
    "axes[0].xaxis.label.set_visible(False)\n",
    "axes[1].xaxis.label.set_visible(False)\n",
    "\n",
    "# create plots\n",
    "df_m.groupby('no_show')['no_show'].count().plot(kind = 'bar', ax=axes[0], title='Males', color=m_color)\n",
    "df_f.groupby('no_show')['no_show'].count().plot(kind = 'bar', ax=axes[1], title='Females', color=f_color);\n",
    "\n",
    "# Set the x-axis label\n",
    "#ax.set_xlabel(\"Attendance\");\n"
   ]
  },
  {
   "cell_type": "code",
   "execution_count": 41,
   "metadata": {},
   "outputs": [
    {
     "name": "stdout",
     "output_type": "stream",
     "text": [
      "Male proportions = 29.0% attended\n",
      "Female proportions = 52.0% attended\n"
     ]
    }
   ],
   "source": [
    "# find proportion of Yes\n",
    "m_count = df.query('gender==\"M\" & no_show==\"Y\"')['no_show'].count()\n",
    "f_count = df.query('gender==\"F\" & no_show==\"Y\"')['no_show'].count()\n",
    "total = df['no_show'].count()\n",
    "\n",
    "m_prop = round(((m_count / total) *100),0)\n",
    "f_prop = round(((f_count / total) * 100),0)\n",
    "\n",
    "print('Male proportions = {}% attended\\nFemale proportions = {}% attended'.format(m_prop,f_prop))\n",
    "\n"
   ]
  },
  {
   "cell_type": "markdown",
   "metadata": {},
   "source": [
    "### Q2 -  Which gender group is more likely to attend an appointment if they received an SMS notification?"
   ]
  },
  {
   "cell_type": "code",
   "execution_count": 163,
   "metadata": {},
   "outputs": [],
   "source": [
    "# male and female attendance based on sms received\n",
    "\n",
    "# define males and females who received an sms subset\n",
    "df_m_y = df_m.query('sms_rec == 1')\n",
    "df_f_y = df_f.query('sms_rec == 1')\n"
   ]
  },
  {
   "cell_type": "code",
   "execution_count": 177,
   "metadata": {},
   "outputs": [
    {
     "name": "stdout",
     "output_type": "stream",
     "text": [
      "female\n",
      " Y    9905\n",
      "N    3637\n",
      "Name: no_show, dtype: int64\n"
     ]
    }
   ],
   "source": [
    "# Check counts\n",
    "\n",
    "#print('male\\n',df_m_y.no_show.value_counts())\n",
    "print('female\\n',df_f_y.no_show.value_counts())\n"
   ]
  },
  {
   "cell_type": "code",
   "execution_count": 154,
   "metadata": {},
   "outputs": [
    {
     "data": {
      "image/png": "[encoded data removed]",
      "text/plain": [
       "<matplotlib.figure.Figure at 0x11b312470>"
      ]
     },
     "metadata": {
      "image/png": {
       "height": 357,
       "width": 364
      }
     },
     "output_type": "display_data"
    }
   ],
   "source": [
    "m_color_sms = '#ea7b76','#4ca6be'\n",
    "f_color_sms = '#ea7b76','#c55577'\n",
    "\n",
    "df_m_y.groupby('no_show')['no_show'].count().plot(kind='pie', figsize=(6,6), \n",
    "                                                  colors = m_color_sms, title='Male attendance if SMS received',\n",
    "                                                  autopct='%1.0f%%');"
   ]
  },
  {
   "cell_type": "code",
   "execution_count": 155,
   "metadata": {},
   "outputs": [
    {
     "data": {
      "image/png": "[encoded data removed]",
      "text/plain": [
       "<matplotlib.figure.Figure at 0x120fea748>"
      ]
     },
     "metadata": {
      "image/png": {
       "height": 357,
       "width": 364
      }
     },
     "output_type": "display_data"
    }
   ],
   "source": [
    "df_f_y.groupby('no_show')['no_show'].count().plot(kind='pie', figsize=(6,6), \n",
    "                                                  colors = f_color_sms, title='Female attendance if SMS received',\n",
    "                                                  autopct='%1.0f%%');"
   ]
  },
  {
   "cell_type": "markdown",
   "metadata": {},
   "source": [
    "### Q3 -  Are patients more likely to attend an appointment based on a certain day of the week?"
   ]
  },
  {
   "cell_type": "code",
   "execution_count": 52,
   "metadata": {},
   "outputs": [
    {
     "data": {
      "text/html": [
       "<div>\n",
       "<style>\n",
       "    .dataframe thead tr:only-child th {\n",
       "        text-align: right;\n",
       "    }\n",
       "\n",
       "    .dataframe thead th {\n",
       "        text-align: left;\n",
       "    }\n",
       "\n",
       "    .dataframe tbody tr th {\n",
       "        vertical-align: top;\n",
       "    }\n",
       "</style>\n",
       "<table border=\"1\" class=\"dataframe\">\n",
       "  <thead>\n",
       "    <tr style=\"text-align: right;\">\n",
       "      <th></th>\n",
       "      <th>patient_id</th>\n",
       "      <th>appt_id</th>\n",
       "      <th>gender</th>\n",
       "      <th>scheduled_day</th>\n",
       "      <th>appt_day</th>\n",
       "      <th>age</th>\n",
       "      <th>neighbourhood</th>\n",
       "      <th>scholarship</th>\n",
       "      <th>hipertension</th>\n",
       "      <th>diabetes</th>\n",
       "      <th>alcoholism</th>\n",
       "      <th>handicap</th>\n",
       "      <th>sms_rec</th>\n",
       "      <th>no_show</th>\n",
       "      <th>weekday</th>\n",
       "    </tr>\n",
       "  </thead>\n",
       "  <tbody>\n",
       "    <tr>\n",
       "      <th>0</th>\n",
       "      <td>2.987250e+13</td>\n",
       "      <td>5642903</td>\n",
       "      <td>F</td>\n",
       "      <td>2016-04-29 18:38:08</td>\n",
       "      <td>2016-04-29</td>\n",
       "      <td>62</td>\n",
       "      <td>JARDIM DA PENHA</td>\n",
       "      <td>0</td>\n",
       "      <td>1</td>\n",
       "      <td>0</td>\n",
       "      <td>0</td>\n",
       "      <td>0</td>\n",
       "      <td>0</td>\n",
       "      <td>Y</td>\n",
       "      <td>4</td>\n",
       "    </tr>\n",
       "    <tr>\n",
       "      <th>1</th>\n",
       "      <td>5.589978e+14</td>\n",
       "      <td>5642503</td>\n",
       "      <td>M</td>\n",
       "      <td>2016-04-29 16:08:27</td>\n",
       "      <td>2016-04-29</td>\n",
       "      <td>56</td>\n",
       "      <td>JARDIM DA PENHA</td>\n",
       "      <td>0</td>\n",
       "      <td>0</td>\n",
       "      <td>0</td>\n",
       "      <td>0</td>\n",
       "      <td>0</td>\n",
       "      <td>0</td>\n",
       "      <td>Y</td>\n",
       "      <td>4</td>\n",
       "    </tr>\n",
       "    <tr>\n",
       "      <th>2</th>\n",
       "      <td>4.262962e+12</td>\n",
       "      <td>5642549</td>\n",
       "      <td>F</td>\n",
       "      <td>2016-04-29 16:19:04</td>\n",
       "      <td>2016-04-29</td>\n",
       "      <td>62</td>\n",
       "      <td>MATA DA PRAIA</td>\n",
       "      <td>0</td>\n",
       "      <td>0</td>\n",
       "      <td>0</td>\n",
       "      <td>0</td>\n",
       "      <td>0</td>\n",
       "      <td>0</td>\n",
       "      <td>Y</td>\n",
       "      <td>4</td>\n",
       "    </tr>\n",
       "    <tr>\n",
       "      <th>3</th>\n",
       "      <td>8.679512e+11</td>\n",
       "      <td>5642828</td>\n",
       "      <td>F</td>\n",
       "      <td>2016-04-29 17:29:31</td>\n",
       "      <td>2016-04-29</td>\n",
       "      <td>8</td>\n",
       "      <td>PONTAL DE CAMBURI</td>\n",
       "      <td>0</td>\n",
       "      <td>0</td>\n",
       "      <td>0</td>\n",
       "      <td>0</td>\n",
       "      <td>0</td>\n",
       "      <td>0</td>\n",
       "      <td>Y</td>\n",
       "      <td>4</td>\n",
       "    </tr>\n",
       "    <tr>\n",
       "      <th>4</th>\n",
       "      <td>8.841186e+12</td>\n",
       "      <td>5642494</td>\n",
       "      <td>F</td>\n",
       "      <td>2016-04-29 16:07:23</td>\n",
       "      <td>2016-04-29</td>\n",
       "      <td>56</td>\n",
       "      <td>JARDIM DA PENHA</td>\n",
       "      <td>0</td>\n",
       "      <td>1</td>\n",
       "      <td>1</td>\n",
       "      <td>0</td>\n",
       "      <td>0</td>\n",
       "      <td>0</td>\n",
       "      <td>Y</td>\n",
       "      <td>4</td>\n",
       "    </tr>\n",
       "  </tbody>\n",
       "</table>\n",
       "</div>"
      ],
      "text/plain": [
       "     patient_id  appt_id gender       scheduled_day   appt_day  age  \\\n",
       "0  2.987250e+13  5642903      F 2016-04-29 18:38:08 2016-04-29   62   \n",
       "1  5.589978e+14  5642503      M 2016-04-29 16:08:27 2016-04-29   56   \n",
       "2  4.262962e+12  5642549      F 2016-04-29 16:19:04 2016-04-29   62   \n",
       "3  8.679512e+11  5642828      F 2016-04-29 17:29:31 2016-04-29    8   \n",
       "4  8.841186e+12  5642494      F 2016-04-29 16:07:23 2016-04-29   56   \n",
       "\n",
       "       neighbourhood  scholarship  hipertension  diabetes  alcoholism  \\\n",
       "0    JARDIM DA PENHA            0             1         0           0   \n",
       "1    JARDIM DA PENHA            0             0         0           0   \n",
       "2      MATA DA PRAIA            0             0         0           0   \n",
       "3  PONTAL DE CAMBURI            0             0         0           0   \n",
       "4    JARDIM DA PENHA            0             1         1           0   \n",
       "\n",
       "   handicap  sms_rec no_show  weekday  \n",
       "0         0        0       Y        4  \n",
       "1         0        0       Y        4  \n",
       "2         0        0       Y        4  \n",
       "3         0        0       Y        4  \n",
       "4         0        0       Y        4  "
      ]
     },
     "execution_count": 52,
     "metadata": {},
     "output_type": "execute_result"
    }
   ],
   "source": [
    "# create a datetime index from the appointment day col\n",
    "temp = pd.DatetimeIndex(df['appt_day'])\n",
    "df['weekday'] = temp.weekday\n",
    "\n",
    "df.head()"
   ]
  },
  {
   "cell_type": "code",
   "execution_count": 112,
   "metadata": {
    "scrolled": true
   },
   "outputs": [
    {
     "data": {
      "image/png": "[encoded data removed]",
      "text/plain": [
       "<matplotlib.figure.Figure at 0x11f85a128>"
      ]
     },
     "metadata": {
      "image/png": {
       "height": 291,
       "width": 389
      }
     },
     "output_type": "display_data"
    }
   ],
   "source": [
    "# subset dataframe to only show patients who attended an appointment\n",
    "df_y = df.query('no_show == \"Y\"')\n",
    "# create labels\n",
    "x_labs = ['Mon', 'Tues', 'Wed', 'Thur', 'Fri','']\n",
    "\n",
    "# greate color set\n",
    "day_color = ['#DD6E42','#e8dab2','#4F6D7A','#C0D6DF','#cecece']\n",
    "\n",
    "# create plot\n",
    "ax = df_y.groupby('weekday')['weekday'].count().plot(kind='bar', \n",
    "                                                     title='Attendance by day of the week', \n",
    "                                                     color=day_color);\n",
    "# rename xticks\n",
    "ax.set_xticklabels(x_labs);\n",
    "plt.xlim(xmax=5);\n"
   ]
  },
  {
   "cell_type": "markdown",
   "metadata": {},
   "source": [
    "The above chart displays only information about patients who attended. Lets look at both categories."
   ]
  },
  {
   "cell_type": "code",
   "execution_count": 149,
   "metadata": {
    "scrolled": true
   },
   "outputs": [
    {
     "data": {
      "image/png": "[encoded data removed]",
      "text/plain": [
       "<matplotlib.figure.Figure at 0x1222b9c18>"
      ]
     },
     "metadata": {
      "image/png": {
       "height": 346,
       "width": 501
      }
     },
     "output_type": "display_data"
    }
   ],
   "source": [
    "# Group data by weekday and no_show, get the counts \n",
    "df_days = df.groupby(['weekday', 'no_show'])['gender'].count().unstack('no_show').plot(kind='bar', \n",
    "                                                                                       stacked=True, color=['#cd587d','#266f7f'], \n",
    "                                                                                       title='Attendance by Day of Week', \n",
    "                                                                                       figsize=(8,5));\n",
    "\n",
    "# limit x axis\n",
    "plt.xlim(xmax=5);\n",
    "\n",
    "# rename xticks\n",
    "df_days.set_xticklabels(x_labs);\n"
   ]
  },
  {
   "cell_type": "markdown",
   "metadata": {},
   "source": [
    "<a id='conclusions'></a>\n",
    "## Conclusions\n",
    "\n",
    "**Question 1**\n",
    "Which gender group is more likely to attend an appointment?\n",
    "\n",
    "**Question 2**\n",
    "Which gender group is more likely to attend an appointment if they received an SMS notification?\n",
    "\n",
    "**Question 3**\n",
    "Are patients more likely to attend an appointment based on a certain day of the week?\n",
    "\n",
    "\n",
    "### Q1 Conclusion - \n",
    "\n",
    "From Q1 plot, we can see that females are far more likely to attend appointments than males. The proportion of males who turned up for appointments is 29% of the overall while females it is 52%. The approach to answering this question was to subset the data into males and females then plot the counts according to the categories in the no_show column. \n",
    "\n",
    "One issue with this was that variable names in the no_show column were originally set to 'No' for attend and 'Yes' for miss an appointment. When displayed on a plot, these labels created confusion around the output. Labels were renamed to 'Y' for attend and 'N' for missed. Logically, this makes more sense. \n",
    "\n",
    "\n",
    "### Q2 Conclusion\n",
    "\n",
    "The Q2 plots clearly indicate that in both cases, patients, whether male or female are more likely to attend appointments if they receive an SMS notification beofre the appointment date. Interestingly, in both cases, the percentage share is exactly the same. The pie chart was chosen because it is a quick and easy way to represent the percentages of patients who attended and those who did one. One limitation is that two charts needed to be created for Male vs Female. I wanted to move away from Bar charts for this question and feel that these two charts present the information clearly. An alternative would be to create a stacked bar chart. \n",
    "\n",
    "### Q3 Conclusion\n",
    "\n",
    "\n",
    "Q3 plot 1 shows the counts of number of patients who attended per day of the week. We can see from this, that patients are more likely to attend their appointment if it is earlier in the week. Tuesday had the highest attendance rate while Thursday had the lowest. \n",
    "\n",
    "To take this a step further, I thought it would be best to stack the chart to include both patients who attended and those who did not. This gives a better overall indication of attendance by day of the week. \n",
    "\n",
    "To answer Q3, I began by creating a bar chart of the number of patients who attended per day. To do this, I created a 'weekday' variable based on the appt_day variable. The pandas DateTime object was useful in creating this. \n",
    "\n",
    "### Overall Conclusion\n",
    "\n",
    "Overall, we can see that women are more likely to attend Doctor appointments than men. Attendance is increased when patients receive sms notifications and when appointments are booked earlier in the week, it is more likely that patients will attend. "
   ]
  }
 ],
 "metadata": {
  "kernelspec": {
   "display_name": "Python 3",
   "language": "python",
   "name": "python3"
  },
  "language_info": {
   "codemirror_mode": {
    "name": "ipython",
    "version": 3
   },
   "file_extension": ".py",
   "mimetype": "text/x-python",
   "name": "python",
   "nbconvert_exporter": "python",
   "pygments_lexer": "ipython3",
   "version": "3.6.1"
  }
 },
 "nbformat": 4,
 "nbformat_minor": 2
}
