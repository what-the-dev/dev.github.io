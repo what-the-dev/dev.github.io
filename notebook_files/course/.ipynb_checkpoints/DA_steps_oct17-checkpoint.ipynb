{
 "cells": [
  {
   "cell_type": "markdown",
   "metadata": {},
   "source": [
    "## The Data Analysis Process\n",
    "\n",
    "### Assess Data by ask questions about the Data Sets\n",
    "\n",
    "Find descriptive stats and basically check and familiarise yourself with the data\n",
    "- Number of samples in data set\n",
    "- Number of columns\n",
    "- Number of rows\n",
    "- Are there duplicates?\n",
    "- What are the Datatypes?\n",
    "- Identify features with Missing Data\n",
    "- Number of non-null unique values for each feature\n",
    "- What the unique values are and the counts for each\n",
    "\n",
    "What are the variables and for multiple data sets, do these match?\n",
    "    - Are they formatted the same?\n",
    "    - Are they labelled the same?"
   ]
  },
  {
   "cell_type": "code",
   "execution_count": null,
   "metadata": {
    "collapsed": true
   },
   "outputs": [],
   "source": [
    "# import packages and data\n",
    "\n",
    "import pandas as pd\n",
    "import numpy as np\n",
    "\n",
    "# import data set\n",
    "df = pd.read_csv('file_name.csv')\n",
    "\n",
    "# cheack the head\n",
    "df.head()\n"
   ]
  },
  {
   "cell_type": "code",
   "execution_count": null,
   "metadata": {
    "collapsed": true
   },
   "outputs": [],
   "source": [
    "# find basic info about the data\n",
    "df.info()\n",
    "\n",
    "# find the row and col count\n",
    "df.shape\n",
    "\n",
    "# find descriptive stats\n",
    "df.describe()\n",
    "\n",
    "# check value counts for column (good for categorical data)\n",
    "df['col_name'].value_counts()"
   ]
  },
  {
   "cell_type": "markdown",
   "metadata": {},
   "source": [
    "## Check and Drop Duplicates"
   ]
  },
  {
   "cell_type": "code",
   "execution_count": null,
   "metadata": {
    "collapsed": true
   },
   "outputs": [],
   "source": [
    "# find duplicates\n",
    "df.duplicated().any()\n",
    "\n",
    "# find the number of duplicates\n",
    "df_08.duplicated().sum()\n",
    "\n",
    "# drop duplicates\n",
    "df.drop_duplicates(inplace=True)\n",
    "\n",
    "# recheck for duplicates\n",
    "print(df.duplicated().any())\n",
    "\n",
    "# find the rows and columns with non_duplicates\n",
    "df.shape"
   ]
  },
  {
   "cell_type": "markdown",
   "metadata": {},
   "source": [
    "## Count then Drop NA values"
   ]
  },
  {
   "cell_type": "code",
   "execution_count": null,
   "metadata": {
    "collapsed": true
   },
   "outputs": [],
   "source": [
    "# Check if there are any NAs - returns bool\n",
    "df_08.isnull().sum().any()\n",
    "\n",
    "# Count the number of NAs\n",
    "df.isnull().sum()\n"
   ]
  },
  {
   "cell_type": "code",
   "execution_count": null,
   "metadata": {
    "collapsed": true
   },
   "outputs": [],
   "source": [
    "# Or this way\n",
    "\n",
    "df = df.dropna()"
   ]
  },
  {
   "cell_type": "code",
   "execution_count": 2,
   "metadata": {
    "collapsed": true
   },
   "outputs": [],
   "source": [
    "# Identify rows with null values\n",
    "\n",
    "null_data = df_08[df_08.isnull().any(axis=1)]\n",
    "null_data.count()"
   ]
  },
  {
   "cell_type": "markdown",
   "metadata": {},
   "source": [
    "In Pandas, when you check information about data types, you will see they are listed as 'object' quite often. \n",
    "\n",
    "df.dtypes will show this.\n",
    "\n",
    "We can check the underlying ACTUAL data type like so\n"
   ]
  },
  {
   "cell_type": "code",
   "execution_count": null,
   "metadata": {
    "collapsed": true
   },
   "outputs": [],
   "source": [
    "\n",
    "type(df['col_name'][0])\n"
   ]
  },
  {
   "cell_type": "markdown",
   "metadata": {},
   "source": [
    "# Cleaning Column Labels\n",
    "\n",
    "1. Drop extraneous columns\n",
    "Drop features that aren't consistent (not present in both datasets) or aren't relevant to our questions. Use Pandas' drop function."
   ]
  },
  {
   "cell_type": "code",
   "execution_count": null,
   "metadata": {
    "collapsed": true
   },
   "outputs": [],
   "source": [
    "# Using iLoc\n",
    "\n",
    "# create the maximum values dataframe\n",
    "df_new = df.iloc[:, np.r_[0:2, 22:32]]\n",
    "\n",
    "# view the first few rows to confirm this was successful\n",
    "df_new.head()"
   ]
  },
  {
   "cell_type": "markdown",
   "metadata": {},
   "source": [
    "## Drop Columns"
   ]
  },
  {
   "cell_type": "code",
   "execution_count": null,
   "metadata": {
    "collapsed": true
   },
   "outputs": [],
   "source": [
    "# usind Pandas .drop function\n",
    "# https://pandas.pydata.org/pandas-docs/stable/generated/pandas.DataFrame.drop.html\n",
    "\n",
    "# drop columns - inplace=True will update the DF you are working on \n",
    "df.drop(['B', 'C'], axis=1, inplace=True)\n",
    "\n",
    "\n",
    "# or drop row by index\n",
    "df.drop([0, 1])"
   ]
  },
  {
   "cell_type": "markdown",
   "metadata": {},
   "source": [
    "## Rename Columns\n"
   ]
  },
  {
   "cell_type": "code",
   "execution_count": null,
   "metadata": {
    "collapsed": true
   },
   "outputs": [],
   "source": [
    "# assign new labels to columns in dataframe\n",
    "new_labels = [a,b,c,d]\n",
    "\n",
    "df.columns = new_labels\n",
    "\n",
    "# display first few rows of dataframe to confirm changes\n",
    "df.head()\n",
    "\n",
    "# replace spaces with underscores and lowercase labels for 2008 dataset\n",
    "df_08.rename(columns=lambda x: x.strip().lower().replace(\" \", \"_\"), inplace=True)\n"
   ]
  },
  {
   "cell_type": "code",
   "execution_count": null,
   "metadata": {
    "collapsed": true
   },
   "outputs": [],
   "source": [
    "# confirm column labels for 2008 and 2018 datasets are identical\n",
    "df_1.columns == df_2.columns"
   ]
  },
  {
   "cell_type": "code",
   "execution_count": null,
   "metadata": {
    "collapsed": true
   },
   "outputs": [],
   "source": [
    "# make sure they're all identical like this\n",
    "(df_1.columns == df_2.columns).all()"
   ]
  },
  {
   "cell_type": "markdown",
   "metadata": {},
   "source": [
    "## Fixing Data Types\n",
    "\n",
    "Extract string and convert to integer"
   ]
  },
  {
   "cell_type": "code",
   "execution_count": null,
   "metadata": {
    "collapsed": true
   },
   "outputs": [],
   "source": [
    "# Extract int from strings in x column\n",
    "df['x'] = df_08['x'].str.extract('(\\d+)', expand=True).astype(int)\n",
    "\n",
    "df.head(1)"
   ]
  },
  {
   "cell_type": "code",
   "execution_count": null,
   "metadata": {
    "collapsed": true
   },
   "outputs": [],
   "source": [
    "# convert floats in y column to int\n",
    "df['y'] =  df['y'].astype(int)"
   ]
  },
  {
   "cell_type": "markdown",
   "metadata": {},
   "source": [
    "## Working with datetime objects"
   ]
  },
  {
   "cell_type": "markdown",
   "metadata": {},
   "source": [
    "** converting a column into a PANDASdatetime object **\n",
    "\n",
    "https://pandas.pydata.org/pandas-docs/stable/api.html#datetimeindex\n"
   ]
  },
  {
   "cell_type": "code",
   "execution_count": null,
   "metadata": {
    "collapsed": true
   },
   "outputs": [],
   "source": [
    "df.date_column = pd.todatetime(df.date_column)\n",
    "\n",
    "# or\n",
    "\n",
    "df['date_column'] = pd.to_datetime(df['date_column'], format='%Y%m%d')"
   ]
  },
  {
   "cell_type": "code",
   "execution_count": null,
   "metadata": {
    "collapsed": true
   },
   "outputs": [],
   "source": [
    "# from a datetime objkect, return the weekday using dt from the datetime module\n",
    "df.date_column.dt.weekday\n",
    "\n",
    "# that is using dot notation, can also use string\n",
    "df['date_column'].dt.weekday\n",
    "\n",
    "# return the month\n",
    "df.date_column.dt.month"
   ]
  },
  {
   "cell_type": "markdown",
   "metadata": {},
   "source": [
    "This is useful because now we can append this numerical representation of the weekday or the month as a new column in our data frame"
   ]
  },
  {
   "cell_type": "code",
   "execution_count": null,
   "metadata": {
    "collapsed": true
   },
   "outputs": [],
   "source": [
    "df['weekday'] = weekday\n",
    "\n",
    "# or\n",
    "# .assign takes a copy and adds it to the df.\n",
    "\n",
    "df = df.assign(weekday=weekday)"
   ]
  },
  {
   "cell_type": "markdown",
   "metadata": {},
   "source": [
    "We don't need the numerical value, instead we want to use the actual name of the weeks we can do this by creating a dictionary of the weekday names and then using a function along with th .apply() merthod to asign to our dataframe"
   ]
  },
  {
   "cell_type": "code",
   "execution_count": null,
   "metadata": {
    "collapsed": true
   },
   "outputs": [],
   "source": [
    "weekday_names = ['Monday', 'Tuesday', 'Wednesday', 'Thursday', 'Friday', 'Saturday','Sunday']\n",
    "weekday_dict = {key:weekday_names[key] for key in range(7)}\n",
    "\n",
    "# write a function to retund the day of the week based on an integer input\n",
    "\n",
    "der day_of_week(input):\n",
    "    return weekday_dict[input]\n",
    "\n",
    "# use .apply() to apply a custom function to the weekdays column\n",
    "\n",
    "df.weekdays = df.weekdays.apply(day_of_week)"
   ]
  },
  {
   "cell_type": "markdown",
   "metadata": {},
   "source": [
    "You can also do this by setting the datetime column to the index and using the weekday_name from that.\n",
    "\n",
    "see this at 1:22:30\n",
    "https://www.youtube.com/watch?v=5XGycFIe8qE&feature=youtu.be"
   ]
  },
  {
   "cell_type": "code",
   "execution_count": null,
   "metadata": {
    "collapsed": true
   },
   "outputs": [],
   "source": [
    "df.index.weekday_name\n",
    "\n",
    "# this will return the weekday name form an index that is a datetime object\n"
   ]
  },
  {
   "cell_type": "markdown",
   "metadata": {},
   "source": [
    "## SORT BY INDEX"
   ]
  },
  {
   "cell_type": "code",
   "execution_count": null,
   "metadata": {
    "collapsed": true
   },
   "outputs": [],
   "source": [
    "# we want to sort our data frame based on an ordered list we created earlier(above) of weekday names\n",
    "\n",
    "# Need to use .loc to sory by index\n",
    "\n",
    "# group by weekdays\n",
    "weekday_counts = df.groupby('weekdays').count()\n",
    "\n",
    "# reorder the dataframe\n",
    "weekda_counts = wekkday_counts.loc[weekday_names]"
   ]
  },
  {
   "cell_type": "markdown",
   "metadata": {},
   "source": [
    "### convert string to float\n"
   ]
  },
  {
   "cell_type": "code",
   "execution_count": null,
   "metadata": {
    "collapsed": true
   },
   "outputs": [],
   "source": [
    "# convert strings to floats\n",
    "columns = ['col_1', 'col_2', 'col_3']\n",
    "\n",
    "for c in columns:\n",
    "    df1[c] = df1[c].astype(float)\n",
    "    df2[c] = df2[c].astype(float)"
   ]
  },
  {
   "cell_type": "markdown",
   "metadata": {},
   "source": [
    "\n",
    "### convert int to float"
   ]
  },
  {
   "cell_type": "code",
   "execution_count": null,
   "metadata": {
    "collapsed": true
   },
   "outputs": [],
   "source": [
    "# using astpye()\n",
    "df['col'] = df['col'].astype(float)\n",
    "\n",
    "# this may throw an error for example is you have 6/4\n",
    "\n",
    "# First, search for all of the rows with /\n",
    "n_df = df[df['col'].str.contains('/')]\n",
    "n_df"
   ]
  },
  {
   "cell_type": "markdown",
   "metadata": {},
   "source": [
    "## check conversions of two data sets"
   ]
  },
  {
   "cell_type": "code",
   "execution_count": null,
   "metadata": {
    "collapsed": true
   },
   "outputs": [],
   "source": [
    "df1.dtypes == df2.dtypes\n",
    "# will return a list of variables with true or false for data types"
   ]
  },
  {
   "cell_type": "markdown",
   "metadata": {},
   "source": [
    "## Save Your new Data Frame(s)"
   ]
  },
  {
   "cell_type": "code",
   "execution_count": null,
   "metadata": {
    "collapsed": true
   },
   "outputs": [],
   "source": [
    "# save new datasets\n",
    "df.to_csv('data.csv', index=False)\n"
   ]
  }
 ],
 "metadata": {
  "kernelspec": {
   "display_name": "Python 3",
   "language": "python",
   "name": "python3"
  },
  "language_info": {
   "codemirror_mode": {
    "name": "ipython",
    "version": 3
   },
   "file_extension": ".py",
   "mimetype": "text/x-python",
   "name": "python",
   "nbconvert_exporter": "python",
   "pygments_lexer": "ipython3",
   "version": "3.6.4"
  }
 },
 "nbformat": 4,
 "nbformat_minor": 2
}
